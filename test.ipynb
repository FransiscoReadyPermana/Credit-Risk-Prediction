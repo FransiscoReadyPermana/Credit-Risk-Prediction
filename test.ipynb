{
 "cells": [
  {
   "cell_type": "markdown",
   "metadata": {},
   "source": [
    "# Import package dan import data"
   ]
  },
  {
   "cell_type": "code",
   "execution_count": 1,
   "metadata": {},
   "outputs": [],
   "source": [
    "import numpy as np\n",
    "import pandas as pd\n",
    "import matplotlib.pyplot as plt\n",
    "import seaborn as sns\n",
    "\n",
    "from sklearn.model_selection import train_test_split\n",
    "from sklearn.pipeline import Pipeline\n",
    "from sklearn.compose import ColumnTransformer\n",
    "\n",
    "from jcopml.pipeline import num_pipe, cat_pipe\n",
    "from jcopml.utils import save_model, load_model\n",
    "from jcopml.plot import plot_missing_value\n",
    "from jcopml.feature_importance import mean_score_decrease"
   ]
  },
  {
   "cell_type": "code",
   "execution_count": 2,
   "metadata": {},
   "outputs": [
    {
     "name": "stderr",
     "output_type": "stream",
     "text": [
      "c:\\Users\\Toko Ferdi\\AppData\\Local\\Programs\\Python\\Python310\\lib\\site-packages\\IPython\\core\\interactiveshell.py:3457: DtypeWarning: Columns (20) have mixed types.Specify dtype option on import or set low_memory=False.\n",
      "  exec(code_obj, self.user_global_ns, self.user_ns)\n"
     ]
    },
    {
     "data": {
      "text/html": [
       "<div>\n",
       "<style scoped>\n",
       "    .dataframe tbody tr th:only-of-type {\n",
       "        vertical-align: middle;\n",
       "    }\n",
       "\n",
       "    .dataframe tbody tr th {\n",
       "        vertical-align: top;\n",
       "    }\n",
       "\n",
       "    .dataframe thead th {\n",
       "        text-align: right;\n",
       "    }\n",
       "</style>\n",
       "<table border=\"1\" class=\"dataframe\">\n",
       "  <thead>\n",
       "    <tr style=\"text-align: right;\">\n",
       "      <th></th>\n",
       "      <th>id</th>\n",
       "      <th>member_id</th>\n",
       "      <th>loan_amnt</th>\n",
       "      <th>funded_amnt</th>\n",
       "      <th>funded_amnt_inv</th>\n",
       "      <th>term</th>\n",
       "      <th>int_rate</th>\n",
       "      <th>installment</th>\n",
       "      <th>grade</th>\n",
       "      <th>sub_grade</th>\n",
       "      <th>...</th>\n",
       "      <th>total_bal_il</th>\n",
       "      <th>il_util</th>\n",
       "      <th>open_rv_12m</th>\n",
       "      <th>open_rv_24m</th>\n",
       "      <th>max_bal_bc</th>\n",
       "      <th>all_util</th>\n",
       "      <th>total_rev_hi_lim</th>\n",
       "      <th>inq_fi</th>\n",
       "      <th>total_cu_tl</th>\n",
       "      <th>inq_last_12m</th>\n",
       "    </tr>\n",
       "  </thead>\n",
       "  <tbody>\n",
       "    <tr>\n",
       "      <th>0</th>\n",
       "      <td>1077501</td>\n",
       "      <td>1296599</td>\n",
       "      <td>5000</td>\n",
       "      <td>5000</td>\n",
       "      <td>4975.0</td>\n",
       "      <td>36 months</td>\n",
       "      <td>10.65</td>\n",
       "      <td>162.87</td>\n",
       "      <td>B</td>\n",
       "      <td>B2</td>\n",
       "      <td>...</td>\n",
       "      <td>NaN</td>\n",
       "      <td>NaN</td>\n",
       "      <td>NaN</td>\n",
       "      <td>NaN</td>\n",
       "      <td>NaN</td>\n",
       "      <td>NaN</td>\n",
       "      <td>NaN</td>\n",
       "      <td>NaN</td>\n",
       "      <td>NaN</td>\n",
       "      <td>NaN</td>\n",
       "    </tr>\n",
       "    <tr>\n",
       "      <th>1</th>\n",
       "      <td>1077430</td>\n",
       "      <td>1314167</td>\n",
       "      <td>2500</td>\n",
       "      <td>2500</td>\n",
       "      <td>2500.0</td>\n",
       "      <td>60 months</td>\n",
       "      <td>15.27</td>\n",
       "      <td>59.83</td>\n",
       "      <td>C</td>\n",
       "      <td>C4</td>\n",
       "      <td>...</td>\n",
       "      <td>NaN</td>\n",
       "      <td>NaN</td>\n",
       "      <td>NaN</td>\n",
       "      <td>NaN</td>\n",
       "      <td>NaN</td>\n",
       "      <td>NaN</td>\n",
       "      <td>NaN</td>\n",
       "      <td>NaN</td>\n",
       "      <td>NaN</td>\n",
       "      <td>NaN</td>\n",
       "    </tr>\n",
       "    <tr>\n",
       "      <th>2</th>\n",
       "      <td>1077175</td>\n",
       "      <td>1313524</td>\n",
       "      <td>2400</td>\n",
       "      <td>2400</td>\n",
       "      <td>2400.0</td>\n",
       "      <td>36 months</td>\n",
       "      <td>15.96</td>\n",
       "      <td>84.33</td>\n",
       "      <td>C</td>\n",
       "      <td>C5</td>\n",
       "      <td>...</td>\n",
       "      <td>NaN</td>\n",
       "      <td>NaN</td>\n",
       "      <td>NaN</td>\n",
       "      <td>NaN</td>\n",
       "      <td>NaN</td>\n",
       "      <td>NaN</td>\n",
       "      <td>NaN</td>\n",
       "      <td>NaN</td>\n",
       "      <td>NaN</td>\n",
       "      <td>NaN</td>\n",
       "    </tr>\n",
       "    <tr>\n",
       "      <th>3</th>\n",
       "      <td>1076863</td>\n",
       "      <td>1277178</td>\n",
       "      <td>10000</td>\n",
       "      <td>10000</td>\n",
       "      <td>10000.0</td>\n",
       "      <td>36 months</td>\n",
       "      <td>13.49</td>\n",
       "      <td>339.31</td>\n",
       "      <td>C</td>\n",
       "      <td>C1</td>\n",
       "      <td>...</td>\n",
       "      <td>NaN</td>\n",
       "      <td>NaN</td>\n",
       "      <td>NaN</td>\n",
       "      <td>NaN</td>\n",
       "      <td>NaN</td>\n",
       "      <td>NaN</td>\n",
       "      <td>NaN</td>\n",
       "      <td>NaN</td>\n",
       "      <td>NaN</td>\n",
       "      <td>NaN</td>\n",
       "    </tr>\n",
       "    <tr>\n",
       "      <th>4</th>\n",
       "      <td>1075358</td>\n",
       "      <td>1311748</td>\n",
       "      <td>3000</td>\n",
       "      <td>3000</td>\n",
       "      <td>3000.0</td>\n",
       "      <td>60 months</td>\n",
       "      <td>12.69</td>\n",
       "      <td>67.79</td>\n",
       "      <td>B</td>\n",
       "      <td>B5</td>\n",
       "      <td>...</td>\n",
       "      <td>NaN</td>\n",
       "      <td>NaN</td>\n",
       "      <td>NaN</td>\n",
       "      <td>NaN</td>\n",
       "      <td>NaN</td>\n",
       "      <td>NaN</td>\n",
       "      <td>NaN</td>\n",
       "      <td>NaN</td>\n",
       "      <td>NaN</td>\n",
       "      <td>NaN</td>\n",
       "    </tr>\n",
       "  </tbody>\n",
       "</table>\n",
       "<p>5 rows × 74 columns</p>\n",
       "</div>"
      ],
      "text/plain": [
       "        id  member_id  loan_amnt  funded_amnt  funded_amnt_inv        term  \\\n",
       "0  1077501    1296599       5000         5000           4975.0   36 months   \n",
       "1  1077430    1314167       2500         2500           2500.0   60 months   \n",
       "2  1077175    1313524       2400         2400           2400.0   36 months   \n",
       "3  1076863    1277178      10000        10000          10000.0   36 months   \n",
       "4  1075358    1311748       3000         3000           3000.0   60 months   \n",
       "\n",
       "   int_rate  installment grade sub_grade  ... total_bal_il il_util  \\\n",
       "0     10.65       162.87     B        B2  ...          NaN     NaN   \n",
       "1     15.27        59.83     C        C4  ...          NaN     NaN   \n",
       "2     15.96        84.33     C        C5  ...          NaN     NaN   \n",
       "3     13.49       339.31     C        C1  ...          NaN     NaN   \n",
       "4     12.69        67.79     B        B5  ...          NaN     NaN   \n",
       "\n",
       "  open_rv_12m  open_rv_24m max_bal_bc all_util total_rev_hi_lim inq_fi  \\\n",
       "0         NaN          NaN        NaN      NaN              NaN    NaN   \n",
       "1         NaN          NaN        NaN      NaN              NaN    NaN   \n",
       "2         NaN          NaN        NaN      NaN              NaN    NaN   \n",
       "3         NaN          NaN        NaN      NaN              NaN    NaN   \n",
       "4         NaN          NaN        NaN      NaN              NaN    NaN   \n",
       "\n",
       "  total_cu_tl inq_last_12m  \n",
       "0         NaN          NaN  \n",
       "1         NaN          NaN  \n",
       "2         NaN          NaN  \n",
       "3         NaN          NaN  \n",
       "4         NaN          NaN  \n",
       "\n",
       "[5 rows x 74 columns]"
      ]
     },
     "execution_count": 2,
     "metadata": {},
     "output_type": "execute_result"
    }
   ],
   "source": [
    "data = pd.read_csv(\"../data/loan_data_2007_2014.csv\", index_col=0)\n",
    "df = data.copy()\n",
    "df.head()"
   ]
  },
  {
   "cell_type": "markdown",
   "metadata": {},
   "source": [
    "# membersihkan data dari missing value"
   ]
  },
  {
   "cell_type": "code",
   "execution_count": 3,
   "metadata": {},
   "outputs": [
    {
     "data": {
      "text/plain": [
       "<AxesSubplot:>"
      ]
     },
     "execution_count": 3,
     "metadata": {},
     "output_type": "execute_result"
    },
    {
     "data": {
      "image/png": "[encoded data removed]",
      "text/plain": [
       "<Figure size 1440x720 with 2 Axes>"
      ]
     },
     "metadata": {
      "needs_background": "light"
     },
     "output_type": "display_data"
    }
   ],
   "source": [
    "plt.figure(figsize=(20,10))\n",
    "sns.heatmap(df.isna().T,\n",
    "            cmap=\"YlGnBu\",\n",
    "            cbar_kws={'label': 'Missing Data'})"
   ]
  },
  {
   "cell_type": "code",
   "execution_count": 4,
   "metadata": {},
   "outputs": [
    {
     "data": {
      "text/plain": [
       "array([     0,  27588,  21008,      4, 340302,     20,     29, 250351,\n",
       "       403647,    340,    376, 227214,     42,    145, 367311, 466285,\n",
       "        70276], dtype=int64)"
      ]
     },
     "execution_count": 4,
     "metadata": {},
     "output_type": "execute_result"
    }
   ],
   "source": [
    "df.isna().sum().unique()"
   ]
  },
  {
   "cell_type": "code",
   "execution_count": 5,
   "metadata": {},
   "outputs": [
    {
     "data": {
      "text/plain": [
       "id                       0\n",
       "member_id                0\n",
       "loan_amnt                0\n",
       "funded_amnt              0\n",
       "funded_amnt_inv          0\n",
       "                     ...  \n",
       "all_util            466285\n",
       "total_rev_hi_lim     70276\n",
       "inq_fi              466285\n",
       "total_cu_tl         466285\n",
       "inq_last_12m        466285\n",
       "Length: 74, dtype: int64"
      ]
     },
     "execution_count": 5,
     "metadata": {},
     "output_type": "execute_result"
    }
   ],
   "source": [
    "df.isna().sum()"
   ]
  },
  {
   "cell_type": "code",
   "execution_count": 6,
   "metadata": {},
   "outputs": [
    {
     "data": {
      "text/plain": [
       "(466285, 74)"
      ]
     },
     "execution_count": 6,
     "metadata": {},
     "output_type": "execute_result"
    }
   ],
   "source": [
    "df.shape"
   ]
  },
  {
   "cell_type": "code",
   "execution_count": 7,
   "metadata": {},
   "outputs": [
    {
     "data": {
      "text/plain": [
       "((466285, 52),\n",
       " array([    0, 27588, 21008,     4,    20,    29,   340,   376,    42,\n",
       "          145, 70276], dtype=int64))"
      ]
     },
     "execution_count": 7,
     "metadata": {},
     "output_type": "execute_result"
    }
   ],
   "source": [
    "df = df[df.columns[(df.isna().sum() <= 200000)]]\n",
    "df.shape, df.isna().sum().unique()"
   ]
  },
  {
   "cell_type": "markdown",
   "metadata": {},
   "source": [
    "## mengatasi missing value intuk kolom emp title"
   ]
  },
  {
   "cell_type": "markdown",
   "metadata": {},
   "source": [
    "saya akan untuk meng impute kolom tersebut dengan nilai emp title yang lain dengan rata2 loan amt yang mirip dengan rata2 loan amt pada kolom yang terdapat missing value"
   ]
  },
  {
   "cell_type": "code",
   "execution_count": 8,
   "metadata": {},
   "outputs": [
    {
     "data": {
      "text/plain": [
       "Index(['emp_title'], dtype='object')"
      ]
     },
     "execution_count": 8,
     "metadata": {},
     "output_type": "execute_result"
    }
   ],
   "source": [
    "df.columns[(df.isna().sum() == 27588)]"
   ]
  },
  {
   "cell_type": "code",
   "execution_count": 9,
   "metadata": {},
   "outputs": [
    {
     "data": {
      "text/html": [
       "<div>\n",
       "<style scoped>\n",
       "    .dataframe tbody tr th:only-of-type {\n",
       "        vertical-align: middle;\n",
       "    }\n",
       "\n",
       "    .dataframe tbody tr th {\n",
       "        vertical-align: top;\n",
       "    }\n",
       "\n",
       "    .dataframe thead th {\n",
       "        text-align: right;\n",
       "    }\n",
       "</style>\n",
       "<table border=\"1\" class=\"dataframe\">\n",
       "  <thead>\n",
       "    <tr style=\"text-align: right;\">\n",
       "      <th></th>\n",
       "      <th>id</th>\n",
       "      <th>member_id</th>\n",
       "      <th>loan_amnt</th>\n",
       "      <th>funded_amnt</th>\n",
       "      <th>funded_amnt_inv</th>\n",
       "      <th>int_rate</th>\n",
       "      <th>installment</th>\n",
       "      <th>annual_inc</th>\n",
       "      <th>dti</th>\n",
       "      <th>delinq_2yrs</th>\n",
       "      <th>...</th>\n",
       "      <th>total_rec_late_fee</th>\n",
       "      <th>recoveries</th>\n",
       "      <th>collection_recovery_fee</th>\n",
       "      <th>last_pymnt_amnt</th>\n",
       "      <th>collections_12_mths_ex_med</th>\n",
       "      <th>policy_code</th>\n",
       "      <th>acc_now_delinq</th>\n",
       "      <th>tot_coll_amt</th>\n",
       "      <th>tot_cur_bal</th>\n",
       "      <th>total_rev_hi_lim</th>\n",
       "    </tr>\n",
       "  </thead>\n",
       "  <tbody>\n",
       "    <tr>\n",
       "      <th>count</th>\n",
       "      <td>2.758800e+04</td>\n",
       "      <td>2.758800e+04</td>\n",
       "      <td>27588.000000</td>\n",
       "      <td>27588.000000</td>\n",
       "      <td>27588.000000</td>\n",
       "      <td>27588.000000</td>\n",
       "      <td>27588.000000</td>\n",
       "      <td>2.758400e+04</td>\n",
       "      <td>27588.000000</td>\n",
       "      <td>27576.000000</td>\n",
       "      <td>...</td>\n",
       "      <td>27588.000000</td>\n",
       "      <td>27588.000000</td>\n",
       "      <td>27588.000000</td>\n",
       "      <td>27588.000000</td>\n",
       "      <td>27564.000000</td>\n",
       "      <td>27588.0</td>\n",
       "      <td>27576.000000</td>\n",
       "      <td>23250.000000</td>\n",
       "      <td>2.325000e+04</td>\n",
       "      <td>2.325000e+04</td>\n",
       "    </tr>\n",
       "    <tr>\n",
       "      <th>mean</th>\n",
       "      <td>1.226417e+07</td>\n",
       "      <td>1.374623e+07</td>\n",
       "      <td>12450.038966</td>\n",
       "      <td>12423.555531</td>\n",
       "      <td>12370.576206</td>\n",
       "      <td>13.882511</td>\n",
       "      <td>389.109667</td>\n",
       "      <td>5.993913e+04</td>\n",
       "      <td>17.355970</td>\n",
       "      <td>0.244996</td>\n",
       "      <td>...</td>\n",
       "      <td>0.686942</td>\n",
       "      <td>84.508664</td>\n",
       "      <td>8.952722</td>\n",
       "      <td>2167.769587</td>\n",
       "      <td>0.009287</td>\n",
       "      <td>1.0</td>\n",
       "      <td>0.003626</td>\n",
       "      <td>234.189978</td>\n",
       "      <td>1.052996e+05</td>\n",
       "      <td>2.873323e+04</td>\n",
       "    </tr>\n",
       "    <tr>\n",
       "      <th>std</th>\n",
       "      <td>1.054599e+07</td>\n",
       "      <td>1.130764e+07</td>\n",
       "      <td>8149.973629</td>\n",
       "      <td>8125.978976</td>\n",
       "      <td>8133.407097</td>\n",
       "      <td>4.337363</td>\n",
       "      <td>248.782936</td>\n",
       "      <td>4.950587e+04</td>\n",
       "      <td>8.391918</td>\n",
       "      <td>0.731293</td>\n",
       "      <td>...</td>\n",
       "      <td>5.546348</td>\n",
       "      <td>525.725315</td>\n",
       "      <td>95.506122</td>\n",
       "      <td>4467.842366</td>\n",
       "      <td>0.107009</td>\n",
       "      <td>0.0</td>\n",
       "      <td>0.063628</td>\n",
       "      <td>2027.407953</td>\n",
       "      <td>1.382322e+05</td>\n",
       "      <td>3.371894e+04</td>\n",
       "    </tr>\n",
       "    <tr>\n",
       "      <th>min</th>\n",
       "      <td>5.473400e+04</td>\n",
       "      <td>7.047300e+04</td>\n",
       "      <td>500.000000</td>\n",
       "      <td>500.000000</td>\n",
       "      <td>0.000000</td>\n",
       "      <td>5.420000</td>\n",
       "      <td>15.690000</td>\n",
       "      <td>2.000000e+03</td>\n",
       "      <td>0.000000</td>\n",
       "      <td>0.000000</td>\n",
       "      <td>...</td>\n",
       "      <td>0.000000</td>\n",
       "      <td>0.000000</td>\n",
       "      <td>0.000000</td>\n",
       "      <td>0.000000</td>\n",
       "      <td>0.000000</td>\n",
       "      <td>1.0</td>\n",
       "      <td>0.000000</td>\n",
       "      <td>0.000000</td>\n",
       "      <td>0.000000e+00</td>\n",
       "      <td>0.000000e+00</td>\n",
       "    </tr>\n",
       "    <tr>\n",
       "      <th>25%</th>\n",
       "      <td>3.630122e+06</td>\n",
       "      <td>4.319177e+06</td>\n",
       "      <td>6000.000000</td>\n",
       "      <td>6000.000000</td>\n",
       "      <td>6000.000000</td>\n",
       "      <td>10.990000</td>\n",
       "      <td>202.977500</td>\n",
       "      <td>3.200000e+04</td>\n",
       "      <td>10.910000</td>\n",
       "      <td>0.000000</td>\n",
       "      <td>...</td>\n",
       "      <td>0.000000</td>\n",
       "      <td>0.000000</td>\n",
       "      <td>0.000000</td>\n",
       "      <td>245.267500</td>\n",
       "      <td>0.000000</td>\n",
       "      <td>1.0</td>\n",
       "      <td>0.000000</td>\n",
       "      <td>0.000000</td>\n",
       "      <td>1.577825e+04</td>\n",
       "      <td>1.190000e+04</td>\n",
       "    </tr>\n",
       "    <tr>\n",
       "      <th>50%</th>\n",
       "      <td>9.270024e+06</td>\n",
       "      <td>1.102986e+07</td>\n",
       "      <td>10000.000000</td>\n",
       "      <td>10000.000000</td>\n",
       "      <td>10000.000000</td>\n",
       "      <td>13.670000</td>\n",
       "      <td>330.700000</td>\n",
       "      <td>4.945150e+04</td>\n",
       "      <td>17.020000</td>\n",
       "      <td>0.000000</td>\n",
       "      <td>...</td>\n",
       "      <td>0.000000</td>\n",
       "      <td>0.000000</td>\n",
       "      <td>0.000000</td>\n",
       "      <td>431.260000</td>\n",
       "      <td>0.000000</td>\n",
       "      <td>1.0</td>\n",
       "      <td>0.000000</td>\n",
       "      <td>0.000000</td>\n",
       "      <td>4.259400e+04</td>\n",
       "      <td>2.020000e+04</td>\n",
       "    </tr>\n",
       "    <tr>\n",
       "      <th>75%</th>\n",
       "      <td>1.855476e+07</td>\n",
       "      <td>2.064871e+07</td>\n",
       "      <td>17000.000000</td>\n",
       "      <td>17000.000000</td>\n",
       "      <td>17000.000000</td>\n",
       "      <td>16.692500</td>\n",
       "      <td>513.330000</td>\n",
       "      <td>7.152000e+04</td>\n",
       "      <td>23.460000</td>\n",
       "      <td>0.000000</td>\n",
       "      <td>...</td>\n",
       "      <td>0.000000</td>\n",
       "      <td>0.000000</td>\n",
       "      <td>0.000000</td>\n",
       "      <td>1059.977500</td>\n",
       "      <td>0.000000</td>\n",
       "      <td>1.0</td>\n",
       "      <td>0.000000</td>\n",
       "      <td>0.000000</td>\n",
       "      <td>1.580712e+05</td>\n",
       "      <td>3.470000e+04</td>\n",
       "    </tr>\n",
       "    <tr>\n",
       "      <th>max</th>\n",
       "      <td>3.784184e+07</td>\n",
       "      <td>4.060491e+07</td>\n",
       "      <td>35000.000000</td>\n",
       "      <td>35000.000000</td>\n",
       "      <td>35000.000000</td>\n",
       "      <td>26.060000</td>\n",
       "      <td>1409.990000</td>\n",
       "      <td>1.440000e+06</td>\n",
       "      <td>39.990000</td>\n",
       "      <td>13.000000</td>\n",
       "      <td>...</td>\n",
       "      <td>189.180000</td>\n",
       "      <td>23035.920000</td>\n",
       "      <td>6972.590000</td>\n",
       "      <td>35680.840000</td>\n",
       "      <td>6.000000</td>\n",
       "      <td>1.0</td>\n",
       "      <td>2.000000</td>\n",
       "      <td>126297.000000</td>\n",
       "      <td>3.437283e+06</td>\n",
       "      <td>1.998700e+06</td>\n",
       "    </tr>\n",
       "  </tbody>\n",
       "</table>\n",
       "<p>8 rows × 32 columns</p>\n",
       "</div>"
      ],
      "text/plain": [
       "                 id     member_id     loan_amnt   funded_amnt  \\\n",
       "count  2.758800e+04  2.758800e+04  27588.000000  27588.000000   \n",
       "mean   1.226417e+07  1.374623e+07  12450.038966  12423.555531   \n",
       "std    1.054599e+07  1.130764e+07   8149.973629   8125.978976   \n",
       "min    5.473400e+04  7.047300e+04    500.000000    500.000000   \n",
       "25%    3.630122e+06  4.319177e+06   6000.000000   6000.000000   \n",
       "50%    9.270024e+06  1.102986e+07  10000.000000  10000.000000   \n",
       "75%    1.855476e+07  2.064871e+07  17000.000000  17000.000000   \n",
       "max    3.784184e+07  4.060491e+07  35000.000000  35000.000000   \n",
       "\n",
       "       funded_amnt_inv      int_rate   installment    annual_inc  \\\n",
       "count     27588.000000  27588.000000  27588.000000  2.758400e+04   \n",
       "mean      12370.576206     13.882511    389.109667  5.993913e+04   \n",
       "std        8133.407097      4.337363    248.782936  4.950587e+04   \n",
       "min           0.000000      5.420000     15.690000  2.000000e+03   \n",
       "25%        6000.000000     10.990000    202.977500  3.200000e+04   \n",
       "50%       10000.000000     13.670000    330.700000  4.945150e+04   \n",
       "75%       17000.000000     16.692500    513.330000  7.152000e+04   \n",
       "max       35000.000000     26.060000   1409.990000  1.440000e+06   \n",
       "\n",
       "                dti   delinq_2yrs  ...  total_rec_late_fee    recoveries  \\\n",
       "count  27588.000000  27576.000000  ...        27588.000000  27588.000000   \n",
       "mean      17.355970      0.244996  ...            0.686942     84.508664   \n",
       "std        8.391918      0.731293  ...            5.546348    525.725315   \n",
       "min        0.000000      0.000000  ...            0.000000      0.000000   \n",
       "25%       10.910000      0.000000  ...            0.000000      0.000000   \n",
       "50%       17.020000      0.000000  ...            0.000000      0.000000   \n",
       "75%       23.460000      0.000000  ...            0.000000      0.000000   \n",
       "max       39.990000     13.000000  ...          189.180000  23035.920000   \n",
       "\n",
       "       collection_recovery_fee  last_pymnt_amnt  collections_12_mths_ex_med  \\\n",
       "count             27588.000000     27588.000000                27564.000000   \n",
       "mean                  8.952722      2167.769587                    0.009287   \n",
       "std                  95.506122      4467.842366                    0.107009   \n",
       "min                   0.000000         0.000000                    0.000000   \n",
       "25%                   0.000000       245.267500                    0.000000   \n",
       "50%                   0.000000       431.260000                    0.000000   \n",
       "75%                   0.000000      1059.977500                    0.000000   \n",
       "max                6972.590000     35680.840000                    6.000000   \n",
       "\n",
       "       policy_code  acc_now_delinq   tot_coll_amt   tot_cur_bal  \\\n",
       "count      27588.0    27576.000000   23250.000000  2.325000e+04   \n",
       "mean           1.0        0.003626     234.189978  1.052996e+05   \n",
       "std            0.0        0.063628    2027.407953  1.382322e+05   \n",
       "min            1.0        0.000000       0.000000  0.000000e+00   \n",
       "25%            1.0        0.000000       0.000000  1.577825e+04   \n",
       "50%            1.0        0.000000       0.000000  4.259400e+04   \n",
       "75%            1.0        0.000000       0.000000  1.580712e+05   \n",
       "max            1.0        2.000000  126297.000000  3.437283e+06   \n",
       "\n",
       "       total_rev_hi_lim  \n",
       "count      2.325000e+04  \n",
       "mean       2.873323e+04  \n",
       "std        3.371894e+04  \n",
       "min        0.000000e+00  \n",
       "25%        1.190000e+04  \n",
       "50%        2.020000e+04  \n",
       "75%        3.470000e+04  \n",
       "max        1.998700e+06  \n",
       "\n",
       "[8 rows x 32 columns]"
      ]
     },
     "execution_count": 9,
     "metadata": {},
     "output_type": "execute_result"
    }
   ],
   "source": [
    "# mencari rata2 dan maksimum dari kolom emp_title yang memiliki missing value\n",
    "df[df['emp_title'].isna()].describe()"
   ]
  },
  {
   "cell_type": "code",
   "execution_count": 10,
   "metadata": {},
   "outputs": [],
   "source": [
    "# saya menemukan bahwa nilai rata2 loat_amnt dari kolom yang memiliki missing value ada diangka 12450.038966 maka dari itu saya mencoba mencari pekerjaan lain yang memiliki nilai rata2 loan_amnt yang lebih besar dari 12000 dan lebih kecil dari 13000\n",
    "\n",
    "lower_bound = 12000\n",
    "upper_bound = 13000\n",
    "\n",
    "job = df.groupby('emp_title').filter(lambda x: ((x.loan_amnt >= lower_bound) & (x.loan_amnt <= upper_bound)).all())"
   ]
  },
  {
   "cell_type": "markdown",
   "metadata": {},
   "source": [
    "berikut adalah list pekerjaan lain yang memiliki rata2 loan_amnt lebih besar dari 12000 dan lebih kecil dari 13000"
   ]
  },
  {
   "cell_type": "code",
   "execution_count": 11,
   "metadata": {},
   "outputs": [
    {
     "data": {
      "text/plain": [
       "Cleary Gottlieb                          3\n",
       "Departmental Technician                  3\n",
       "Waffle House                             3\n",
       "DRVER                                    2\n",
       "derrick man                              2\n",
       "                                        ..\n",
       "FAA/Ontario Air Traffic Control Tower    1\n",
       "T White Trkg inc.                        1\n",
       "industrial threaded products             1\n",
       "Holsum Bakery of Tolleson, LLC           1\n",
       "Director of High Performance             1\n",
       "Name: emp_title, Length: 14057, dtype: int64"
      ]
     },
     "execution_count": 11,
     "metadata": {},
     "output_type": "execute_result"
    }
   ],
   "source": [
    "job['emp_title'].value_counts()"
   ]
  },
  {
   "cell_type": "markdown",
   "metadata": {},
   "source": [
    "karena hasil tersebut tidak menunjukkan adanya data yang berkumpul, maka dari itu saya memutuskan untuk meng impute kolom tersebut dengan Unknown"
   ]
  },
  {
   "cell_type": "code",
   "execution_count": 12,
   "metadata": {},
   "outputs": [],
   "source": [
    "df['emp_title'].fillna('Other', inplace=True)"
   ]
  },
  {
   "cell_type": "code",
   "execution_count": 13,
   "metadata": {},
   "outputs": [
    {
     "data": {
      "text/plain": [
       "id                                0\n",
       "member_id                         0\n",
       "loan_amnt                         0\n",
       "funded_amnt                       0\n",
       "funded_amnt_inv                   0\n",
       "term                              0\n",
       "int_rate                          0\n",
       "installment                       0\n",
       "grade                             0\n",
       "sub_grade                         0\n",
       "emp_title                         0\n",
       "emp_length                    21008\n",
       "home_ownership                    0\n",
       "annual_inc                        4\n",
       "verification_status               0\n",
       "issue_d                           0\n",
       "loan_status                       0\n",
       "pymnt_plan                        0\n",
       "url                               0\n",
       "purpose                           0\n",
       "title                            20\n",
       "zip_code                          0\n",
       "addr_state                        0\n",
       "dti                               0\n",
       "delinq_2yrs                      29\n",
       "earliest_cr_line                 29\n",
       "inq_last_6mths                   29\n",
       "open_acc                         29\n",
       "pub_rec                          29\n",
       "revol_bal                         0\n",
       "revol_util                      340\n",
       "total_acc                        29\n",
       "initial_list_status               0\n",
       "out_prncp                         0\n",
       "out_prncp_inv                     0\n",
       "total_pymnt                       0\n",
       "total_pymnt_inv                   0\n",
       "total_rec_prncp                   0\n",
       "total_rec_int                     0\n",
       "total_rec_late_fee                0\n",
       "recoveries                        0\n",
       "collection_recovery_fee           0\n",
       "last_pymnt_d                    376\n",
       "last_pymnt_amnt                   0\n",
       "last_credit_pull_d               42\n",
       "collections_12_mths_ex_med      145\n",
       "policy_code                       0\n",
       "application_type                  0\n",
       "acc_now_delinq                   29\n",
       "tot_coll_amt                  70276\n",
       "tot_cur_bal                   70276\n",
       "total_rev_hi_lim              70276\n",
       "dtype: int64"
      ]
     },
     "execution_count": 13,
     "metadata": {},
     "output_type": "execute_result"
    }
   ],
   "source": [
    "df.isna().sum()"
   ]
  },
  {
   "cell_type": "markdown",
   "metadata": {},
   "source": [
    "## mengatasi missing value intuk kolom emp title"
   ]
  },
  {
   "cell_type": "markdown",
   "metadata": {},
   "source": [
    "sama seperti sebelumnya, saya berniat untuk mengimpute nilai yang kosong dengan nilai lain yang memiliki rata amt amount yang mirip"
   ]
  },
  {
   "cell_type": "code",
   "execution_count": 14,
   "metadata": {},
   "outputs": [
    {
     "data": {
      "text/plain": [
       "10+ years    150049\n",
       "2 years       41373\n",
       "3 years       36596\n",
       "< 1 year      36265\n",
       "5 years       30774\n",
       "1 year        29622\n",
       "4 years       28023\n",
       "7 years       26180\n",
       "6 years       26112\n",
       "8 years       22395\n",
       "9 years       17888\n",
       "Name: emp_length, dtype: int64"
      ]
     },
     "execution_count": 14,
     "metadata": {},
     "output_type": "execute_result"
    }
   ],
   "source": [
    "#menihat bagaimana persebaran data pada kolom ini\n",
    "df.emp_length.value_counts()"
   ]
  },
  {
   "cell_type": "code",
   "execution_count": 15,
   "metadata": {},
   "outputs": [
    {
     "data": {
      "text/html": [
       "<div>\n",
       "<style scoped>\n",
       "    .dataframe tbody tr th:only-of-type {\n",
       "        vertical-align: middle;\n",
       "    }\n",
       "\n",
       "    .dataframe tbody tr th {\n",
       "        vertical-align: top;\n",
       "    }\n",
       "\n",
       "    .dataframe thead th {\n",
       "        text-align: right;\n",
       "    }\n",
       "</style>\n",
       "<table border=\"1\" class=\"dataframe\">\n",
       "  <thead>\n",
       "    <tr style=\"text-align: right;\">\n",
       "      <th></th>\n",
       "      <th>id</th>\n",
       "      <th>member_id</th>\n",
       "      <th>loan_amnt</th>\n",
       "      <th>funded_amnt</th>\n",
       "      <th>funded_amnt_inv</th>\n",
       "      <th>int_rate</th>\n",
       "      <th>installment</th>\n",
       "      <th>annual_inc</th>\n",
       "      <th>dti</th>\n",
       "      <th>delinq_2yrs</th>\n",
       "      <th>...</th>\n",
       "      <th>total_rec_late_fee</th>\n",
       "      <th>recoveries</th>\n",
       "      <th>collection_recovery_fee</th>\n",
       "      <th>last_pymnt_amnt</th>\n",
       "      <th>collections_12_mths_ex_med</th>\n",
       "      <th>policy_code</th>\n",
       "      <th>acc_now_delinq</th>\n",
       "      <th>tot_coll_amt</th>\n",
       "      <th>tot_cur_bal</th>\n",
       "      <th>total_rev_hi_lim</th>\n",
       "    </tr>\n",
       "  </thead>\n",
       "  <tbody>\n",
       "    <tr>\n",
       "      <th>count</th>\n",
       "      <td>2.100800e+04</td>\n",
       "      <td>2.100800e+04</td>\n",
       "      <td>21008.000000</td>\n",
       "      <td>21008.000000</td>\n",
       "      <td>21008.000000</td>\n",
       "      <td>21008.000000</td>\n",
       "      <td>21008.000000</td>\n",
       "      <td>21008.000000</td>\n",
       "      <td>21008.000000</td>\n",
       "      <td>21008.000000</td>\n",
       "      <td>...</td>\n",
       "      <td>21008.000000</td>\n",
       "      <td>21008.000000</td>\n",
       "      <td>21008.000000</td>\n",
       "      <td>21008.000000</td>\n",
       "      <td>21008.000000</td>\n",
       "      <td>21008.0</td>\n",
       "      <td>21008.000000</td>\n",
       "      <td>18947.000000</td>\n",
       "      <td>1.894700e+04</td>\n",
       "      <td>18947.000000</td>\n",
       "    </tr>\n",
       "    <tr>\n",
       "      <th>mean</th>\n",
       "      <td>1.453701e+07</td>\n",
       "      <td>1.621312e+07</td>\n",
       "      <td>11542.995526</td>\n",
       "      <td>11533.108816</td>\n",
       "      <td>11520.005556</td>\n",
       "      <td>13.966062</td>\n",
       "      <td>359.853819</td>\n",
       "      <td>49428.978403</td>\n",
       "      <td>18.451529</td>\n",
       "      <td>0.245621</td>\n",
       "      <td>...</td>\n",
       "      <td>0.483539</td>\n",
       "      <td>64.982890</td>\n",
       "      <td>7.405490</td>\n",
       "      <td>1981.774990</td>\n",
       "      <td>0.010901</td>\n",
       "      <td>1.0</td>\n",
       "      <td>0.003713</td>\n",
       "      <td>249.546577</td>\n",
       "      <td>9.261982e+04</td>\n",
       "      <td>26804.934079</td>\n",
       "    </tr>\n",
       "    <tr>\n",
       "      <th>std</th>\n",
       "      <td>1.090263e+07</td>\n",
       "      <td>1.161648e+07</td>\n",
       "      <td>7506.910922</td>\n",
       "      <td>7497.977584</td>\n",
       "      <td>7491.605228</td>\n",
       "      <td>4.295129</td>\n",
       "      <td>223.879042</td>\n",
       "      <td>30929.049883</td>\n",
       "      <td>8.348041</td>\n",
       "      <td>0.741836</td>\n",
       "      <td>...</td>\n",
       "      <td>4.430532</td>\n",
       "      <td>452.302013</td>\n",
       "      <td>69.043543</td>\n",
       "      <td>4137.360676</td>\n",
       "      <td>0.117191</td>\n",
       "      <td>0.0</td>\n",
       "      <td>0.064617</td>\n",
       "      <td>2038.887405</td>\n",
       "      <td>1.154398e+05</td>\n",
       "      <td>26749.654219</td>\n",
       "    </tr>\n",
       "    <tr>\n",
       "      <th>min</th>\n",
       "      <td>4.415470e+05</td>\n",
       "      <td>4.988400e+05</td>\n",
       "      <td>1000.000000</td>\n",
       "      <td>1000.000000</td>\n",
       "      <td>400.000000</td>\n",
       "      <td>5.420000</td>\n",
       "      <td>23.010000</td>\n",
       "      <td>3000.000000</td>\n",
       "      <td>0.000000</td>\n",
       "      <td>0.000000</td>\n",
       "      <td>...</td>\n",
       "      <td>0.000000</td>\n",
       "      <td>0.000000</td>\n",
       "      <td>0.000000</td>\n",
       "      <td>0.000000</td>\n",
       "      <td>0.000000</td>\n",
       "      <td>1.0</td>\n",
       "      <td>0.000000</td>\n",
       "      <td>0.000000</td>\n",
       "      <td>0.000000e+00</td>\n",
       "      <td>0.000000</td>\n",
       "    </tr>\n",
       "    <tr>\n",
       "      <th>25%</th>\n",
       "      <td>5.790457e+06</td>\n",
       "      <td>7.190107e+06</td>\n",
       "      <td>6000.000000</td>\n",
       "      <td>6000.000000</td>\n",
       "      <td>5950.000000</td>\n",
       "      <td>10.990000</td>\n",
       "      <td>194.662500</td>\n",
       "      <td>30000.000000</td>\n",
       "      <td>12.170000</td>\n",
       "      <td>0.000000</td>\n",
       "      <td>...</td>\n",
       "      <td>0.000000</td>\n",
       "      <td>0.000000</td>\n",
       "      <td>0.000000</td>\n",
       "      <td>231.400000</td>\n",
       "      <td>0.000000</td>\n",
       "      <td>1.0</td>\n",
       "      <td>0.000000</td>\n",
       "      <td>0.000000</td>\n",
       "      <td>1.423350e+04</td>\n",
       "      <td>11500.000000</td>\n",
       "    </tr>\n",
       "    <tr>\n",
       "      <th>50%</th>\n",
       "      <td>1.172809e+07</td>\n",
       "      <td>1.367827e+07</td>\n",
       "      <td>10000.000000</td>\n",
       "      <td>10000.000000</td>\n",
       "      <td>10000.000000</td>\n",
       "      <td>13.980000</td>\n",
       "      <td>315.265000</td>\n",
       "      <td>44500.000000</td>\n",
       "      <td>18.310000</td>\n",
       "      <td>0.000000</td>\n",
       "      <td>...</td>\n",
       "      <td>0.000000</td>\n",
       "      <td>0.000000</td>\n",
       "      <td>0.000000</td>\n",
       "      <td>388.060000</td>\n",
       "      <td>0.000000</td>\n",
       "      <td>1.0</td>\n",
       "      <td>0.000000</td>\n",
       "      <td>0.000000</td>\n",
       "      <td>3.796700e+04</td>\n",
       "      <td>19200.000000</td>\n",
       "    </tr>\n",
       "    <tr>\n",
       "      <th>75%</th>\n",
       "      <td>2.280513e+07</td>\n",
       "      <td>2.497789e+07</td>\n",
       "      <td>15075.000000</td>\n",
       "      <td>15000.000000</td>\n",
       "      <td>15000.000000</td>\n",
       "      <td>16.780000</td>\n",
       "      <td>477.115000</td>\n",
       "      <td>61503.250000</td>\n",
       "      <td>24.600000</td>\n",
       "      <td>0.000000</td>\n",
       "      <td>...</td>\n",
       "      <td>0.000000</td>\n",
       "      <td>0.000000</td>\n",
       "      <td>0.000000</td>\n",
       "      <td>881.225000</td>\n",
       "      <td>0.000000</td>\n",
       "      <td>1.0</td>\n",
       "      <td>0.000000</td>\n",
       "      <td>0.000000</td>\n",
       "      <td>1.420410e+05</td>\n",
       "      <td>32900.000000</td>\n",
       "    </tr>\n",
       "    <tr>\n",
       "      <th>max</th>\n",
       "      <td>3.784184e+07</td>\n",
       "      <td>4.060491e+07</td>\n",
       "      <td>35000.000000</td>\n",
       "      <td>35000.000000</td>\n",
       "      <td>35000.000000</td>\n",
       "      <td>26.060000</td>\n",
       "      <td>1368.750000</td>\n",
       "      <td>900000.000000</td>\n",
       "      <td>39.990000</td>\n",
       "      <td>13.000000</td>\n",
       "      <td>...</td>\n",
       "      <td>184.600000</td>\n",
       "      <td>23035.920000</td>\n",
       "      <td>4146.465600</td>\n",
       "      <td>35680.840000</td>\n",
       "      <td>6.000000</td>\n",
       "      <td>1.0</td>\n",
       "      <td>2.000000</td>\n",
       "      <td>126297.000000</td>\n",
       "      <td>1.500259e+06</td>\n",
       "      <td>649300.000000</td>\n",
       "    </tr>\n",
       "  </tbody>\n",
       "</table>\n",
       "<p>8 rows × 32 columns</p>\n",
       "</div>"
      ],
      "text/plain": [
       "                 id     member_id     loan_amnt   funded_amnt  \\\n",
       "count  2.100800e+04  2.100800e+04  21008.000000  21008.000000   \n",
       "mean   1.453701e+07  1.621312e+07  11542.995526  11533.108816   \n",
       "std    1.090263e+07  1.161648e+07   7506.910922   7497.977584   \n",
       "min    4.415470e+05  4.988400e+05   1000.000000   1000.000000   \n",
       "25%    5.790457e+06  7.190107e+06   6000.000000   6000.000000   \n",
       "50%    1.172809e+07  1.367827e+07  10000.000000  10000.000000   \n",
       "75%    2.280513e+07  2.497789e+07  15075.000000  15000.000000   \n",
       "max    3.784184e+07  4.060491e+07  35000.000000  35000.000000   \n",
       "\n",
       "       funded_amnt_inv      int_rate   installment     annual_inc  \\\n",
       "count     21008.000000  21008.000000  21008.000000   21008.000000   \n",
       "mean      11520.005556     13.966062    359.853819   49428.978403   \n",
       "std        7491.605228      4.295129    223.879042   30929.049883   \n",
       "min         400.000000      5.420000     23.010000    3000.000000   \n",
       "25%        5950.000000     10.990000    194.662500   30000.000000   \n",
       "50%       10000.000000     13.980000    315.265000   44500.000000   \n",
       "75%       15000.000000     16.780000    477.115000   61503.250000   \n",
       "max       35000.000000     26.060000   1368.750000  900000.000000   \n",
       "\n",
       "                dti   delinq_2yrs  ...  total_rec_late_fee    recoveries  \\\n",
       "count  21008.000000  21008.000000  ...        21008.000000  21008.000000   \n",
       "mean      18.451529      0.245621  ...            0.483539     64.982890   \n",
       "std        8.348041      0.741836  ...            4.430532    452.302013   \n",
       "min        0.000000      0.000000  ...            0.000000      0.000000   \n",
       "25%       12.170000      0.000000  ...            0.000000      0.000000   \n",
       "50%       18.310000      0.000000  ...            0.000000      0.000000   \n",
       "75%       24.600000      0.000000  ...            0.000000      0.000000   \n",
       "max       39.990000     13.000000  ...          184.600000  23035.920000   \n",
       "\n",
       "       collection_recovery_fee  last_pymnt_amnt  collections_12_mths_ex_med  \\\n",
       "count             21008.000000     21008.000000                21008.000000   \n",
       "mean                  7.405490      1981.774990                    0.010901   \n",
       "std                  69.043543      4137.360676                    0.117191   \n",
       "min                   0.000000         0.000000                    0.000000   \n",
       "25%                   0.000000       231.400000                    0.000000   \n",
       "50%                   0.000000       388.060000                    0.000000   \n",
       "75%                   0.000000       881.225000                    0.000000   \n",
       "max                4146.465600     35680.840000                    6.000000   \n",
       "\n",
       "       policy_code  acc_now_delinq   tot_coll_amt   tot_cur_bal  \\\n",
       "count      21008.0    21008.000000   18947.000000  1.894700e+04   \n",
       "mean           1.0        0.003713     249.546577  9.261982e+04   \n",
       "std            0.0        0.064617    2038.887405  1.154398e+05   \n",
       "min            1.0        0.000000       0.000000  0.000000e+00   \n",
       "25%            1.0        0.000000       0.000000  1.423350e+04   \n",
       "50%            1.0        0.000000       0.000000  3.796700e+04   \n",
       "75%            1.0        0.000000       0.000000  1.420410e+05   \n",
       "max            1.0        2.000000  126297.000000  1.500259e+06   \n",
       "\n",
       "       total_rev_hi_lim  \n",
       "count      18947.000000  \n",
       "mean       26804.934079  \n",
       "std        26749.654219  \n",
       "min            0.000000  \n",
       "25%        11500.000000  \n",
       "50%        19200.000000  \n",
       "75%        32900.000000  \n",
       "max       649300.000000  \n",
       "\n",
       "[8 rows x 32 columns]"
      ]
     },
     "execution_count": 15,
     "metadata": {},
     "output_type": "execute_result"
    }
   ],
   "source": [
    "#mencari rata2 amt amount dari kolom yang memiliki missing value\n",
    "df[df['emp_length'].isna()].describe()"
   ]
  },
  {
   "cell_type": "code",
   "execution_count": 16,
   "metadata": {},
   "outputs": [],
   "source": [
    "# membuat lower bound dan upper bound untuk kolom emp_length\n",
    "lower_bound = 11500\n",
    "upper_bound = 11600\n",
    "\n",
    "\n",
    "# melakukan filtering data berdasarkan lower bound dan upper bound\n",
    "length = df.groupby('emp_title').filter(lambda x: ((x.loan_amnt.mean() >= lower_bound) & (x.loan_amnt.mean() <= upper_bound)).all())"
   ]
  },
  {
   "cell_type": "code",
   "execution_count": 17,
   "metadata": {},
   "outputs": [
    {
     "data": {
      "text/plain": [
       "10+ years    745\n",
       "2 years      258\n",
       "< 1 year     232\n",
       "5 years      207\n",
       "3 years      196\n",
       "4 years      182\n",
       "6 years      177\n",
       "1 year       168\n",
       "7 years      151\n",
       "8 years      133\n",
       "9 years      112\n",
       "Name: emp_length, dtype: int64"
      ]
     },
     "execution_count": 17,
     "metadata": {},
     "output_type": "execute_result"
    }
   ],
   "source": [
    "# mendapatkan hasil bahwa berdasarkan hasil filtering sebelumnya didapat bahwa adanya data yang berkumpul yaitu ada di 10=years sehingga saya akan mengimpute 10=years ke kolom emp_length\n",
    "\n",
    "length.emp_length.value_counts()"
   ]
  },
  {
   "cell_type": "code",
   "execution_count": 18,
   "metadata": {},
   "outputs": [],
   "source": [
    "# mengimpute data ke kolom emp_length\n",
    "\n",
    "df['emp_length'].fillna('10+ years', inplace=True)"
   ]
  },
  {
   "cell_type": "code",
   "execution_count": 19,
   "metadata": {},
   "outputs": [
    {
     "data": {
      "text/plain": [
       "id                                0\n",
       "member_id                         0\n",
       "loan_amnt                         0\n",
       "funded_amnt                       0\n",
       "funded_amnt_inv                   0\n",
       "term                              0\n",
       "int_rate                          0\n",
       "installment                       0\n",
       "grade                             0\n",
       "sub_grade                         0\n",
       "emp_title                         0\n",
       "emp_length                        0\n",
       "home_ownership                    0\n",
       "annual_inc                        4\n",
       "verification_status               0\n",
       "issue_d                           0\n",
       "loan_status                       0\n",
       "pymnt_plan                        0\n",
       "url                               0\n",
       "purpose                           0\n",
       "title                            20\n",
       "zip_code                          0\n",
       "addr_state                        0\n",
       "dti                               0\n",
       "delinq_2yrs                      29\n",
       "earliest_cr_line                 29\n",
       "inq_last_6mths                   29\n",
       "open_acc                         29\n",
       "pub_rec                          29\n",
       "revol_bal                         0\n",
       "revol_util                      340\n",
       "total_acc                        29\n",
       "initial_list_status               0\n",
       "out_prncp                         0\n",
       "out_prncp_inv                     0\n",
       "total_pymnt                       0\n",
       "total_pymnt_inv                   0\n",
       "total_rec_prncp                   0\n",
       "total_rec_int                     0\n",
       "total_rec_late_fee                0\n",
       "recoveries                        0\n",
       "collection_recovery_fee           0\n",
       "last_pymnt_d                    376\n",
       "last_pymnt_amnt                   0\n",
       "last_credit_pull_d               42\n",
       "collections_12_mths_ex_med      145\n",
       "policy_code                       0\n",
       "application_type                  0\n",
       "acc_now_delinq                   29\n",
       "tot_coll_amt                  70276\n",
       "tot_cur_bal                   70276\n",
       "total_rev_hi_lim              70276\n",
       "dtype: int64"
      ]
     },
     "execution_count": 19,
     "metadata": {},
     "output_type": "execute_result"
    }
   ],
   "source": [
    "# mengecek apakah ada data yang memiliki missing value\n",
    "\n",
    "df.isna().sum()"
   ]
  },
  {
   "cell_type": "markdown",
   "metadata": {},
   "source": [
    "## mengatasi missing value pada kolom tot_coll_amt, tot_cur_bal, dan total_rev_hi_lim"
   ]
  },
  {
   "cell_type": "markdown",
   "metadata": {},
   "source": [
    "saya berniat untuk mengimpute kolomg tersebut dengan nilai data2 dari setiap kolom"
   ]
  },
  {
   "cell_type": "code",
   "execution_count": 20,
   "metadata": {},
   "outputs": [
    {
     "data": {
      "text/plain": [
       "(count    3.960090e+05\n",
       " mean     1.919135e+02\n",
       " std      1.463021e+04\n",
       " min      0.000000e+00\n",
       " 25%      0.000000e+00\n",
       " 50%      0.000000e+00\n",
       " 75%      0.000000e+00\n",
       " max      9.152545e+06\n",
       " Name: tot_coll_amt, dtype: float64,\n",
       " count    3.960090e+05\n",
       " mean     1.388017e+05\n",
       " std      1.521147e+05\n",
       " min      0.000000e+00\n",
       " 25%      2.861800e+04\n",
       " 50%      8.153900e+04\n",
       " 75%      2.089530e+05\n",
       " max      8.000078e+06\n",
       " Name: tot_cur_bal, dtype: float64,\n",
       " count    3.960090e+05\n",
       " mean     3.037909e+04\n",
       " std      3.724713e+04\n",
       " min      0.000000e+00\n",
       " 25%      1.350000e+04\n",
       " 50%      2.280000e+04\n",
       " 75%      3.790000e+04\n",
       " max      9.999999e+06\n",
       " Name: total_rev_hi_lim, dtype: float64)"
      ]
     },
     "execution_count": 20,
     "metadata": {},
     "output_type": "execute_result"
    }
   ],
   "source": [
    "# mencari rata2 dari setiap kolom\n",
    "\n",
    "df['tot_coll_amt'].describe(), df['tot_cur_bal'].describe(), df['total_rev_hi_lim'].describe()"
   ]
  },
  {
   "cell_type": "code",
   "execution_count": 21,
   "metadata": {},
   "outputs": [],
   "source": [
    "# mengimpute kolom tersebut dengan nilai rata2\n",
    "\n",
    "df['tot_coll_amt'].fillna(df['tot_coll_amt'].mean(), inplace=True)\n",
    "df['tot_cur_bal'].fillna(df['tot_cur_bal'].mean(), inplace=True)\n",
    "df['total_rev_hi_lim'].fillna(df['total_rev_hi_lim'].mean(), inplace=True)"
   ]
  },
  {
   "cell_type": "code",
   "execution_count": 22,
   "metadata": {},
   "outputs": [
    {
     "data": {
      "text/plain": [
       "(count    4.662850e+05\n",
       " mean     1.919135e+02\n",
       " std      1.348272e+04\n",
       " min      0.000000e+00\n",
       " 25%      0.000000e+00\n",
       " 50%      0.000000e+00\n",
       " 75%      6.200000e+01\n",
       " max      9.152545e+06\n",
       " Name: tot_coll_amt, dtype: float64,\n",
       " count    4.662850e+05\n",
       " mean     1.388017e+05\n",
       " std      1.401838e+05\n",
       " min      0.000000e+00\n",
       " 25%      3.361100e+04\n",
       " 50%      1.271600e+05\n",
       " 75%      1.849300e+05\n",
       " max      8.000078e+06\n",
       " Name: tot_cur_bal, dtype: float64,\n",
       " count    4.662850e+05\n",
       " mean     3.037909e+04\n",
       " std      3.432571e+04\n",
       " min      0.000000e+00\n",
       " 25%      1.500000e+04\n",
       " 50%      2.710000e+04\n",
       " 75%      3.430000e+04\n",
       " max      9.999999e+06\n",
       " Name: total_rev_hi_lim, dtype: float64)"
      ]
     },
     "execution_count": 22,
     "metadata": {},
     "output_type": "execute_result"
    }
   ],
   "source": [
    "# melihat hasil impute apakah nilai rata2 dari setiap kolom berubah banyak atau tidak\n",
    "\n",
    "df['tot_coll_amt'].describe(), df['tot_cur_bal'].describe(), df['total_rev_hi_lim'].describe()"
   ]
  },
  {
   "cell_type": "code",
   "execution_count": 23,
   "metadata": {},
   "outputs": [
    {
     "data": {
      "text/plain": [
       "id                              0\n",
       "member_id                       0\n",
       "loan_amnt                       0\n",
       "funded_amnt                     0\n",
       "funded_amnt_inv                 0\n",
       "term                            0\n",
       "int_rate                        0\n",
       "installment                     0\n",
       "grade                           0\n",
       "sub_grade                       0\n",
       "emp_title                       0\n",
       "emp_length                      0\n",
       "home_ownership                  0\n",
       "annual_inc                      4\n",
       "verification_status             0\n",
       "issue_d                         0\n",
       "loan_status                     0\n",
       "pymnt_plan                      0\n",
       "url                             0\n",
       "purpose                         0\n",
       "title                          20\n",
       "zip_code                        0\n",
       "addr_state                      0\n",
       "dti                             0\n",
       "delinq_2yrs                    29\n",
       "earliest_cr_line               29\n",
       "inq_last_6mths                 29\n",
       "open_acc                       29\n",
       "pub_rec                        29\n",
       "revol_bal                       0\n",
       "revol_util                    340\n",
       "total_acc                      29\n",
       "initial_list_status             0\n",
       "out_prncp                       0\n",
       "out_prncp_inv                   0\n",
       "total_pymnt                     0\n",
       "total_pymnt_inv                 0\n",
       "total_rec_prncp                 0\n",
       "total_rec_int                   0\n",
       "total_rec_late_fee              0\n",
       "recoveries                      0\n",
       "collection_recovery_fee         0\n",
       "last_pymnt_d                  376\n",
       "last_pymnt_amnt                 0\n",
       "last_credit_pull_d             42\n",
       "collections_12_mths_ex_med    145\n",
       "policy_code                     0\n",
       "application_type                0\n",
       "acc_now_delinq                 29\n",
       "tot_coll_amt                    0\n",
       "tot_cur_bal                     0\n",
       "total_rev_hi_lim                0\n",
       "dtype: int64"
      ]
     },
     "execution_count": 23,
     "metadata": {},
     "output_type": "execute_result"
    }
   ],
   "source": [
    "df.isna().sum()"
   ]
  },
  {
   "cell_type": "code",
   "execution_count": 24,
   "metadata": {},
   "outputs": [
    {
     "data": {
      "text/plain": [
       "array([  0,   4,  20,  29, 340, 376,  42, 145], dtype=int64)"
      ]
     },
     "execution_count": 24,
     "metadata": {},
     "output_type": "execute_result"
    }
   ],
   "source": [
    "df.isna().sum().unique()"
   ]
  },
  {
   "cell_type": "markdown",
   "metadata": {},
   "source": [
    "## sisa kolom yang memiliki missing value tidak akan saya impute melainkan akan saya drop"
   ]
  },
  {
   "cell_type": "code",
   "execution_count": 25,
   "metadata": {},
   "outputs": [],
   "source": [
    "df.dropna(inplace=True)"
   ]
  },
  {
   "cell_type": "code",
   "execution_count": 26,
   "metadata": {},
   "outputs": [
    {
     "data": {
      "text/plain": [
       "id                            0\n",
       "member_id                     0\n",
       "loan_amnt                     0\n",
       "funded_amnt                   0\n",
       "funded_amnt_inv               0\n",
       "term                          0\n",
       "int_rate                      0\n",
       "installment                   0\n",
       "grade                         0\n",
       "sub_grade                     0\n",
       "emp_title                     0\n",
       "emp_length                    0\n",
       "home_ownership                0\n",
       "annual_inc                    0\n",
       "verification_status           0\n",
       "issue_d                       0\n",
       "loan_status                   0\n",
       "pymnt_plan                    0\n",
       "url                           0\n",
       "purpose                       0\n",
       "title                         0\n",
       "zip_code                      0\n",
       "addr_state                    0\n",
       "dti                           0\n",
       "delinq_2yrs                   0\n",
       "earliest_cr_line              0\n",
       "inq_last_6mths                0\n",
       "open_acc                      0\n",
       "pub_rec                       0\n",
       "revol_bal                     0\n",
       "revol_util                    0\n",
       "total_acc                     0\n",
       "initial_list_status           0\n",
       "out_prncp                     0\n",
       "out_prncp_inv                 0\n",
       "total_pymnt                   0\n",
       "total_pymnt_inv               0\n",
       "total_rec_prncp               0\n",
       "total_rec_int                 0\n",
       "total_rec_late_fee            0\n",
       "recoveries                    0\n",
       "collection_recovery_fee       0\n",
       "last_pymnt_d                  0\n",
       "last_pymnt_amnt               0\n",
       "last_credit_pull_d            0\n",
       "collections_12_mths_ex_med    0\n",
       "policy_code                   0\n",
       "application_type              0\n",
       "acc_now_delinq                0\n",
       "tot_coll_amt                  0\n",
       "tot_cur_bal                   0\n",
       "total_rev_hi_lim              0\n",
       "dtype: int64"
      ]
     },
     "execution_count": 26,
     "metadata": {},
     "output_type": "execute_result"
    }
   ],
   "source": [
    "df.isna().sum()"
   ]
  },
  {
   "cell_type": "code",
   "execution_count": 27,
   "metadata": {},
   "outputs": [
    {
     "data": {
      "text/plain": [
       "<AxesSubplot:>"
      ]
     },
     "execution_count": 27,
     "metadata": {},
     "output_type": "execute_result"
    },
    {
     "data": {
      "image/png": "[encoded data removed]",
      "text/plain": [
       "<Figure size 1440x720 with 2 Axes>"
      ]
     },
     "metadata": {
      "needs_background": "light"
     },
     "output_type": "display_data"
    }
   ],
   "source": [
    "plt.figure(figsize=(20,10))\n",
    "sns.heatmap(df.isna().T,\n",
    "            cmap=\"YlGnBu\",\n",
    "            cbar_kws={'label': 'Missing Data'})"
   ]
  },
  {
   "cell_type": "markdown",
   "metadata": {},
   "source": [
    "# mempersempit value dari kolom target"
   ]
  },
  {
   "cell_type": "code",
   "execution_count": 28,
   "metadata": {},
   "outputs": [
    {
     "data": {
      "text/plain": [
       "array(['Fully Paid', 'Charged Off', 'Current', 'Default',\n",
       "       'Late (31-120 days)', 'In Grace Period', 'Late (16-30 days)',\n",
       "       'Does not meet the credit policy. Status:Fully Paid',\n",
       "       'Does not meet the credit policy. Status:Charged Off'],\n",
       "      dtype=object)"
      ]
     },
     "execution_count": 28,
     "metadata": {},
     "output_type": "execute_result"
    }
   ],
   "source": [
    "df['loan_status'].unique()"
   ]
  },
  {
   "cell_type": "code",
   "execution_count": 29,
   "metadata": {},
   "outputs": [
    {
     "data": {
      "text/plain": [
       "Current                                                224096\n",
       "Fully Paid                                             184524\n",
       "Charged Off                                             42056\n",
       "Late (31-120 days)                                       6895\n",
       "In Grace Period                                          3144\n",
       "Does not meet the credit policy. Status:Fully Paid       1913\n",
       "Late (16-30 days)                                        1217\n",
       "Default                                                   832\n",
       "Does not meet the credit policy. Status:Charged Off       725\n",
       "Name: loan_status, dtype: int64"
      ]
     },
     "execution_count": 29,
     "metadata": {},
     "output_type": "execute_result"
    }
   ],
   "source": [
    "df['loan_status'].value_counts()"
   ]
  },
  {
   "cell_type": "code",
   "execution_count": 30,
   "metadata": {},
   "outputs": [
    {
     "data": {
      "text/html": [
       "<div>\n",
       "<style scoped>\n",
       "    .dataframe tbody tr th:only-of-type {\n",
       "        vertical-align: middle;\n",
       "    }\n",
       "\n",
       "    .dataframe tbody tr th {\n",
       "        vertical-align: top;\n",
       "    }\n",
       "\n",
       "    .dataframe thead th {\n",
       "        text-align: right;\n",
       "    }\n",
       "</style>\n",
       "<table border=\"1\" class=\"dataframe\">\n",
       "  <thead>\n",
       "    <tr style=\"text-align: right;\">\n",
       "      <th></th>\n",
       "      <th>id</th>\n",
       "      <th>member_id</th>\n",
       "      <th>loan_amnt</th>\n",
       "      <th>funded_amnt</th>\n",
       "      <th>funded_amnt_inv</th>\n",
       "      <th>term</th>\n",
       "      <th>int_rate</th>\n",
       "      <th>installment</th>\n",
       "      <th>grade</th>\n",
       "      <th>sub_grade</th>\n",
       "      <th>...</th>\n",
       "      <th>last_pymnt_d</th>\n",
       "      <th>last_pymnt_amnt</th>\n",
       "      <th>last_credit_pull_d</th>\n",
       "      <th>collections_12_mths_ex_med</th>\n",
       "      <th>policy_code</th>\n",
       "      <th>application_type</th>\n",
       "      <th>acc_now_delinq</th>\n",
       "      <th>tot_coll_amt</th>\n",
       "      <th>tot_cur_bal</th>\n",
       "      <th>total_rev_hi_lim</th>\n",
       "    </tr>\n",
       "  </thead>\n",
       "  <tbody>\n",
       "    <tr>\n",
       "      <th>0</th>\n",
       "      <td>1077501</td>\n",
       "      <td>1296599</td>\n",
       "      <td>5000</td>\n",
       "      <td>5000</td>\n",
       "      <td>4975.0</td>\n",
       "      <td>36 months</td>\n",
       "      <td>10.65</td>\n",
       "      <td>162.87</td>\n",
       "      <td>B</td>\n",
       "      <td>B2</td>\n",
       "      <td>...</td>\n",
       "      <td>Jan-15</td>\n",
       "      <td>171.62</td>\n",
       "      <td>Jan-16</td>\n",
       "      <td>0.0</td>\n",
       "      <td>1</td>\n",
       "      <td>INDIVIDUAL</td>\n",
       "      <td>0.0</td>\n",
       "      <td>191.913517</td>\n",
       "      <td>138801.713385</td>\n",
       "      <td>30379.087771</td>\n",
       "    </tr>\n",
       "    <tr>\n",
       "      <th>1</th>\n",
       "      <td>1077430</td>\n",
       "      <td>1314167</td>\n",
       "      <td>2500</td>\n",
       "      <td>2500</td>\n",
       "      <td>2500.0</td>\n",
       "      <td>60 months</td>\n",
       "      <td>15.27</td>\n",
       "      <td>59.83</td>\n",
       "      <td>C</td>\n",
       "      <td>C4</td>\n",
       "      <td>...</td>\n",
       "      <td>Apr-13</td>\n",
       "      <td>119.66</td>\n",
       "      <td>Sep-13</td>\n",
       "      <td>0.0</td>\n",
       "      <td>1</td>\n",
       "      <td>INDIVIDUAL</td>\n",
       "      <td>0.0</td>\n",
       "      <td>191.913517</td>\n",
       "      <td>138801.713385</td>\n",
       "      <td>30379.087771</td>\n",
       "    </tr>\n",
       "    <tr>\n",
       "      <th>2</th>\n",
       "      <td>1077175</td>\n",
       "      <td>1313524</td>\n",
       "      <td>2400</td>\n",
       "      <td>2400</td>\n",
       "      <td>2400.0</td>\n",
       "      <td>36 months</td>\n",
       "      <td>15.96</td>\n",
       "      <td>84.33</td>\n",
       "      <td>C</td>\n",
       "      <td>C5</td>\n",
       "      <td>...</td>\n",
       "      <td>Jun-14</td>\n",
       "      <td>649.91</td>\n",
       "      <td>Jan-16</td>\n",
       "      <td>0.0</td>\n",
       "      <td>1</td>\n",
       "      <td>INDIVIDUAL</td>\n",
       "      <td>0.0</td>\n",
       "      <td>191.913517</td>\n",
       "      <td>138801.713385</td>\n",
       "      <td>30379.087771</td>\n",
       "    </tr>\n",
       "    <tr>\n",
       "      <th>3</th>\n",
       "      <td>1076863</td>\n",
       "      <td>1277178</td>\n",
       "      <td>10000</td>\n",
       "      <td>10000</td>\n",
       "      <td>10000.0</td>\n",
       "      <td>36 months</td>\n",
       "      <td>13.49</td>\n",
       "      <td>339.31</td>\n",
       "      <td>C</td>\n",
       "      <td>C1</td>\n",
       "      <td>...</td>\n",
       "      <td>Jan-15</td>\n",
       "      <td>357.48</td>\n",
       "      <td>Jan-15</td>\n",
       "      <td>0.0</td>\n",
       "      <td>1</td>\n",
       "      <td>INDIVIDUAL</td>\n",
       "      <td>0.0</td>\n",
       "      <td>191.913517</td>\n",
       "      <td>138801.713385</td>\n",
       "      <td>30379.087771</td>\n",
       "    </tr>\n",
       "    <tr>\n",
       "      <th>4</th>\n",
       "      <td>1075358</td>\n",
       "      <td>1311748</td>\n",
       "      <td>3000</td>\n",
       "      <td>3000</td>\n",
       "      <td>3000.0</td>\n",
       "      <td>60 months</td>\n",
       "      <td>12.69</td>\n",
       "      <td>67.79</td>\n",
       "      <td>B</td>\n",
       "      <td>B5</td>\n",
       "      <td>...</td>\n",
       "      <td>Jan-16</td>\n",
       "      <td>67.79</td>\n",
       "      <td>Jan-16</td>\n",
       "      <td>0.0</td>\n",
       "      <td>1</td>\n",
       "      <td>INDIVIDUAL</td>\n",
       "      <td>0.0</td>\n",
       "      <td>191.913517</td>\n",
       "      <td>138801.713385</td>\n",
       "      <td>30379.087771</td>\n",
       "    </tr>\n",
       "  </tbody>\n",
       "</table>\n",
       "<p>5 rows × 52 columns</p>\n",
       "</div>"
      ],
      "text/plain": [
       "        id  member_id  loan_amnt  funded_amnt  funded_amnt_inv        term  \\\n",
       "0  1077501    1296599       5000         5000           4975.0   36 months   \n",
       "1  1077430    1314167       2500         2500           2500.0   60 months   \n",
       "2  1077175    1313524       2400         2400           2400.0   36 months   \n",
       "3  1076863    1277178      10000        10000          10000.0   36 months   \n",
       "4  1075358    1311748       3000         3000           3000.0   60 months   \n",
       "\n",
       "   int_rate  installment grade sub_grade  ... last_pymnt_d last_pymnt_amnt  \\\n",
       "0     10.65       162.87     B        B2  ...       Jan-15          171.62   \n",
       "1     15.27        59.83     C        C4  ...       Apr-13          119.66   \n",
       "2     15.96        84.33     C        C5  ...       Jun-14          649.91   \n",
       "3     13.49       339.31     C        C1  ...       Jan-15          357.48   \n",
       "4     12.69        67.79     B        B5  ...       Jan-16           67.79   \n",
       "\n",
       "  last_credit_pull_d  collections_12_mths_ex_med policy_code application_type  \\\n",
       "0             Jan-16                         0.0           1       INDIVIDUAL   \n",
       "1             Sep-13                         0.0           1       INDIVIDUAL   \n",
       "2             Jan-16                         0.0           1       INDIVIDUAL   \n",
       "3             Jan-15                         0.0           1       INDIVIDUAL   \n",
       "4             Jan-16                         0.0           1       INDIVIDUAL   \n",
       "\n",
       "  acc_now_delinq tot_coll_amt    tot_cur_bal total_rev_hi_lim  \n",
       "0            0.0   191.913517  138801.713385     30379.087771  \n",
       "1            0.0   191.913517  138801.713385     30379.087771  \n",
       "2            0.0   191.913517  138801.713385     30379.087771  \n",
       "3            0.0   191.913517  138801.713385     30379.087771  \n",
       "4            0.0   191.913517  138801.713385     30379.087771  \n",
       "\n",
       "[5 rows x 52 columns]"
      ]
     },
     "execution_count": 30,
     "metadata": {},
     "output_type": "execute_result"
    }
   ],
   "source": [
    "# mengubah kolom loan_status menjadi binary\n",
    "\n",
    "mapping_loan_status = {\n",
    "    'Current': 'Good',\n",
    "    'Fully Paid': 'Good',\n",
    "    'Charged Off': 'Bad',\n",
    "    'Late (31-120 days)': 'Bad',\n",
    "    'In Grace Period': 'Good',\n",
    "    'Does not meet the credit policy. Status:Fully Paid': 'Good',\n",
    "    'Late (16-30 days)': 'Bad',\n",
    "    'Default': 'Good',\n",
    "    'Does not meet the credit policy. Status:Charged Off': 'Bad'\n",
    "}\n",
    "\n",
    "df['loan_status'] = df['loan_status'].map(mapping_loan_status)\n",
    "df.head()"
   ]
  },
  {
   "cell_type": "code",
   "execution_count": 31,
   "metadata": {},
   "outputs": [
    {
     "data": {
      "text/plain": [
       "Good    414509\n",
       "Bad      50893\n",
       "Name: loan_status, dtype: int64"
      ]
     },
     "execution_count": 31,
     "metadata": {},
     "output_type": "execute_result"
    }
   ],
   "source": [
    "df['loan_status'].value_counts()"
   ]
  },
  {
   "cell_type": "code",
   "execution_count": 32,
   "metadata": {},
   "outputs": [
    {
     "data": {
      "image/png": "[encoded data removed]",
      "text/plain": [
       "<Figure size 432x288 with 1 Axes>"
      ]
     },
     "metadata": {},
     "output_type": "display_data"
    }
   ],
   "source": [
    "# Pie chart, where the slices will be ordered and plotted counter-clockwise:\n",
    "labels = [ 'Good :)', 'Bad :(']\n",
    "explode = (0, 0.2)  # only \"explode\" the 2nd slice (i.e. 'Hogs')\n",
    "\n",
    "#define Seaborn color palette to use\n",
    "colors = sns.color_palette('bright')[0:6]\n",
    "\n",
    "fig1, ax1 = plt.subplots()\n",
    "ax1.pie(df['loan_status'].value_counts(), explode=explode, labels=labels, autopct='%1.1f%%',\n",
    "        shadow=True, startangle=100, colors=colors)\n",
    "ax1.axis('equal')  # Equal aspect ratio ensures that pie is drawn as a circle.\n",
    "\n",
    "plt.show()"
   ]
  },
  {
   "cell_type": "markdown",
   "metadata": {},
   "source": [
    "### menghapus kolom-kolom yang sejauh ini tidak akan digunakan menurut saya"
   ]
  },
  {
   "cell_type": "code",
   "execution_count": 33,
   "metadata": {},
   "outputs": [],
   "source": [
    "df.drop(columns=['id', 'member_id'], inplace=True)"
   ]
  },
  {
   "cell_type": "markdown",
   "metadata": {},
   "source": [
    "## Membagi kolom menjadi kolom numerik dan kategorik untuk memudahkan pemrosesan"
   ]
  },
  {
   "cell_type": "code",
   "execution_count": 34,
   "metadata": {},
   "outputs": [],
   "source": [
    "cat = df[df.dtypes[df.dtypes == 'object'].index]\n",
    "num = df[df.dtypes[df.dtypes != 'object'].index]"
   ]
  },
  {
   "cell_type": "code",
   "execution_count": 35,
   "metadata": {},
   "outputs": [
    {
     "data": {
      "text/plain": [
       "(Index(['term', 'grade', 'sub_grade', 'emp_title', 'emp_length',\n",
       "        'home_ownership', 'verification_status', 'issue_d', 'loan_status',\n",
       "        'pymnt_plan', 'url', 'purpose', 'title', 'zip_code', 'addr_state',\n",
       "        'earliest_cr_line', 'initial_list_status', 'last_pymnt_d',\n",
       "        'last_credit_pull_d', 'application_type'],\n",
       "       dtype='object'),\n",
       " Index(['loan_amnt', 'funded_amnt', 'funded_amnt_inv', 'int_rate',\n",
       "        'installment', 'annual_inc', 'dti', 'delinq_2yrs', 'inq_last_6mths',\n",
       "        'open_acc', 'pub_rec', 'revol_bal', 'revol_util', 'total_acc',\n",
       "        'out_prncp', 'out_prncp_inv', 'total_pymnt', 'total_pymnt_inv',\n",
       "        'total_rec_prncp', 'total_rec_int', 'total_rec_late_fee', 'recoveries',\n",
       "        'collection_recovery_fee', 'last_pymnt_amnt',\n",
       "        'collections_12_mths_ex_med', 'policy_code', 'acc_now_delinq',\n",
       "        'tot_coll_amt', 'tot_cur_bal', 'total_rev_hi_lim'],\n",
       "       dtype='object'))"
      ]
     },
     "execution_count": 35,
     "metadata": {},
     "output_type": "execute_result"
    }
   ],
   "source": [
    "cat.columns, num.columns"
   ]
  },
  {
   "cell_type": "markdown",
   "metadata": {},
   "source": [
    "## memproses kolom categoric"
   ]
  },
  {
   "cell_type": "code",
   "execution_count": 36,
   "metadata": {},
   "outputs": [
    {
     "data": {
      "text/html": [
       "<div>\n",
       "<style scoped>\n",
       "    .dataframe tbody tr th:only-of-type {\n",
       "        vertical-align: middle;\n",
       "    }\n",
       "\n",
       "    .dataframe tbody tr th {\n",
       "        vertical-align: top;\n",
       "    }\n",
       "\n",
       "    .dataframe thead th {\n",
       "        text-align: right;\n",
       "    }\n",
       "</style>\n",
       "<table border=\"1\" class=\"dataframe\">\n",
       "  <thead>\n",
       "    <tr style=\"text-align: right;\">\n",
       "      <th></th>\n",
       "      <th>term</th>\n",
       "      <th>grade</th>\n",
       "      <th>sub_grade</th>\n",
       "      <th>emp_title</th>\n",
       "      <th>emp_length</th>\n",
       "      <th>home_ownership</th>\n",
       "      <th>verification_status</th>\n",
       "      <th>issue_d</th>\n",
       "      <th>loan_status</th>\n",
       "      <th>pymnt_plan</th>\n",
       "      <th>url</th>\n",
       "      <th>purpose</th>\n",
       "      <th>title</th>\n",
       "      <th>zip_code</th>\n",
       "      <th>addr_state</th>\n",
       "      <th>earliest_cr_line</th>\n",
       "      <th>initial_list_status</th>\n",
       "      <th>last_pymnt_d</th>\n",
       "      <th>last_credit_pull_d</th>\n",
       "      <th>application_type</th>\n",
       "    </tr>\n",
       "  </thead>\n",
       "  <tbody>\n",
       "    <tr>\n",
       "      <th>0</th>\n",
       "      <td>36 months</td>\n",
       "      <td>B</td>\n",
       "      <td>B2</td>\n",
       "      <td>Other</td>\n",
       "      <td>10+ years</td>\n",
       "      <td>RENT</td>\n",
       "      <td>Verified</td>\n",
       "      <td>Dec-11</td>\n",
       "      <td>Good</td>\n",
       "      <td>n</td>\n",
       "      <td>https://www.lendingclub.com/browse/loanDetail....</td>\n",
       "      <td>credit_card</td>\n",
       "      <td>Computer</td>\n",
       "      <td>860xx</td>\n",
       "      <td>AZ</td>\n",
       "      <td>Jan-85</td>\n",
       "      <td>f</td>\n",
       "      <td>Jan-15</td>\n",
       "      <td>Jan-16</td>\n",
       "      <td>INDIVIDUAL</td>\n",
       "    </tr>\n",
       "    <tr>\n",
       "      <th>1</th>\n",
       "      <td>60 months</td>\n",
       "      <td>C</td>\n",
       "      <td>C4</td>\n",
       "      <td>Ryder</td>\n",
       "      <td>&lt; 1 year</td>\n",
       "      <td>RENT</td>\n",
       "      <td>Source Verified</td>\n",
       "      <td>Dec-11</td>\n",
       "      <td>Bad</td>\n",
       "      <td>n</td>\n",
       "      <td>https://www.lendingclub.com/browse/loanDetail....</td>\n",
       "      <td>car</td>\n",
       "      <td>bike</td>\n",
       "      <td>309xx</td>\n",
       "      <td>GA</td>\n",
       "      <td>Apr-99</td>\n",
       "      <td>f</td>\n",
       "      <td>Apr-13</td>\n",
       "      <td>Sep-13</td>\n",
       "      <td>INDIVIDUAL</td>\n",
       "    </tr>\n",
       "    <tr>\n",
       "      <th>2</th>\n",
       "      <td>36 months</td>\n",
       "      <td>C</td>\n",
       "      <td>C5</td>\n",
       "      <td>Other</td>\n",
       "      <td>10+ years</td>\n",
       "      <td>RENT</td>\n",
       "      <td>Not Verified</td>\n",
       "      <td>Dec-11</td>\n",
       "      <td>Good</td>\n",
       "      <td>n</td>\n",
       "      <td>https://www.lendingclub.com/browse/loanDetail....</td>\n",
       "      <td>small_business</td>\n",
       "      <td>real estate business</td>\n",
       "      <td>606xx</td>\n",
       "      <td>IL</td>\n",
       "      <td>Nov-01</td>\n",
       "      <td>f</td>\n",
       "      <td>Jun-14</td>\n",
       "      <td>Jan-16</td>\n",
       "      <td>INDIVIDUAL</td>\n",
       "    </tr>\n",
       "    <tr>\n",
       "      <th>3</th>\n",
       "      <td>36 months</td>\n",
       "      <td>C</td>\n",
       "      <td>C1</td>\n",
       "      <td>AIR RESOURCES BOARD</td>\n",
       "      <td>10+ years</td>\n",
       "      <td>RENT</td>\n",
       "      <td>Source Verified</td>\n",
       "      <td>Dec-11</td>\n",
       "      <td>Good</td>\n",
       "      <td>n</td>\n",
       "      <td>https://www.lendingclub.com/browse/loanDetail....</td>\n",
       "      <td>other</td>\n",
       "      <td>personel</td>\n",
       "      <td>917xx</td>\n",
       "      <td>CA</td>\n",
       "      <td>Feb-96</td>\n",
       "      <td>f</td>\n",
       "      <td>Jan-15</td>\n",
       "      <td>Jan-15</td>\n",
       "      <td>INDIVIDUAL</td>\n",
       "    </tr>\n",
       "    <tr>\n",
       "      <th>4</th>\n",
       "      <td>60 months</td>\n",
       "      <td>B</td>\n",
       "      <td>B5</td>\n",
       "      <td>University Medical Group</td>\n",
       "      <td>1 year</td>\n",
       "      <td>RENT</td>\n",
       "      <td>Source Verified</td>\n",
       "      <td>Dec-11</td>\n",
       "      <td>Good</td>\n",
       "      <td>n</td>\n",
       "      <td>https://www.lendingclub.com/browse/loanDetail....</td>\n",
       "      <td>other</td>\n",
       "      <td>Personal</td>\n",
       "      <td>972xx</td>\n",
       "      <td>OR</td>\n",
       "      <td>Jan-96</td>\n",
       "      <td>f</td>\n",
       "      <td>Jan-16</td>\n",
       "      <td>Jan-16</td>\n",
       "      <td>INDIVIDUAL</td>\n",
       "    </tr>\n",
       "  </tbody>\n",
       "</table>\n",
       "</div>"
      ],
      "text/plain": [
       "         term grade sub_grade                 emp_title emp_length  \\\n",
       "0   36 months     B        B2                     Other  10+ years   \n",
       "1   60 months     C        C4                     Ryder   < 1 year   \n",
       "2   36 months     C        C5                     Other  10+ years   \n",
       "3   36 months     C        C1       AIR RESOURCES BOARD  10+ years   \n",
       "4   60 months     B        B5  University Medical Group     1 year   \n",
       "\n",
       "  home_ownership verification_status issue_d loan_status pymnt_plan  \\\n",
       "0           RENT            Verified  Dec-11        Good          n   \n",
       "1           RENT     Source Verified  Dec-11         Bad          n   \n",
       "2           RENT        Not Verified  Dec-11        Good          n   \n",
       "3           RENT     Source Verified  Dec-11        Good          n   \n",
       "4           RENT     Source Verified  Dec-11        Good          n   \n",
       "\n",
       "                                                 url         purpose  \\\n",
       "0  https://www.lendingclub.com/browse/loanDetail....     credit_card   \n",
       "1  https://www.lendingclub.com/browse/loanDetail....             car   \n",
       "2  https://www.lendingclub.com/browse/loanDetail....  small_business   \n",
       "3  https://www.lendingclub.com/browse/loanDetail....           other   \n",
       "4  https://www.lendingclub.com/browse/loanDetail....           other   \n",
       "\n",
       "                  title zip_code addr_state earliest_cr_line  \\\n",
       "0              Computer    860xx         AZ           Jan-85   \n",
       "1                  bike    309xx         GA           Apr-99   \n",
       "2  real estate business    606xx         IL           Nov-01   \n",
       "3              personel    917xx         CA           Feb-96   \n",
       "4              Personal    972xx         OR           Jan-96   \n",
       "\n",
       "  initial_list_status last_pymnt_d last_credit_pull_d application_type  \n",
       "0                   f       Jan-15             Jan-16       INDIVIDUAL  \n",
       "1                   f       Apr-13             Sep-13       INDIVIDUAL  \n",
       "2                   f       Jun-14             Jan-16       INDIVIDUAL  \n",
       "3                   f       Jan-15             Jan-15       INDIVIDUAL  \n",
       "4                   f       Jan-16             Jan-16       INDIVIDUAL  "
      ]
     },
     "execution_count": 36,
     "metadata": {},
     "output_type": "execute_result"
    }
   ],
   "source": [
    "cat.head()"
   ]
  },
  {
   "cell_type": "markdown",
   "metadata": {},
   "source": [
    "setelah melihat isi dari data yang bersifat kategorik, saya menemukan bahwa ada beberapa kolom yang perlu dihapus yaitu kolom zip_code, issue_d, url, addr_state, earliest_cr_line, last_pymnt_d, last_credit_pull_d"
   ]
  },
  {
   "cell_type": "code",
   "execution_count": 37,
   "metadata": {},
   "outputs": [],
   "source": [
    "df.drop(columns=['zip_code', 'issue_d', 'url', 'addr_state', 'earliest_cr_line', 'last_pymnt_d', 'last_credit_pull_d'], inplace=True)"
   ]
  },
  {
   "cell_type": "code",
   "execution_count": 38,
   "metadata": {},
   "outputs": [
    {
     "data": {
      "text/plain": [
       "INDIVIDUAL    465402\n",
       "Name: application_type, dtype: int64"
      ]
     },
     "execution_count": 38,
     "metadata": {},
     "output_type": "execute_result"
    }
   ],
   "source": [
    "cat['application_type'].value_counts()"
   ]
  },
  {
   "cell_type": "markdown",
   "metadata": {},
   "source": [
    "kerena kolom application type hanya memiliki satu nilai maka dari itu kolom tersebut juga harus di hapus"
   ]
  },
  {
   "cell_type": "code",
   "execution_count": 39,
   "metadata": {},
   "outputs": [],
   "source": [
    "df.drop(columns=['application_type'], inplace=True)"
   ]
  },
  {
   "cell_type": "markdown",
   "metadata": {},
   "source": [
    "update nilai pada variabel kategorik"
   ]
  },
  {
   "cell_type": "code",
   "execution_count": 40,
   "metadata": {},
   "outputs": [],
   "source": [
    "cat = df[df.dtypes[df.dtypes == 'object'].index]"
   ]
  },
  {
   "cell_type": "code",
   "execution_count": 41,
   "metadata": {},
   "outputs": [
    {
     "data": {
      "text/html": [
       "<div>\n",
       "<style scoped>\n",
       "    .dataframe tbody tr th:only-of-type {\n",
       "        vertical-align: middle;\n",
       "    }\n",
       "\n",
       "    .dataframe tbody tr th {\n",
       "        vertical-align: top;\n",
       "    }\n",
       "\n",
       "    .dataframe thead th {\n",
       "        text-align: right;\n",
       "    }\n",
       "</style>\n",
       "<table border=\"1\" class=\"dataframe\">\n",
       "  <thead>\n",
       "    <tr style=\"text-align: right;\">\n",
       "      <th></th>\n",
       "      <th>term</th>\n",
       "      <th>grade</th>\n",
       "      <th>sub_grade</th>\n",
       "      <th>emp_title</th>\n",
       "      <th>emp_length</th>\n",
       "      <th>home_ownership</th>\n",
       "      <th>verification_status</th>\n",
       "      <th>loan_status</th>\n",
       "      <th>pymnt_plan</th>\n",
       "      <th>purpose</th>\n",
       "      <th>title</th>\n",
       "      <th>initial_list_status</th>\n",
       "    </tr>\n",
       "  </thead>\n",
       "  <tbody>\n",
       "    <tr>\n",
       "      <th>count</th>\n",
       "      <td>465402</td>\n",
       "      <td>465402</td>\n",
       "      <td>465402</td>\n",
       "      <td>465402</td>\n",
       "      <td>465402</td>\n",
       "      <td>465402</td>\n",
       "      <td>465402</td>\n",
       "      <td>465402</td>\n",
       "      <td>465402</td>\n",
       "      <td>465402</td>\n",
       "      <td>465402</td>\n",
       "      <td>465402</td>\n",
       "    </tr>\n",
       "    <tr>\n",
       "      <th>unique</th>\n",
       "      <td>2</td>\n",
       "      <td>7</td>\n",
       "      <td>35</td>\n",
       "      <td>205073</td>\n",
       "      <td>11</td>\n",
       "      <td>6</td>\n",
       "      <td>3</td>\n",
       "      <td>2</td>\n",
       "      <td>2</td>\n",
       "      <td>14</td>\n",
       "      <td>62879</td>\n",
       "      <td>2</td>\n",
       "    </tr>\n",
       "    <tr>\n",
       "      <th>top</th>\n",
       "      <td>36 months</td>\n",
       "      <td>B</td>\n",
       "      <td>B3</td>\n",
       "      <td>Other</td>\n",
       "      <td>10+ years</td>\n",
       "      <td>MORTGAGE</td>\n",
       "      <td>Verified</td>\n",
       "      <td>Good</td>\n",
       "      <td>n</td>\n",
       "      <td>debt_consolidation</td>\n",
       "      <td>Debt consolidation</td>\n",
       "      <td>f</td>\n",
       "    </tr>\n",
       "    <tr>\n",
       "      <th>freq</th>\n",
       "      <td>337250</td>\n",
       "      <td>136769</td>\n",
       "      <td>31654</td>\n",
       "      <td>27508</td>\n",
       "      <td>170814</td>\n",
       "      <td>235539</td>\n",
       "      <td>167792</td>\n",
       "      <td>414509</td>\n",
       "      <td>465393</td>\n",
       "      <td>273815</td>\n",
       "      <td>163888</td>\n",
       "      <td>302325</td>\n",
       "    </tr>\n",
       "  </tbody>\n",
       "</table>\n",
       "</div>"
      ],
      "text/plain": [
       "              term   grade sub_grade emp_title emp_length home_ownership  \\\n",
       "count       465402  465402    465402    465402     465402         465402   \n",
       "unique           2       7        35    205073         11              6   \n",
       "top      36 months       B        B3     Other  10+ years       MORTGAGE   \n",
       "freq        337250  136769     31654     27508     170814         235539   \n",
       "\n",
       "       verification_status loan_status pymnt_plan             purpose  \\\n",
       "count               465402      465402     465402              465402   \n",
       "unique                   3           2          2                  14   \n",
       "top               Verified        Good          n  debt_consolidation   \n",
       "freq                167792      414509     465393              273815   \n",
       "\n",
       "                     title initial_list_status  \n",
       "count               465402              465402  \n",
       "unique               62879                   2  \n",
       "top     Debt consolidation                   f  \n",
       "freq                163888              302325  "
      ]
     },
     "execution_count": 41,
     "metadata": {},
     "output_type": "execute_result"
    }
   ],
   "source": [
    "cat.describe()"
   ]
  },
  {
   "cell_type": "code",
   "execution_count": 42,
   "metadata": {},
   "outputs": [
    {
     "data": {
      "text/plain": [
       "Index(['term', 'grade', 'sub_grade', 'emp_title', 'emp_length',\n",
       "       'home_ownership', 'verification_status', 'loan_status', 'pymnt_plan',\n",
       "       'purpose', 'title', 'initial_list_status'],\n",
       "      dtype='object')"
      ]
     },
     "execution_count": 42,
     "metadata": {},
     "output_type": "execute_result"
    }
   ],
   "source": [
    "cat.columns"
   ]
  },
  {
   "cell_type": "code",
   "execution_count": 43,
   "metadata": {},
   "outputs": [
    {
     "data": {
      "image/png": "[encoded data removed]",
      "text/plain": [
       "<Figure size 1080x720 with 1 Axes>"
      ]
     },
     "metadata": {
      "needs_background": "light"
     },
     "output_type": "display_data"
    }
   ],
   "source": [
    "plt.figure(figsize=(15,10))\n",
    "ax = sns.countplot(x='term', data=df, hue='loan_status')\n",
    "\n",
    "for container in ax.containers:\n",
    "    ax.bar_label(container)\n",
    "\n",
    "plt.show()"
   ]
  },
  {
   "cell_type": "code",
   "execution_count": 44,
   "metadata": {},
   "outputs": [
    {
     "data": {
      "image/png": "[encoded data removed]",
      "text/plain": [
       "<Figure size 1800x720 with 1 Axes>"
      ]
     },
     "metadata": {
      "needs_background": "light"
     },
     "output_type": "display_data"
    }
   ],
   "source": [
    "plt.figure(figsize=(25,10))\n",
    "ax = sns.countplot(x='grade', data=df, hue='loan_status')\n",
    "\n",
    "for container in ax.containers:\n",
    "    ax.bar_label(container)\n",
    "\n",
    "plt.show()"
   ]
  },
  {
   "cell_type": "code",
   "execution_count": 56,
   "metadata": {},
   "outputs": [
    {
     "data": {
      "image/png": "[encoded data removed]",
      "text/plain": [
       "<Figure size 1440x720 with 1 Axes>"
      ]
     },
     "metadata": {
      "needs_background": "light"
     },
     "output_type": "display_data"
    }
   ],
   "source": [
    "plt.figure(figsize=(20,10))\n",
    "sns.countplot(x='sub_grade', data=df, hue='loan_status')\n",
    "\n",
    "for container in ax.containers:\n",
    "    ax.bar_label(container)\n",
    "\n",
    "plt.show()"
   ]
  },
  {
   "cell_type": "code",
   "execution_count": 46,
   "metadata": {},
   "outputs": [],
   "source": [
    "job_count = df.groupby(\"emp_title\").filter(lambda x: len(x) > 1000)"
   ]
  },
  {
   "cell_type": "code",
   "execution_count": 47,
   "metadata": {},
   "outputs": [
    {
     "data": {
      "text/plain": [
       "Other               27508\n",
       "Teacher              5392\n",
       "Manager              4429\n",
       "Registered Nurse     2314\n",
       "RN                   2202\n",
       "Supervisor           1966\n",
       "Sales                1623\n",
       "Project Manager      1621\n",
       "Owner                1521\n",
       "Office Manager       1393\n",
       "manager              1311\n",
       "Driver               1294\n",
       "General Manager      1260\n",
       "Director             1186\n",
       "teacher              1182\n",
       "Engineer             1048\n",
       "Name: emp_title, dtype: int64"
      ]
     },
     "execution_count": 47,
     "metadata": {},
     "output_type": "execute_result"
    }
   ],
   "source": [
    "job_count.emp_title.value_counts()"
   ]
  },
  {
   "cell_type": "code",
   "execution_count": 48,
   "metadata": {},
   "outputs": [
    {
     "data": {
      "text/plain": [
       "Other               382885\n",
       "Manager              33706\n",
       "Director              9747\n",
       "Teacher               8252\n",
       "Engineer              7707\n",
       "Sales                 6376\n",
       "Supervisor            5927\n",
       "Registered Nurse      5865\n",
       "Driver                2775\n",
       "Owner                 2162\n",
       "Name: emp_title, dtype: int64"
      ]
     },
     "execution_count": 48,
     "metadata": {},
     "output_type": "execute_result"
    }
   ],
   "source": [
    "import re\n",
    "\n",
    "def job(x):\n",
    "  if (re.findall(\"Teacher\", x)):\n",
    "    return 'Teacher'\n",
    "  elif (re.findall(\"Manager\", x)):\n",
    "    return 'Manager'\n",
    "  elif (re.findall(\"Registered Nurse\", x)):\n",
    "    return 'Registered Nurse'\n",
    "  elif (re.findall(\"RN\", x)):\n",
    "    return 'Registered Nurse'\n",
    "  elif (re.findall(\"Sales\", x)):\n",
    "    return 'Sales'\n",
    "  elif (re.findall(\"Supervisor\", x)):\n",
    "    return 'Supervisor'\n",
    "  elif (re.findall(\"Project Manager\", x)):\n",
    "    return 'Project Manager'\n",
    "  elif (re.findall(\"Owner\", x)):\n",
    "    return 'Owner'\n",
    "  elif (re.findall(\"Office Manager\", x)):\n",
    "    return 'Manager'\n",
    "  elif (re.findall(\"Manager\", x)):\n",
    "    return 'Manager'\n",
    "  elif (re.findall(\"Driver\", x)):\n",
    "    return 'Driver'\n",
    "  elif (re.findall(\"Engineer\", x)):\n",
    "    return 'Engineer'\n",
    "  elif (re.findall(\"General Manager\", x)):\n",
    "    return 'General Manager'\n",
    "  elif (re.findall(\"Director\", x)):\n",
    "    return 'Director'\n",
    "  elif (re.findall(\"teacher\", x)):\n",
    "    return 'Teacher'\n",
    "  else:\n",
    "    return \"Other\"\n",
    "\n",
    "df[\"emp_title\"] = df['emp_title'].apply(job)\n",
    "df[\"emp_title\"].value_counts()"
   ]
  },
  {
   "cell_type": "code",
   "execution_count": 57,
   "metadata": {},
   "outputs": [
    {
     "data": {
      "image/png": "[encoded data removed]",
      "text/plain": [
       "<Figure size 1440x720 with 1 Axes>"
      ]
     },
     "metadata": {
      "needs_background": "light"
     },
     "output_type": "display_data"
    }
   ],
   "source": [
    "plt.figure(figsize=(20,10))\n",
    "ax = sns.countplot(x='emp_title', data=df, hue='loan_status')\n",
    "\n",
    "for container in ax.containers:\n",
    "    ax.bar_label(container)\n",
    "\n",
    "plt.show()"
   ]
  },
  {
   "cell_type": "code",
   "execution_count": 58,
   "metadata": {},
   "outputs": [
    {
     "data": {
      "image/png": "[encoded data removed]",
      "text/plain": [
       "<Figure size 1440x720 with 1 Axes>"
      ]
     },
     "metadata": {
      "needs_background": "light"
     },
     "output_type": "display_data"
    }
   ],
   "source": [
    "plt.figure(figsize=(20,10))\n",
    "ax = sns.countplot(x='emp_length', data=df, hue='loan_status')\n",
    "\n",
    "for container in ax.containers:\n",
    "    ax.bar_label(container)\n",
    "\n",
    "plt.show()"
   ]
  },
  {
   "cell_type": "code",
   "execution_count": 59,
   "metadata": {},
   "outputs": [
    {
     "data": {
      "image/png": "[encoded data removed]",
      "text/plain": [
       "<Figure size 1440x720 with 1 Axes>"
      ]
     },
     "metadata": {
      "needs_background": "light"
     },
     "output_type": "display_data"
    }
   ],
   "source": [
    "plt.figure(figsize=(20,10))\n",
    "ax = sns.countplot(x='home_ownership', data=df, hue='loan_status')\n",
    "\n",
    "for container in ax.containers:\n",
    "    ax.bar_label(container)\n",
    "\n",
    "plt.show()"
   ]
  },
  {
   "cell_type": "code",
   "execution_count": 60,
   "metadata": {},
   "outputs": [
    {
     "data": {
      "image/png": "[encoded data removed]",
      "text/plain": [
       "<Figure size 1440x720 with 1 Axes>"
      ]
     },
     "metadata": {
      "needs_background": "light"
     },
     "output_type": "display_data"
    }
   ],
   "source": [
    "plt.figure(figsize=(20,10))\n",
    "ax = sns.countplot(x='verification_status', data=df, hue='loan_status')\n",
    "\n",
    "for container in ax.containers:\n",
    "    ax.bar_label(container)\n",
    "\n",
    "plt.show()"
   ]
  },
  {
   "cell_type": "code",
   "execution_count": 61,
   "metadata": {},
   "outputs": [
    {
     "data": {
      "image/png": "[encoded data removed]",
      "text/plain": [
       "<Figure size 1440x720 with 1 Axes>"
      ]
     },
     "metadata": {
      "needs_background": "light"
     },
     "output_type": "display_data"
    }
   ],
   "source": [
    "plt.figure(figsize=(20,10))\n",
    "ax = sns.countplot(x='pymnt_plan', data=df, hue='loan_status')\n",
    "\n",
    "for container in ax.containers:\n",
    "    ax.bar_label(container)\n",
    "\n",
    "plt.show()"
   ]
  },
  {
   "cell_type": "code",
   "execution_count": 62,
   "metadata": {},
   "outputs": [
    {
     "data": {
      "image/png": "[encoded data removed]",
      "text/plain": [
       "<Figure size 1440x720 with 1 Axes>"
      ]
     },
     "metadata": {
      "needs_background": "light"
     },
     "output_type": "display_data"
    }
   ],
   "source": [
    "plt.figure(figsize=(20,10))\n",
    "ax = sns.countplot(x='purpose', data=df, hue='loan_status')\n",
    "\n",
    "for container in ax.containers:\n",
    "    ax.bar_label(container)\n",
    "\n",
    "plt.show()"
   ]
  },
  {
   "cell_type": "code",
   "execution_count": 65,
   "metadata": {},
   "outputs": [
    {
     "data": {
      "text/plain": [
       "Debt consolidation                   163888\n",
       "Credit card refinancing               62233\n",
       "Debt Consolidation                    15741\n",
       "Home improvement                      14817\n",
       "Other                                 12678\n",
       "                                      ...  \n",
       "Becoming Fiscally Fit                     1\n",
       "a clean slate                             1\n",
       "Crush MY Credit Card                      1\n",
       "Controlling My Financial Future           1\n",
       "Paying off the car and some bills         1\n",
       "Name: title, Length: 62879, dtype: int64"
      ]
     },
     "execution_count": 65,
     "metadata": {},
     "output_type": "execute_result"
    }
   ],
   "source": [
    "df['title'].value_counts()"
   ]
  },
  {
   "cell_type": "code",
   "execution_count": 69,
   "metadata": {},
   "outputs": [],
   "source": [
    "title_count = df.groupby(\"title\").filter(lambda x: len(x) > 1000)"
   ]
  },
  {
   "cell_type": "code",
   "execution_count": 72,
   "metadata": {},
   "outputs": [
    {
     "data": {
      "text/plain": [
       "Debt consolidation           163888\n",
       "Credit card refinancing       62233\n",
       "Debt Consolidation            15741\n",
       "Home improvement              14817\n",
       "Other                         12678\n",
       "Consolidation                  5373\n",
       "debt consolidation             4829\n",
       "Major purchase                 4607\n",
       "Debt Consolidation Loan        3796\n",
       "Business                       3361\n",
       "Medical expenses               2734\n",
       "Credit Card Consolidation      2356\n",
       "consolidation                  2172\n",
       "Personal Loan                  2124\n",
       "Car financing                  2086\n",
       "Consolidation Loan             1775\n",
       "Home Improvement               1766\n",
       "Vacation                       1555\n",
       "Moving and relocation          1495\n",
       "Credit Card Refinance          1466\n",
       "Credit Card Payoff             1385\n",
       "Consolidate                    1263\n",
       "Personal                       1181\n",
       "Loan                           1029\n",
       "Name: title, dtype: int64"
      ]
     },
     "execution_count": 72,
     "metadata": {},
     "output_type": "execute_result"
    }
   ],
   "source": [
    "(title_count['title'].value_counts())"
   ]
  },
  {
   "cell_type": "code",
   "execution_count": 73,
   "metadata": {},
   "outputs": [
    {
     "data": {
      "text/plain": [
       "Debt consolidation         164995\n",
       "Other                      127222\n",
       "Credit card refinancing     62255\n",
       "Debt Consolidation          23305\n",
       "Consolidation               21937\n",
       "Home improvement            15119\n",
       "Loan                        13482\n",
       "debt consolidation           6313\n",
       "Business                     5169\n",
       "Major purchase               4621\n",
       "Consolidate                  3611\n",
       "Home Improvement             3153\n",
       "Medical expenses             2742\n",
       "Personal Loan                2583\n",
       "Personal                     2078\n",
       "Vacation                     1891\n",
       "Credit Card Refinance        1760\n",
       "Credit Card Payoff           1670\n",
       "Moving and relocation        1496\n",
       "Name: title, dtype: int64"
      ]
     },
     "execution_count": 73,
     "metadata": {},
     "output_type": "execute_result"
    }
   ],
   "source": [
    "import re\n",
    "\n",
    "def title(x):\n",
    "  if (re.findall(\"Debt consolidation\", x)):\n",
    "    return 'Debt consolidation'\n",
    "  elif (re.findall(\"Credit card refinancing\", x)):\n",
    "    return 'Credit card refinancing'\n",
    "  elif (re.findall(\"Debt Consolidation\", x)):\n",
    "    return 'Debt Consolidation'\n",
    "  elif (re.findall(\"Home improvement\", x)):\n",
    "    return 'Home improvement'\n",
    "  elif (re.findall(\"Other\", x)):\n",
    "    return 'Other'\n",
    "  elif (re.findall(\"Consolidation\", x)):\n",
    "    return 'Consolidation'\n",
    "  elif (re.findall(\"debt consolidation\", x)):\n",
    "    return 'debt consolidation'\n",
    "  elif (re.findall(\"Major purchase\", x)):\n",
    "    return 'Major purchase'\n",
    "  elif (re.findall(\"Debt Consolidation Loan\", x)):\n",
    "    return 'Debt Consolidation Loan'\n",
    "  elif (re.findall(\"Business\", x)):\n",
    "    return 'Business'\n",
    "  elif (re.findall(\"Medical expenses\", x)):\n",
    "    return 'Medical expenses'\n",
    "  elif (re.findall(\"Credit Card Consolidation\", x)):\n",
    "    return 'Credit Card Consolidation'\n",
    "  elif (re.findall(\"consolidation\", x)):\n",
    "    return 'Consolidation'\n",
    "  elif (re.findall(\"Personal Loan\", x)):\n",
    "    return 'Personal Loan'\n",
    "  elif (re.findall(\"Home Improvement\", x)):\n",
    "    return 'Home Improvement'\n",
    "  elif (re.findall(\"Vacation\", x)):\n",
    "    return 'Vacation'\n",
    "  elif (re.findall(\"Moving and relocation\", x)):\n",
    "    return 'Moving and relocation'\n",
    "  elif (re.findall(\"Credit Card Refinance\", x)):\n",
    "    return 'Credit Card Refinance'\n",
    "  elif (re.findall(\"Credit Card Payoff\", x)):\n",
    "    return 'Credit Card Payoff'\n",
    "  elif (re.findall(\"Consolidate\", x)):\n",
    "    return 'Consolidate'\n",
    "  elif (re.findall(\"Personal\", x)):\n",
    "    return 'Personal'\n",
    "  elif (re.findall(\"Loan\", x)):\n",
    "    return 'Loan'\n",
    "  else:\n",
    "    return \"Other\"\n",
    "\n",
    "df[\"title\"] = df['title'].apply(title)\n",
    "df[\"title\"].value_counts()"
   ]
  },
  {
   "cell_type": "code",
   "execution_count": 74,
   "metadata": {},
   "outputs": [
    {
     "data": {
      "image/png": "[encoded data removed]",
      "text/plain": [
       "<Figure size 1440x720 with 1 Axes>"
      ]
     },
     "metadata": {
      "needs_background": "light"
     },
     "output_type": "display_data"
    }
   ],
   "source": [
    "plt.figure(figsize=(20,10))\n",
    "ax = sns.countplot(x='title', data=df, hue='loan_status')\n",
    "\n",
    "for container in ax.containers:\n",
    "    ax.bar_label(container)\n",
    "\n",
    "plt.show()"
   ]
  },
  {
   "cell_type": "code",
   "execution_count": null,
   "metadata": {},
   "outputs": [],
   "source": [
    "plt.figure(figsize=(20,10))\n",
    "sns.countplot(x='initial_list_status', data=df, hue='loan_status')\n",
    "\n",
    "for container in ax.containers:\n",
    "    ax.bar_label(container)\n",
    "\n",
    "plt.show()"
   ]
  },
  {
   "cell_type": "code",
   "execution_count": 46,
   "metadata": {},
   "outputs": [],
   "source": [
    "# sns.countplot(x='emp_title', data=df, hue='loan_status')"
   ]
  },
  {
   "cell_type": "code",
   "execution_count": 47,
   "metadata": {},
   "outputs": [],
   "source": [
    "# fig, axes = plt.subplots(3, 4, figsize=(20, 10))\n",
    "# fig.suptitle(\"pointplot\")\n",
    "\n",
    "# # term\n",
    "# sns.countplot(x='term', data=df, hue='loan_status', ax=axes[0, 0])\n",
    "\n",
    "# # grade\n",
    "# sns.countplot(x='grade', data=df, hue='loan_status', ax=axes[0, 1])\n",
    "\n",
    "# # sub_grade\n",
    "# sns.countplot(x='sub_grade', data=df, hue='loan_status', ax=axes[0, 2])\n",
    "\n",
    "# # emp_title\n",
    "# sns.countplot(x='emp_title', data=df, hue='loan_status', ax=axes[0, 3])\n",
    "\n",
    "# # emp_length\n",
    "# sns.countplot(x='emp_length', data=df, hue='loan_status', ax=axes[1, 0])\n",
    "\n",
    "# # home_ownership\n",
    "# sns.countplot(x='home_ownership', data=df, hue='loan_status', ax=axes[1, 1])\n",
    "\n",
    "# # verification_status\n",
    "# sns.countplot(x='verification_status', data=df, hue='loan_status', ax=axes[1, 2])\n",
    "\n",
    "# # pymnt_plan\n",
    "# sns.countplot(x='pymnt_plan', data=df, hue='loan_status', ax=axes[1, 3])\n",
    "\n",
    "# #purpose\n",
    "# sns.countplot(x='purpose', data=df, hue='loan_status', ax=axes[2, 0])\n",
    "\n",
    "# # title\n",
    "# sns.countplot(x='title', data=df, hue='loan_status', ax=axes[2, 1])\n",
    "\n",
    "# # initial_list_status\n",
    "# sns.countplot(x='initial_list_status', data=df, hue='loan_status', ax=axes[2, 2])"
   ]
  },
  {
   "cell_type": "code",
   "execution_count": 48,
   "metadata": {},
   "outputs": [],
   "source": [
    "# plt.figure(figsize=(15,15))\n",
    "# for i in range(0, len(cat_col)):\n",
    "#     plt.subplot(8, 4, i+1)\n",
    "#     sns.countplot(x=cat[cat_col[i]], data=df, hue='loan_status')\n",
    "#     plt.xlabel(cat_col[i])\n",
    "#     plt.tight_layout()"
   ]
  },
  {
   "cell_type": "code",
   "execution_count": 49,
   "metadata": {},
   "outputs": [
    {
     "data": {
      "text/html": [
       "<div>\n",
       "<style scoped>\n",
       "    .dataframe tbody tr th:only-of-type {\n",
       "        vertical-align: middle;\n",
       "    }\n",
       "\n",
       "    .dataframe tbody tr th {\n",
       "        vertical-align: top;\n",
       "    }\n",
       "\n",
       "    .dataframe thead th {\n",
       "        text-align: right;\n",
       "    }\n",
       "</style>\n",
       "<table border=\"1\" class=\"dataframe\">\n",
       "  <thead>\n",
       "    <tr style=\"text-align: right;\">\n",
       "      <th></th>\n",
       "      <th>term</th>\n",
       "      <th>grade</th>\n",
       "      <th>sub_grade</th>\n",
       "      <th>emp_title</th>\n",
       "      <th>emp_length</th>\n",
       "      <th>home_ownership</th>\n",
       "      <th>verification_status</th>\n",
       "      <th>loan_status</th>\n",
       "      <th>pymnt_plan</th>\n",
       "      <th>purpose</th>\n",
       "      <th>title</th>\n",
       "      <th>initial_list_status</th>\n",
       "    </tr>\n",
       "  </thead>\n",
       "  <tbody>\n",
       "    <tr>\n",
       "      <th>0</th>\n",
       "      <td>36 months</td>\n",
       "      <td>B</td>\n",
       "      <td>B2</td>\n",
       "      <td>Other</td>\n",
       "      <td>10+ years</td>\n",
       "      <td>RENT</td>\n",
       "      <td>Verified</td>\n",
       "      <td>Good</td>\n",
       "      <td>n</td>\n",
       "      <td>credit_card</td>\n",
       "      <td>Computer</td>\n",
       "      <td>f</td>\n",
       "    </tr>\n",
       "    <tr>\n",
       "      <th>1</th>\n",
       "      <td>60 months</td>\n",
       "      <td>C</td>\n",
       "      <td>C4</td>\n",
       "      <td>Ryder</td>\n",
       "      <td>&lt; 1 year</td>\n",
       "      <td>RENT</td>\n",
       "      <td>Source Verified</td>\n",
       "      <td>Bad</td>\n",
       "      <td>n</td>\n",
       "      <td>car</td>\n",
       "      <td>bike</td>\n",
       "      <td>f</td>\n",
       "    </tr>\n",
       "    <tr>\n",
       "      <th>2</th>\n",
       "      <td>36 months</td>\n",
       "      <td>C</td>\n",
       "      <td>C5</td>\n",
       "      <td>Other</td>\n",
       "      <td>10+ years</td>\n",
       "      <td>RENT</td>\n",
       "      <td>Not Verified</td>\n",
       "      <td>Good</td>\n",
       "      <td>n</td>\n",
       "      <td>small_business</td>\n",
       "      <td>real estate business</td>\n",
       "      <td>f</td>\n",
       "    </tr>\n",
       "    <tr>\n",
       "      <th>3</th>\n",
       "      <td>36 months</td>\n",
       "      <td>C</td>\n",
       "      <td>C1</td>\n",
       "      <td>AIR RESOURCES BOARD</td>\n",
       "      <td>10+ years</td>\n",
       "      <td>RENT</td>\n",
       "      <td>Source Verified</td>\n",
       "      <td>Good</td>\n",
       "      <td>n</td>\n",
       "      <td>other</td>\n",
       "      <td>personel</td>\n",
       "      <td>f</td>\n",
       "    </tr>\n",
       "    <tr>\n",
       "      <th>4</th>\n",
       "      <td>60 months</td>\n",
       "      <td>B</td>\n",
       "      <td>B5</td>\n",
       "      <td>University Medical Group</td>\n",
       "      <td>1 year</td>\n",
       "      <td>RENT</td>\n",
       "      <td>Source Verified</td>\n",
       "      <td>Good</td>\n",
       "      <td>n</td>\n",
       "      <td>other</td>\n",
       "      <td>Personal</td>\n",
       "      <td>f</td>\n",
       "    </tr>\n",
       "  </tbody>\n",
       "</table>\n",
       "</div>"
      ],
      "text/plain": [
       "         term grade sub_grade                 emp_title emp_length  \\\n",
       "0   36 months     B        B2                     Other  10+ years   \n",
       "1   60 months     C        C4                     Ryder   < 1 year   \n",
       "2   36 months     C        C5                     Other  10+ years   \n",
       "3   36 months     C        C1       AIR RESOURCES BOARD  10+ years   \n",
       "4   60 months     B        B5  University Medical Group     1 year   \n",
       "\n",
       "  home_ownership verification_status loan_status pymnt_plan         purpose  \\\n",
       "0           RENT            Verified        Good          n     credit_card   \n",
       "1           RENT     Source Verified         Bad          n             car   \n",
       "2           RENT        Not Verified        Good          n  small_business   \n",
       "3           RENT     Source Verified        Good          n           other   \n",
       "4           RENT     Source Verified        Good          n           other   \n",
       "\n",
       "                  title initial_list_status  \n",
       "0              Computer                   f  \n",
       "1                  bike                   f  \n",
       "2  real estate business                   f  \n",
       "3              personel                   f  \n",
       "4              Personal                   f  "
      ]
     },
     "execution_count": 49,
     "metadata": {},
     "output_type": "execute_result"
    }
   ],
   "source": [
    "cat.head()"
   ]
  },
  {
   "cell_type": "code",
   "execution_count": 50,
   "metadata": {},
   "outputs": [],
   "source": [
    "pd.set_option('display.max_columns', None)"
   ]
  },
  {
   "cell_type": "code",
   "execution_count": 51,
   "metadata": {},
   "outputs": [
    {
     "data": {
      "text/html": [
       "<div>\n",
       "<style scoped>\n",
       "    .dataframe tbody tr th:only-of-type {\n",
       "        vertical-align: middle;\n",
       "    }\n",
       "\n",
       "    .dataframe tbody tr th {\n",
       "        vertical-align: top;\n",
       "    }\n",
       "\n",
       "    .dataframe thead th {\n",
       "        text-align: right;\n",
       "    }\n",
       "</style>\n",
       "<table border=\"1\" class=\"dataframe\">\n",
       "  <thead>\n",
       "    <tr style=\"text-align: right;\">\n",
       "      <th></th>\n",
       "      <th>loan_amnt</th>\n",
       "      <th>funded_amnt</th>\n",
       "      <th>funded_amnt_inv</th>\n",
       "      <th>int_rate</th>\n",
       "      <th>installment</th>\n",
       "      <th>annual_inc</th>\n",
       "      <th>dti</th>\n",
       "      <th>delinq_2yrs</th>\n",
       "      <th>inq_last_6mths</th>\n",
       "      <th>open_acc</th>\n",
       "      <th>pub_rec</th>\n",
       "      <th>revol_bal</th>\n",
       "      <th>revol_util</th>\n",
       "      <th>total_acc</th>\n",
       "      <th>out_prncp</th>\n",
       "      <th>out_prncp_inv</th>\n",
       "      <th>total_pymnt</th>\n",
       "      <th>total_pymnt_inv</th>\n",
       "      <th>total_rec_prncp</th>\n",
       "      <th>total_rec_int</th>\n",
       "      <th>total_rec_late_fee</th>\n",
       "      <th>recoveries</th>\n",
       "      <th>collection_recovery_fee</th>\n",
       "      <th>last_pymnt_amnt</th>\n",
       "      <th>collections_12_mths_ex_med</th>\n",
       "      <th>policy_code</th>\n",
       "      <th>acc_now_delinq</th>\n",
       "      <th>tot_coll_amt</th>\n",
       "      <th>tot_cur_bal</th>\n",
       "      <th>total_rev_hi_lim</th>\n",
       "    </tr>\n",
       "  </thead>\n",
       "  <tbody>\n",
       "    <tr>\n",
       "      <th>0</th>\n",
       "      <td>5000</td>\n",
       "      <td>5000</td>\n",
       "      <td>4975.0</td>\n",
       "      <td>10.65</td>\n",
       "      <td>162.87</td>\n",
       "      <td>24000.0</td>\n",
       "      <td>27.65</td>\n",
       "      <td>0.0</td>\n",
       "      <td>1.0</td>\n",
       "      <td>3.0</td>\n",
       "      <td>0.0</td>\n",
       "      <td>13648</td>\n",
       "      <td>83.7</td>\n",
       "      <td>9.0</td>\n",
       "      <td>0.0</td>\n",
       "      <td>0.0</td>\n",
       "      <td>5861.071414</td>\n",
       "      <td>5831.78</td>\n",
       "      <td>5000.00</td>\n",
       "      <td>861.07</td>\n",
       "      <td>0.00</td>\n",
       "      <td>0.00</td>\n",
       "      <td>0.00</td>\n",
       "      <td>171.62</td>\n",
       "      <td>0.0</td>\n",
       "      <td>1</td>\n",
       "      <td>0.0</td>\n",
       "      <td>191.913517</td>\n",
       "      <td>138801.713385</td>\n",
       "      <td>30379.087771</td>\n",
       "    </tr>\n",
       "    <tr>\n",
       "      <th>1</th>\n",
       "      <td>2500</td>\n",
       "      <td>2500</td>\n",
       "      <td>2500.0</td>\n",
       "      <td>15.27</td>\n",
       "      <td>59.83</td>\n",
       "      <td>30000.0</td>\n",
       "      <td>1.00</td>\n",
       "      <td>0.0</td>\n",
       "      <td>5.0</td>\n",
       "      <td>3.0</td>\n",
       "      <td>0.0</td>\n",
       "      <td>1687</td>\n",
       "      <td>9.4</td>\n",
       "      <td>4.0</td>\n",
       "      <td>0.0</td>\n",
       "      <td>0.0</td>\n",
       "      <td>1008.710000</td>\n",
       "      <td>1008.71</td>\n",
       "      <td>456.46</td>\n",
       "      <td>435.17</td>\n",
       "      <td>0.00</td>\n",
       "      <td>117.08</td>\n",
       "      <td>1.11</td>\n",
       "      <td>119.66</td>\n",
       "      <td>0.0</td>\n",
       "      <td>1</td>\n",
       "      <td>0.0</td>\n",
       "      <td>191.913517</td>\n",
       "      <td>138801.713385</td>\n",
       "      <td>30379.087771</td>\n",
       "    </tr>\n",
       "    <tr>\n",
       "      <th>2</th>\n",
       "      <td>2400</td>\n",
       "      <td>2400</td>\n",
       "      <td>2400.0</td>\n",
       "      <td>15.96</td>\n",
       "      <td>84.33</td>\n",
       "      <td>12252.0</td>\n",
       "      <td>8.72</td>\n",
       "      <td>0.0</td>\n",
       "      <td>2.0</td>\n",
       "      <td>2.0</td>\n",
       "      <td>0.0</td>\n",
       "      <td>2956</td>\n",
       "      <td>98.5</td>\n",
       "      <td>10.0</td>\n",
       "      <td>0.0</td>\n",
       "      <td>0.0</td>\n",
       "      <td>3003.653644</td>\n",
       "      <td>3003.65</td>\n",
       "      <td>2400.00</td>\n",
       "      <td>603.65</td>\n",
       "      <td>0.00</td>\n",
       "      <td>0.00</td>\n",
       "      <td>0.00</td>\n",
       "      <td>649.91</td>\n",
       "      <td>0.0</td>\n",
       "      <td>1</td>\n",
       "      <td>0.0</td>\n",
       "      <td>191.913517</td>\n",
       "      <td>138801.713385</td>\n",
       "      <td>30379.087771</td>\n",
       "    </tr>\n",
       "    <tr>\n",
       "      <th>3</th>\n",
       "      <td>10000</td>\n",
       "      <td>10000</td>\n",
       "      <td>10000.0</td>\n",
       "      <td>13.49</td>\n",
       "      <td>339.31</td>\n",
       "      <td>49200.0</td>\n",
       "      <td>20.00</td>\n",
       "      <td>0.0</td>\n",
       "      <td>1.0</td>\n",
       "      <td>10.0</td>\n",
       "      <td>0.0</td>\n",
       "      <td>5598</td>\n",
       "      <td>21.0</td>\n",
       "      <td>37.0</td>\n",
       "      <td>0.0</td>\n",
       "      <td>0.0</td>\n",
       "      <td>12226.302210</td>\n",
       "      <td>12226.30</td>\n",
       "      <td>10000.00</td>\n",
       "      <td>2209.33</td>\n",
       "      <td>16.97</td>\n",
       "      <td>0.00</td>\n",
       "      <td>0.00</td>\n",
       "      <td>357.48</td>\n",
       "      <td>0.0</td>\n",
       "      <td>1</td>\n",
       "      <td>0.0</td>\n",
       "      <td>191.913517</td>\n",
       "      <td>138801.713385</td>\n",
       "      <td>30379.087771</td>\n",
       "    </tr>\n",
       "    <tr>\n",
       "      <th>4</th>\n",
       "      <td>3000</td>\n",
       "      <td>3000</td>\n",
       "      <td>3000.0</td>\n",
       "      <td>12.69</td>\n",
       "      <td>67.79</td>\n",
       "      <td>80000.0</td>\n",
       "      <td>17.94</td>\n",
       "      <td>0.0</td>\n",
       "      <td>0.0</td>\n",
       "      <td>15.0</td>\n",
       "      <td>0.0</td>\n",
       "      <td>27783</td>\n",
       "      <td>53.9</td>\n",
       "      <td>38.0</td>\n",
       "      <td>766.9</td>\n",
       "      <td>766.9</td>\n",
       "      <td>3242.170000</td>\n",
       "      <td>3242.17</td>\n",
       "      <td>2233.10</td>\n",
       "      <td>1009.07</td>\n",
       "      <td>0.00</td>\n",
       "      <td>0.00</td>\n",
       "      <td>0.00</td>\n",
       "      <td>67.79</td>\n",
       "      <td>0.0</td>\n",
       "      <td>1</td>\n",
       "      <td>0.0</td>\n",
       "      <td>191.913517</td>\n",
       "      <td>138801.713385</td>\n",
       "      <td>30379.087771</td>\n",
       "    </tr>\n",
       "  </tbody>\n",
       "</table>\n",
       "</div>"
      ],
      "text/plain": [
       "   loan_amnt  funded_amnt  funded_amnt_inv  int_rate  installment  annual_inc  \\\n",
       "0       5000         5000           4975.0     10.65       162.87     24000.0   \n",
       "1       2500         2500           2500.0     15.27        59.83     30000.0   \n",
       "2       2400         2400           2400.0     15.96        84.33     12252.0   \n",
       "3      10000        10000          10000.0     13.49       339.31     49200.0   \n",
       "4       3000         3000           3000.0     12.69        67.79     80000.0   \n",
       "\n",
       "     dti  delinq_2yrs  inq_last_6mths  open_acc  pub_rec  revol_bal  \\\n",
       "0  27.65          0.0             1.0       3.0      0.0      13648   \n",
       "1   1.00          0.0             5.0       3.0      0.0       1687   \n",
       "2   8.72          0.0             2.0       2.0      0.0       2956   \n",
       "3  20.00          0.0             1.0      10.0      0.0       5598   \n",
       "4  17.94          0.0             0.0      15.0      0.0      27783   \n",
       "\n",
       "   revol_util  total_acc  out_prncp  out_prncp_inv   total_pymnt  \\\n",
       "0        83.7        9.0        0.0            0.0   5861.071414   \n",
       "1         9.4        4.0        0.0            0.0   1008.710000   \n",
       "2        98.5       10.0        0.0            0.0   3003.653644   \n",
       "3        21.0       37.0        0.0            0.0  12226.302210   \n",
       "4        53.9       38.0      766.9          766.9   3242.170000   \n",
       "\n",
       "   total_pymnt_inv  total_rec_prncp  total_rec_int  total_rec_late_fee  \\\n",
       "0          5831.78          5000.00         861.07                0.00   \n",
       "1          1008.71           456.46         435.17                0.00   \n",
       "2          3003.65          2400.00         603.65                0.00   \n",
       "3         12226.30         10000.00        2209.33               16.97   \n",
       "4          3242.17          2233.10        1009.07                0.00   \n",
       "\n",
       "   recoveries  collection_recovery_fee  last_pymnt_amnt  \\\n",
       "0        0.00                     0.00           171.62   \n",
       "1      117.08                     1.11           119.66   \n",
       "2        0.00                     0.00           649.91   \n",
       "3        0.00                     0.00           357.48   \n",
       "4        0.00                     0.00            67.79   \n",
       "\n",
       "   collections_12_mths_ex_med  policy_code  acc_now_delinq  tot_coll_amt  \\\n",
       "0                         0.0            1             0.0    191.913517   \n",
       "1                         0.0            1             0.0    191.913517   \n",
       "2                         0.0            1             0.0    191.913517   \n",
       "3                         0.0            1             0.0    191.913517   \n",
       "4                         0.0            1             0.0    191.913517   \n",
       "\n",
       "     tot_cur_bal  total_rev_hi_lim  \n",
       "0  138801.713385      30379.087771  \n",
       "1  138801.713385      30379.087771  \n",
       "2  138801.713385      30379.087771  \n",
       "3  138801.713385      30379.087771  \n",
       "4  138801.713385      30379.087771  "
      ]
     },
     "execution_count": 51,
     "metadata": {},
     "output_type": "execute_result"
    }
   ],
   "source": [
    "num.head()"
   ]
  },
  {
   "cell_type": "code",
   "execution_count": null,
   "metadata": {},
   "outputs": [],
   "source": []
  }
 ],
 "metadata": {
  "kernelspec": {
   "display_name": "Python 3.10.1 64-bit",
   "language": "python",
   "name": "python3"
  },
  "language_info": {
   "codemirror_mode": {
    "name": "ipython",
    "version": 3
   },
   "file_extension": ".py",
   "mimetype": "text/x-python",
   "name": "python",
   "nbconvert_exporter": "python",
   "pygments_lexer": "ipython3",
   "version": "3.10.1"
  },
  "orig_nbformat": 4,
  "vscode": {
   "interpreter": {
    "hash": "8c7b6d6b8795746797002317ff44b439eafbd00de021c7e54e85ffe1424cd03a"
   }
  }
 },
 "nbformat": 4,
 "nbformat_minor": 2
}
