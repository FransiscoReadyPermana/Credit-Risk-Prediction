{
 "cells": [
  {
   "cell_type": "code",
   "execution_count": 1,
   "metadata": {},
   "outputs": [
    {
     "name": "stderr",
     "output_type": "stream",
     "text": [
      "d:\\python\\lib\\site-packages\\xgboost\\compat.py:36: FutureWarning: pandas.Int64Index is deprecated and will be removed from pandas in a future version. Use pandas.Index with the appropriate dtype instead.\n",
      "  from pandas import MultiIndex, Int64Index\n"
     ]
    }
   ],
   "source": [
    "import numpy as np\n",
    "import pandas as pd\n",
    "import matplotlib.pyplot as plt\n",
    "import seaborn as sns\n",
    "\n",
    "from sklearn.model_selection import train_test_split\n",
    "from sklearn.pipeline import Pipeline\n",
    "from sklearn.compose import ColumnTransformer\n",
    "\n",
    "from jcopml.pipeline import num_pipe, cat_pipe\n",
    "from jcopml.utils import save_model, load_model\n",
    "from jcopml.plot import plot_missing_value\n",
    "from jcopml.feature_importance import mean_score_decrease"
   ]
  },
  {
   "cell_type": "code",
   "execution_count": 2,
   "metadata": {},
   "outputs": [
    {
     "name": "stderr",
     "output_type": "stream",
     "text": [
      "C:\\Users\\Jayy\\AppData\\Local\\Temp\\ipykernel_20464\\454855539.py:1: DtypeWarning: Columns (20) have mixed types. Specify dtype option on import or set low_memory=False.\n",
      "  data = pd.read_csv(\"../data/loan_data_2007_2014.csv\", index_col=0)\n"
     ]
    },
    {
     "data": {
      "text/html": [
       "<div>\n",
       "<style scoped>\n",
       "    .dataframe tbody tr th:only-of-type {\n",
       "        vertical-align: middle;\n",
       "    }\n",
       "\n",
       "    .dataframe tbody tr th {\n",
       "        vertical-align: top;\n",
       "    }\n",
       "\n",
       "    .dataframe thead th {\n",
       "        text-align: right;\n",
       "    }\n",
       "</style>\n",
       "<table border=\"1\" class=\"dataframe\">\n",
       "  <thead>\n",
       "    <tr style=\"text-align: right;\">\n",
       "      <th></th>\n",
       "      <th>id</th>\n",
       "      <th>member_id</th>\n",
       "      <th>loan_amnt</th>\n",
       "      <th>funded_amnt</th>\n",
       "      <th>funded_amnt_inv</th>\n",
       "      <th>term</th>\n",
       "      <th>int_rate</th>\n",
       "      <th>installment</th>\n",
       "      <th>grade</th>\n",
       "      <th>sub_grade</th>\n",
       "      <th>...</th>\n",
       "      <th>total_bal_il</th>\n",
       "      <th>il_util</th>\n",
       "      <th>open_rv_12m</th>\n",
       "      <th>open_rv_24m</th>\n",
       "      <th>max_bal_bc</th>\n",
       "      <th>all_util</th>\n",
       "      <th>total_rev_hi_lim</th>\n",
       "      <th>inq_fi</th>\n",
       "      <th>total_cu_tl</th>\n",
       "      <th>inq_last_12m</th>\n",
       "    </tr>\n",
       "  </thead>\n",
       "  <tbody>\n",
       "    <tr>\n",
       "      <th>0</th>\n",
       "      <td>1077501</td>\n",
       "      <td>1296599</td>\n",
       "      <td>5000</td>\n",
       "      <td>5000</td>\n",
       "      <td>4975.0</td>\n",
       "      <td>36 months</td>\n",
       "      <td>10.65</td>\n",
       "      <td>162.87</td>\n",
       "      <td>B</td>\n",
       "      <td>B2</td>\n",
       "      <td>...</td>\n",
       "      <td>NaN</td>\n",
       "      <td>NaN</td>\n",
       "      <td>NaN</td>\n",
       "      <td>NaN</td>\n",
       "      <td>NaN</td>\n",
       "      <td>NaN</td>\n",
       "      <td>NaN</td>\n",
       "      <td>NaN</td>\n",
       "      <td>NaN</td>\n",
       "      <td>NaN</td>\n",
       "    </tr>\n",
       "    <tr>\n",
       "      <th>1</th>\n",
       "      <td>1077430</td>\n",
       "      <td>1314167</td>\n",
       "      <td>2500</td>\n",
       "      <td>2500</td>\n",
       "      <td>2500.0</td>\n",
       "      <td>60 months</td>\n",
       "      <td>15.27</td>\n",
       "      <td>59.83</td>\n",
       "      <td>C</td>\n",
       "      <td>C4</td>\n",
       "      <td>...</td>\n",
       "      <td>NaN</td>\n",
       "      <td>NaN</td>\n",
       "      <td>NaN</td>\n",
       "      <td>NaN</td>\n",
       "      <td>NaN</td>\n",
       "      <td>NaN</td>\n",
       "      <td>NaN</td>\n",
       "      <td>NaN</td>\n",
       "      <td>NaN</td>\n",
       "      <td>NaN</td>\n",
       "    </tr>\n",
       "    <tr>\n",
       "      <th>2</th>\n",
       "      <td>1077175</td>\n",
       "      <td>1313524</td>\n",
       "      <td>2400</td>\n",
       "      <td>2400</td>\n",
       "      <td>2400.0</td>\n",
       "      <td>36 months</td>\n",
       "      <td>15.96</td>\n",
       "      <td>84.33</td>\n",
       "      <td>C</td>\n",
       "      <td>C5</td>\n",
       "      <td>...</td>\n",
       "      <td>NaN</td>\n",
       "      <td>NaN</td>\n",
       "      <td>NaN</td>\n",
       "      <td>NaN</td>\n",
       "      <td>NaN</td>\n",
       "      <td>NaN</td>\n",
       "      <td>NaN</td>\n",
       "      <td>NaN</td>\n",
       "      <td>NaN</td>\n",
       "      <td>NaN</td>\n",
       "    </tr>\n",
       "    <tr>\n",
       "      <th>3</th>\n",
       "      <td>1076863</td>\n",
       "      <td>1277178</td>\n",
       "      <td>10000</td>\n",
       "      <td>10000</td>\n",
       "      <td>10000.0</td>\n",
       "      <td>36 months</td>\n",
       "      <td>13.49</td>\n",
       "      <td>339.31</td>\n",
       "      <td>C</td>\n",
       "      <td>C1</td>\n",
       "      <td>...</td>\n",
       "      <td>NaN</td>\n",
       "      <td>NaN</td>\n",
       "      <td>NaN</td>\n",
       "      <td>NaN</td>\n",
       "      <td>NaN</td>\n",
       "      <td>NaN</td>\n",
       "      <td>NaN</td>\n",
       "      <td>NaN</td>\n",
       "      <td>NaN</td>\n",
       "      <td>NaN</td>\n",
       "    </tr>\n",
       "    <tr>\n",
       "      <th>4</th>\n",
       "      <td>1075358</td>\n",
       "      <td>1311748</td>\n",
       "      <td>3000</td>\n",
       "      <td>3000</td>\n",
       "      <td>3000.0</td>\n",
       "      <td>60 months</td>\n",
       "      <td>12.69</td>\n",
       "      <td>67.79</td>\n",
       "      <td>B</td>\n",
       "      <td>B5</td>\n",
       "      <td>...</td>\n",
       "      <td>NaN</td>\n",
       "      <td>NaN</td>\n",
       "      <td>NaN</td>\n",
       "      <td>NaN</td>\n",
       "      <td>NaN</td>\n",
       "      <td>NaN</td>\n",
       "      <td>NaN</td>\n",
       "      <td>NaN</td>\n",
       "      <td>NaN</td>\n",
       "      <td>NaN</td>\n",
       "    </tr>\n",
       "  </tbody>\n",
       "</table>\n",
       "<p>5 rows × 74 columns</p>\n",
       "</div>"
      ],
      "text/plain": [
       "        id  member_id  loan_amnt  funded_amnt  funded_amnt_inv        term  \\\n",
       "0  1077501    1296599       5000         5000           4975.0   36 months   \n",
       "1  1077430    1314167       2500         2500           2500.0   60 months   \n",
       "2  1077175    1313524       2400         2400           2400.0   36 months   \n",
       "3  1076863    1277178      10000        10000          10000.0   36 months   \n",
       "4  1075358    1311748       3000         3000           3000.0   60 months   \n",
       "\n",
       "   int_rate  installment grade sub_grade  ... total_bal_il il_util  \\\n",
       "0     10.65       162.87     B        B2  ...          NaN     NaN   \n",
       "1     15.27        59.83     C        C4  ...          NaN     NaN   \n",
       "2     15.96        84.33     C        C5  ...          NaN     NaN   \n",
       "3     13.49       339.31     C        C1  ...          NaN     NaN   \n",
       "4     12.69        67.79     B        B5  ...          NaN     NaN   \n",
       "\n",
       "  open_rv_12m  open_rv_24m max_bal_bc all_util total_rev_hi_lim inq_fi  \\\n",
       "0         NaN          NaN        NaN      NaN              NaN    NaN   \n",
       "1         NaN          NaN        NaN      NaN              NaN    NaN   \n",
       "2         NaN          NaN        NaN      NaN              NaN    NaN   \n",
       "3         NaN          NaN        NaN      NaN              NaN    NaN   \n",
       "4         NaN          NaN        NaN      NaN              NaN    NaN   \n",
       "\n",
       "  total_cu_tl inq_last_12m  \n",
       "0         NaN          NaN  \n",
       "1         NaN          NaN  \n",
       "2         NaN          NaN  \n",
       "3         NaN          NaN  \n",
       "4         NaN          NaN  \n",
       "\n",
       "[5 rows x 74 columns]"
      ]
     },
     "execution_count": 2,
     "metadata": {},
     "output_type": "execute_result"
    }
   ],
   "source": [
    "data = pd.read_csv(\"../data/loan_data_2007_2014.csv\", index_col=0)\n",
    "df = data.copy()\n",
    "df.head()"
   ]
  },
  {
   "cell_type": "code",
   "execution_count": 3,
   "metadata": {},
   "outputs": [
    {
     "data": {
      "text/plain": [
       "<AxesSubplot:>"
      ]
     },
     "execution_count": 3,
     "metadata": {},
     "output_type": "execute_result"
    },
    {
     "data": {
      "image/png": "[encoded data removed]",
      "text/plain": [
       "<Figure size 1440x720 with 2 Axes>"
      ]
     },
     "metadata": {
      "needs_background": "light"
     },
     "output_type": "display_data"
    }
   ],
   "source": [
    "plt.figure(figsize=(20,10))\n",
    "sns.heatmap(df.isna().T,\n",
    "            cmap=\"YlGnBu\",\n",
    "            cbar_kws={'label': 'Missing Data'})\n"
   ]
  },
  {
   "cell_type": "code",
   "execution_count": 4,
   "metadata": {},
   "outputs": [
    {
     "data": {
      "text/plain": [
       "array([     0,  27588,  21008,      4, 340302,     20,     29, 250351,\n",
       "       403647,    340,    376, 227214,     42,    145, 367311, 466285,\n",
       "        70276], dtype=int64)"
      ]
     },
     "execution_count": 4,
     "metadata": {},
     "output_type": "execute_result"
    }
   ],
   "source": [
    "df.isna().sum().unique()"
   ]
  },
  {
   "cell_type": "code",
   "execution_count": 5,
   "metadata": {},
   "outputs": [
    {
     "data": {
      "text/plain": [
       "id                       0\n",
       "member_id                0\n",
       "loan_amnt                0\n",
       "funded_amnt              0\n",
       "funded_amnt_inv          0\n",
       "                     ...  \n",
       "all_util            466285\n",
       "total_rev_hi_lim     70276\n",
       "inq_fi              466285\n",
       "total_cu_tl         466285\n",
       "inq_last_12m        466285\n",
       "Length: 74, dtype: int64"
      ]
     },
     "execution_count": 5,
     "metadata": {},
     "output_type": "execute_result"
    }
   ],
   "source": [
    "df.isna().sum()"
   ]
  },
  {
   "cell_type": "code",
   "execution_count": 6,
   "metadata": {},
   "outputs": [
    {
     "data": {
      "text/plain": [
       "(466285, 74)"
      ]
     },
     "execution_count": 6,
     "metadata": {},
     "output_type": "execute_result"
    }
   ],
   "source": [
    "df.shape"
   ]
  },
  {
   "cell_type": "code",
   "execution_count": 7,
   "metadata": {},
   "outputs": [
    {
     "data": {
      "text/plain": [
       "((466285, 52),\n",
       " array([    0, 27588, 21008,     4,    20,    29,   340,   376,    42,\n",
       "          145, 70276], dtype=int64))"
      ]
     },
     "execution_count": 7,
     "metadata": {},
     "output_type": "execute_result"
    }
   ],
   "source": [
    "df = df[df.columns[(df.isna().sum() <= 200000)]]\n",
    "df.shape, df.isna().sum().unique()"
   ]
  },
  {
   "cell_type": "markdown",
   "metadata": {},
   "source": [
    "## mengatasi missing value intuk kolom emp title"
   ]
  },
  {
   "cell_type": "markdown",
   "metadata": {},
   "source": [
    "saya akan untuk meng impute kolom tersebut dengan nilai emp title yang lain dengan rata2 loan amt yang mirip dengan rata2 loan amt pada kolom yang terdapat missing value"
   ]
  },
  {
   "cell_type": "code",
   "execution_count": 8,
   "metadata": {},
   "outputs": [
    {
     "data": {
      "text/plain": [
       "Index(['emp_title'], dtype='object')"
      ]
     },
     "execution_count": 8,
     "metadata": {},
     "output_type": "execute_result"
    }
   ],
   "source": [
    "df.columns[(df.isna().sum() == 27588)]"
   ]
  },
  {
   "cell_type": "code",
   "execution_count": 9,
   "metadata": {},
   "outputs": [
    {
     "data": {
      "text/html": [
       "<div>\n",
       "<style scoped>\n",
       "    .dataframe tbody tr th:only-of-type {\n",
       "        vertical-align: middle;\n",
       "    }\n",
       "\n",
       "    .dataframe tbody tr th {\n",
       "        vertical-align: top;\n",
       "    }\n",
       "\n",
       "    .dataframe thead th {\n",
       "        text-align: right;\n",
       "    }\n",
       "</style>\n",
       "<table border=\"1\" class=\"dataframe\">\n",
       "  <thead>\n",
       "    <tr style=\"text-align: right;\">\n",
       "      <th></th>\n",
       "      <th>id</th>\n",
       "      <th>member_id</th>\n",
       "      <th>loan_amnt</th>\n",
       "      <th>funded_amnt</th>\n",
       "      <th>funded_amnt_inv</th>\n",
       "      <th>int_rate</th>\n",
       "      <th>installment</th>\n",
       "      <th>annual_inc</th>\n",
       "      <th>dti</th>\n",
       "      <th>delinq_2yrs</th>\n",
       "      <th>...</th>\n",
       "      <th>total_rec_late_fee</th>\n",
       "      <th>recoveries</th>\n",
       "      <th>collection_recovery_fee</th>\n",
       "      <th>last_pymnt_amnt</th>\n",
       "      <th>collections_12_mths_ex_med</th>\n",
       "      <th>policy_code</th>\n",
       "      <th>acc_now_delinq</th>\n",
       "      <th>tot_coll_amt</th>\n",
       "      <th>tot_cur_bal</th>\n",
       "      <th>total_rev_hi_lim</th>\n",
       "    </tr>\n",
       "  </thead>\n",
       "  <tbody>\n",
       "    <tr>\n",
       "      <th>count</th>\n",
       "      <td>2.758800e+04</td>\n",
       "      <td>2.758800e+04</td>\n",
       "      <td>27588.000000</td>\n",
       "      <td>27588.000000</td>\n",
       "      <td>27588.000000</td>\n",
       "      <td>27588.000000</td>\n",
       "      <td>27588.000000</td>\n",
       "      <td>2.758400e+04</td>\n",
       "      <td>27588.000000</td>\n",
       "      <td>27576.000000</td>\n",
       "      <td>...</td>\n",
       "      <td>27588.000000</td>\n",
       "      <td>27588.000000</td>\n",
       "      <td>27588.000000</td>\n",
       "      <td>27588.000000</td>\n",
       "      <td>27564.000000</td>\n",
       "      <td>27588.0</td>\n",
       "      <td>27576.000000</td>\n",
       "      <td>23250.000000</td>\n",
       "      <td>2.325000e+04</td>\n",
       "      <td>2.325000e+04</td>\n",
       "    </tr>\n",
       "    <tr>\n",
       "      <th>mean</th>\n",
       "      <td>1.226417e+07</td>\n",
       "      <td>1.374623e+07</td>\n",
       "      <td>12450.038966</td>\n",
       "      <td>12423.555531</td>\n",
       "      <td>12370.576206</td>\n",
       "      <td>13.882511</td>\n",
       "      <td>389.109667</td>\n",
       "      <td>5.993913e+04</td>\n",
       "      <td>17.355970</td>\n",
       "      <td>0.244996</td>\n",
       "      <td>...</td>\n",
       "      <td>0.686942</td>\n",
       "      <td>84.508664</td>\n",
       "      <td>8.952722</td>\n",
       "      <td>2167.769587</td>\n",
       "      <td>0.009287</td>\n",
       "      <td>1.0</td>\n",
       "      <td>0.003626</td>\n",
       "      <td>234.189978</td>\n",
       "      <td>1.052996e+05</td>\n",
       "      <td>2.873323e+04</td>\n",
       "    </tr>\n",
       "    <tr>\n",
       "      <th>std</th>\n",
       "      <td>1.054599e+07</td>\n",
       "      <td>1.130764e+07</td>\n",
       "      <td>8149.973629</td>\n",
       "      <td>8125.978976</td>\n",
       "      <td>8133.407097</td>\n",
       "      <td>4.337363</td>\n",
       "      <td>248.782936</td>\n",
       "      <td>4.950587e+04</td>\n",
       "      <td>8.391918</td>\n",
       "      <td>0.731293</td>\n",
       "      <td>...</td>\n",
       "      <td>5.546348</td>\n",
       "      <td>525.725315</td>\n",
       "      <td>95.506122</td>\n",
       "      <td>4467.842366</td>\n",
       "      <td>0.107009</td>\n",
       "      <td>0.0</td>\n",
       "      <td>0.063628</td>\n",
       "      <td>2027.407953</td>\n",
       "      <td>1.382322e+05</td>\n",
       "      <td>3.371894e+04</td>\n",
       "    </tr>\n",
       "    <tr>\n",
       "      <th>min</th>\n",
       "      <td>5.473400e+04</td>\n",
       "      <td>7.047300e+04</td>\n",
       "      <td>500.000000</td>\n",
       "      <td>500.000000</td>\n",
       "      <td>0.000000</td>\n",
       "      <td>5.420000</td>\n",
       "      <td>15.690000</td>\n",
       "      <td>2.000000e+03</td>\n",
       "      <td>0.000000</td>\n",
       "      <td>0.000000</td>\n",
       "      <td>...</td>\n",
       "      <td>0.000000</td>\n",
       "      <td>0.000000</td>\n",
       "      <td>0.000000</td>\n",
       "      <td>0.000000</td>\n",
       "      <td>0.000000</td>\n",
       "      <td>1.0</td>\n",
       "      <td>0.000000</td>\n",
       "      <td>0.000000</td>\n",
       "      <td>0.000000e+00</td>\n",
       "      <td>0.000000e+00</td>\n",
       "    </tr>\n",
       "    <tr>\n",
       "      <th>25%</th>\n",
       "      <td>3.630122e+06</td>\n",
       "      <td>4.319177e+06</td>\n",
       "      <td>6000.000000</td>\n",
       "      <td>6000.000000</td>\n",
       "      <td>6000.000000</td>\n",
       "      <td>10.990000</td>\n",
       "      <td>202.977500</td>\n",
       "      <td>3.200000e+04</td>\n",
       "      <td>10.910000</td>\n",
       "      <td>0.000000</td>\n",
       "      <td>...</td>\n",
       "      <td>0.000000</td>\n",
       "      <td>0.000000</td>\n",
       "      <td>0.000000</td>\n",
       "      <td>245.267500</td>\n",
       "      <td>0.000000</td>\n",
       "      <td>1.0</td>\n",
       "      <td>0.000000</td>\n",
       "      <td>0.000000</td>\n",
       "      <td>1.577825e+04</td>\n",
       "      <td>1.190000e+04</td>\n",
       "    </tr>\n",
       "    <tr>\n",
       "      <th>50%</th>\n",
       "      <td>9.270024e+06</td>\n",
       "      <td>1.102986e+07</td>\n",
       "      <td>10000.000000</td>\n",
       "      <td>10000.000000</td>\n",
       "      <td>10000.000000</td>\n",
       "      <td>13.670000</td>\n",
       "      <td>330.700000</td>\n",
       "      <td>4.945150e+04</td>\n",
       "      <td>17.020000</td>\n",
       "      <td>0.000000</td>\n",
       "      <td>...</td>\n",
       "      <td>0.000000</td>\n",
       "      <td>0.000000</td>\n",
       "      <td>0.000000</td>\n",
       "      <td>431.260000</td>\n",
       "      <td>0.000000</td>\n",
       "      <td>1.0</td>\n",
       "      <td>0.000000</td>\n",
       "      <td>0.000000</td>\n",
       "      <td>4.259400e+04</td>\n",
       "      <td>2.020000e+04</td>\n",
       "    </tr>\n",
       "    <tr>\n",
       "      <th>75%</th>\n",
       "      <td>1.855476e+07</td>\n",
       "      <td>2.064871e+07</td>\n",
       "      <td>17000.000000</td>\n",
       "      <td>17000.000000</td>\n",
       "      <td>17000.000000</td>\n",
       "      <td>16.692500</td>\n",
       "      <td>513.330000</td>\n",
       "      <td>7.152000e+04</td>\n",
       "      <td>23.460000</td>\n",
       "      <td>0.000000</td>\n",
       "      <td>...</td>\n",
       "      <td>0.000000</td>\n",
       "      <td>0.000000</td>\n",
       "      <td>0.000000</td>\n",
       "      <td>1059.977500</td>\n",
       "      <td>0.000000</td>\n",
       "      <td>1.0</td>\n",
       "      <td>0.000000</td>\n",
       "      <td>0.000000</td>\n",
       "      <td>1.580712e+05</td>\n",
       "      <td>3.470000e+04</td>\n",
       "    </tr>\n",
       "    <tr>\n",
       "      <th>max</th>\n",
       "      <td>3.784184e+07</td>\n",
       "      <td>4.060491e+07</td>\n",
       "      <td>35000.000000</td>\n",
       "      <td>35000.000000</td>\n",
       "      <td>35000.000000</td>\n",
       "      <td>26.060000</td>\n",
       "      <td>1409.990000</td>\n",
       "      <td>1.440000e+06</td>\n",
       "      <td>39.990000</td>\n",
       "      <td>13.000000</td>\n",
       "      <td>...</td>\n",
       "      <td>189.180000</td>\n",
       "      <td>23035.920000</td>\n",
       "      <td>6972.590000</td>\n",
       "      <td>35680.840000</td>\n",
       "      <td>6.000000</td>\n",
       "      <td>1.0</td>\n",
       "      <td>2.000000</td>\n",
       "      <td>126297.000000</td>\n",
       "      <td>3.437283e+06</td>\n",
       "      <td>1.998700e+06</td>\n",
       "    </tr>\n",
       "  </tbody>\n",
       "</table>\n",
       "<p>8 rows × 32 columns</p>\n",
       "</div>"
      ],
      "text/plain": [
       "                 id     member_id     loan_amnt   funded_amnt  \\\n",
       "count  2.758800e+04  2.758800e+04  27588.000000  27588.000000   \n",
       "mean   1.226417e+07  1.374623e+07  12450.038966  12423.555531   \n",
       "std    1.054599e+07  1.130764e+07   8149.973629   8125.978976   \n",
       "min    5.473400e+04  7.047300e+04    500.000000    500.000000   \n",
       "25%    3.630122e+06  4.319177e+06   6000.000000   6000.000000   \n",
       "50%    9.270024e+06  1.102986e+07  10000.000000  10000.000000   \n",
       "75%    1.855476e+07  2.064871e+07  17000.000000  17000.000000   \n",
       "max    3.784184e+07  4.060491e+07  35000.000000  35000.000000   \n",
       "\n",
       "       funded_amnt_inv      int_rate   installment    annual_inc  \\\n",
       "count     27588.000000  27588.000000  27588.000000  2.758400e+04   \n",
       "mean      12370.576206     13.882511    389.109667  5.993913e+04   \n",
       "std        8133.407097      4.337363    248.782936  4.950587e+04   \n",
       "min           0.000000      5.420000     15.690000  2.000000e+03   \n",
       "25%        6000.000000     10.990000    202.977500  3.200000e+04   \n",
       "50%       10000.000000     13.670000    330.700000  4.945150e+04   \n",
       "75%       17000.000000     16.692500    513.330000  7.152000e+04   \n",
       "max       35000.000000     26.060000   1409.990000  1.440000e+06   \n",
       "\n",
       "                dti   delinq_2yrs  ...  total_rec_late_fee    recoveries  \\\n",
       "count  27588.000000  27576.000000  ...        27588.000000  27588.000000   \n",
       "mean      17.355970      0.244996  ...            0.686942     84.508664   \n",
       "std        8.391918      0.731293  ...            5.546348    525.725315   \n",
       "min        0.000000      0.000000  ...            0.000000      0.000000   \n",
       "25%       10.910000      0.000000  ...            0.000000      0.000000   \n",
       "50%       17.020000      0.000000  ...            0.000000      0.000000   \n",
       "75%       23.460000      0.000000  ...            0.000000      0.000000   \n",
       "max       39.990000     13.000000  ...          189.180000  23035.920000   \n",
       "\n",
       "       collection_recovery_fee  last_pymnt_amnt  collections_12_mths_ex_med  \\\n",
       "count             27588.000000     27588.000000                27564.000000   \n",
       "mean                  8.952722      2167.769587                    0.009287   \n",
       "std                  95.506122      4467.842366                    0.107009   \n",
       "min                   0.000000         0.000000                    0.000000   \n",
       "25%                   0.000000       245.267500                    0.000000   \n",
       "50%                   0.000000       431.260000                    0.000000   \n",
       "75%                   0.000000      1059.977500                    0.000000   \n",
       "max                6972.590000     35680.840000                    6.000000   \n",
       "\n",
       "       policy_code  acc_now_delinq   tot_coll_amt   tot_cur_bal  \\\n",
       "count      27588.0    27576.000000   23250.000000  2.325000e+04   \n",
       "mean           1.0        0.003626     234.189978  1.052996e+05   \n",
       "std            0.0        0.063628    2027.407953  1.382322e+05   \n",
       "min            1.0        0.000000       0.000000  0.000000e+00   \n",
       "25%            1.0        0.000000       0.000000  1.577825e+04   \n",
       "50%            1.0        0.000000       0.000000  4.259400e+04   \n",
       "75%            1.0        0.000000       0.000000  1.580712e+05   \n",
       "max            1.0        2.000000  126297.000000  3.437283e+06   \n",
       "\n",
       "       total_rev_hi_lim  \n",
       "count      2.325000e+04  \n",
       "mean       2.873323e+04  \n",
       "std        3.371894e+04  \n",
       "min        0.000000e+00  \n",
       "25%        1.190000e+04  \n",
       "50%        2.020000e+04  \n",
       "75%        3.470000e+04  \n",
       "max        1.998700e+06  \n",
       "\n",
       "[8 rows x 32 columns]"
      ]
     },
     "execution_count": 9,
     "metadata": {},
     "output_type": "execute_result"
    }
   ],
   "source": [
    "# mencari rata2 dan maksimum dari kolom emp_title yang memiliki missing value\n",
    "df[df['emp_title'].isna()].describe()"
   ]
  },
  {
   "cell_type": "code",
   "execution_count": 10,
   "metadata": {},
   "outputs": [],
   "source": [
    "# saya menemukan bahwa nilai rata2 loat_amnt dari kolom yang memiliki missing value ada diangka 12450.038966 maka dari itu saya mencoba mencari pekerjaan lain yang memiliki nilai rata2 loan_amnt yang lebih besar dari 12000 dan lebih kecil dari 13000\n",
    "\n",
    "lower_bound = 12000\n",
    "upper_bound = 13000\n",
    "\n",
    "job = df.groupby('emp_title').filter(lambda x: ((x.loan_amnt >= lower_bound) & (x.loan_amnt <= upper_bound)).all())"
   ]
  },
  {
   "cell_type": "markdown",
   "metadata": {},
   "source": [
    "berikut adalah list pekerjaan lain yang memiliki rata2 loan_amnt lebih besar dari 12000 dan lebih kecil dari 13000"
   ]
  },
  {
   "cell_type": "code",
   "execution_count": 11,
   "metadata": {},
   "outputs": [
    {
     "data": {
      "text/plain": [
       "Cleary Gottlieb                          3\n",
       "Departmental Technician                  3\n",
       "Waffle House                             3\n",
       "DRVER                                    2\n",
       "derrick man                              2\n",
       "                                        ..\n",
       "FAA/Ontario Air Traffic Control Tower    1\n",
       "T White Trkg inc.                        1\n",
       "industrial threaded products             1\n",
       "Holsum Bakery of Tolleson, LLC           1\n",
       "Director of High Performance             1\n",
       "Name: emp_title, Length: 14057, dtype: int64"
      ]
     },
     "execution_count": 11,
     "metadata": {},
     "output_type": "execute_result"
    }
   ],
   "source": [
    "job['emp_title'].value_counts()"
   ]
  },
  {
   "cell_type": "markdown",
   "metadata": {},
   "source": [
    "karena hasil tersebut tidak menunjukkan adanya data yang berkumpul, maka dari itu saya memutuskan untuk meng impute kolom tersebut dengan Unknown"
   ]
  },
  {
   "cell_type": "code",
   "execution_count": 12,
   "metadata": {},
   "outputs": [],
   "source": [
    "df['emp_title'].fillna('Other', inplace=True)"
   ]
  },
  {
   "cell_type": "code",
   "execution_count": 13,
   "metadata": {},
   "outputs": [
    {
     "data": {
      "text/plain": [
       "id                                0\n",
       "member_id                         0\n",
       "loan_amnt                         0\n",
       "funded_amnt                       0\n",
       "funded_amnt_inv                   0\n",
       "term                              0\n",
       "int_rate                          0\n",
       "installment                       0\n",
       "grade                             0\n",
       "sub_grade                         0\n",
       "emp_title                         0\n",
       "emp_length                    21008\n",
       "home_ownership                    0\n",
       "annual_inc                        4\n",
       "verification_status               0\n",
       "issue_d                           0\n",
       "loan_status                       0\n",
       "pymnt_plan                        0\n",
       "url                               0\n",
       "purpose                           0\n",
       "title                            20\n",
       "zip_code                          0\n",
       "addr_state                        0\n",
       "dti                               0\n",
       "delinq_2yrs                      29\n",
       "earliest_cr_line                 29\n",
       "inq_last_6mths                   29\n",
       "open_acc                         29\n",
       "pub_rec                          29\n",
       "revol_bal                         0\n",
       "revol_util                      340\n",
       "total_acc                        29\n",
       "initial_list_status               0\n",
       "out_prncp                         0\n",
       "out_prncp_inv                     0\n",
       "total_pymnt                       0\n",
       "total_pymnt_inv                   0\n",
       "total_rec_prncp                   0\n",
       "total_rec_int                     0\n",
       "total_rec_late_fee                0\n",
       "recoveries                        0\n",
       "collection_recovery_fee           0\n",
       "last_pymnt_d                    376\n",
       "last_pymnt_amnt                   0\n",
       "last_credit_pull_d               42\n",
       "collections_12_mths_ex_med      145\n",
       "policy_code                       0\n",
       "application_type                  0\n",
       "acc_now_delinq                   29\n",
       "tot_coll_amt                  70276\n",
       "tot_cur_bal                   70276\n",
       "total_rev_hi_lim              70276\n",
       "dtype: int64"
      ]
     },
     "execution_count": 13,
     "metadata": {},
     "output_type": "execute_result"
    }
   ],
   "source": [
    "df.isna().sum()"
   ]
  },
  {
   "cell_type": "markdown",
   "metadata": {},
   "source": [
    "## mengatasi missing value intuk kolom emp title"
   ]
  },
  {
   "cell_type": "markdown",
   "metadata": {},
   "source": [
    "sama seperti sebelumnya, saya berniat untuk mengimpute nilai yang kosong dengan nilai lain yang memiliki rata amt amount yang mirip"
   ]
  },
  {
   "cell_type": "code",
   "execution_count": 14,
   "metadata": {},
   "outputs": [
    {
     "data": {
      "text/plain": [
       "10+ years    150049\n",
       "2 years       41373\n",
       "3 years       36596\n",
       "< 1 year      36265\n",
       "5 years       30774\n",
       "1 year        29622\n",
       "4 years       28023\n",
       "7 years       26180\n",
       "6 years       26112\n",
       "8 years       22395\n",
       "9 years       17888\n",
       "Name: emp_length, dtype: int64"
      ]
     },
     "execution_count": 14,
     "metadata": {},
     "output_type": "execute_result"
    }
   ],
   "source": [
    "#menihat bagaimana persebaran data pada kolom ini\n",
    "df.emp_length.value_counts()"
   ]
  },
  {
   "cell_type": "code",
   "execution_count": 15,
   "metadata": {},
   "outputs": [
    {
     "data": {
      "text/html": [
       "<div>\n",
       "<style scoped>\n",
       "    .dataframe tbody tr th:only-of-type {\n",
       "        vertical-align: middle;\n",
       "    }\n",
       "\n",
       "    .dataframe tbody tr th {\n",
       "        vertical-align: top;\n",
       "    }\n",
       "\n",
       "    .dataframe thead th {\n",
       "        text-align: right;\n",
       "    }\n",
       "</style>\n",
       "<table border=\"1\" class=\"dataframe\">\n",
       "  <thead>\n",
       "    <tr style=\"text-align: right;\">\n",
       "      <th></th>\n",
       "      <th>id</th>\n",
       "      <th>member_id</th>\n",
       "      <th>loan_amnt</th>\n",
       "      <th>funded_amnt</th>\n",
       "      <th>funded_amnt_inv</th>\n",
       "      <th>int_rate</th>\n",
       "      <th>installment</th>\n",
       "      <th>annual_inc</th>\n",
       "      <th>dti</th>\n",
       "      <th>delinq_2yrs</th>\n",
       "      <th>...</th>\n",
       "      <th>total_rec_late_fee</th>\n",
       "      <th>recoveries</th>\n",
       "      <th>collection_recovery_fee</th>\n",
       "      <th>last_pymnt_amnt</th>\n",
       "      <th>collections_12_mths_ex_med</th>\n",
       "      <th>policy_code</th>\n",
       "      <th>acc_now_delinq</th>\n",
       "      <th>tot_coll_amt</th>\n",
       "      <th>tot_cur_bal</th>\n",
       "      <th>total_rev_hi_lim</th>\n",
       "    </tr>\n",
       "  </thead>\n",
       "  <tbody>\n",
       "    <tr>\n",
       "      <th>count</th>\n",
       "      <td>2.100800e+04</td>\n",
       "      <td>2.100800e+04</td>\n",
       "      <td>21008.000000</td>\n",
       "      <td>21008.000000</td>\n",
       "      <td>21008.000000</td>\n",
       "      <td>21008.000000</td>\n",
       "      <td>21008.000000</td>\n",
       "      <td>21008.000000</td>\n",
       "      <td>21008.000000</td>\n",
       "      <td>21008.000000</td>\n",
       "      <td>...</td>\n",
       "      <td>21008.000000</td>\n",
       "      <td>21008.000000</td>\n",
       "      <td>21008.000000</td>\n",
       "      <td>21008.000000</td>\n",
       "      <td>21008.000000</td>\n",
       "      <td>21008.0</td>\n",
       "      <td>21008.000000</td>\n",
       "      <td>18947.000000</td>\n",
       "      <td>1.894700e+04</td>\n",
       "      <td>18947.000000</td>\n",
       "    </tr>\n",
       "    <tr>\n",
       "      <th>mean</th>\n",
       "      <td>1.453701e+07</td>\n",
       "      <td>1.621312e+07</td>\n",
       "      <td>11542.995526</td>\n",
       "      <td>11533.108816</td>\n",
       "      <td>11520.005556</td>\n",
       "      <td>13.966062</td>\n",
       "      <td>359.853819</td>\n",
       "      <td>49428.978403</td>\n",
       "      <td>18.451529</td>\n",
       "      <td>0.245621</td>\n",
       "      <td>...</td>\n",
       "      <td>0.483539</td>\n",
       "      <td>64.982890</td>\n",
       "      <td>7.405490</td>\n",
       "      <td>1981.774990</td>\n",
       "      <td>0.010901</td>\n",
       "      <td>1.0</td>\n",
       "      <td>0.003713</td>\n",
       "      <td>249.546577</td>\n",
       "      <td>9.261982e+04</td>\n",
       "      <td>26804.934079</td>\n",
       "    </tr>\n",
       "    <tr>\n",
       "      <th>std</th>\n",
       "      <td>1.090263e+07</td>\n",
       "      <td>1.161648e+07</td>\n",
       "      <td>7506.910922</td>\n",
       "      <td>7497.977584</td>\n",
       "      <td>7491.605228</td>\n",
       "      <td>4.295129</td>\n",
       "      <td>223.879042</td>\n",
       "      <td>30929.049883</td>\n",
       "      <td>8.348041</td>\n",
       "      <td>0.741836</td>\n",
       "      <td>...</td>\n",
       "      <td>4.430532</td>\n",
       "      <td>452.302013</td>\n",
       "      <td>69.043543</td>\n",
       "      <td>4137.360676</td>\n",
       "      <td>0.117191</td>\n",
       "      <td>0.0</td>\n",
       "      <td>0.064617</td>\n",
       "      <td>2038.887405</td>\n",
       "      <td>1.154398e+05</td>\n",
       "      <td>26749.654219</td>\n",
       "    </tr>\n",
       "    <tr>\n",
       "      <th>min</th>\n",
       "      <td>4.415470e+05</td>\n",
       "      <td>4.988400e+05</td>\n",
       "      <td>1000.000000</td>\n",
       "      <td>1000.000000</td>\n",
       "      <td>400.000000</td>\n",
       "      <td>5.420000</td>\n",
       "      <td>23.010000</td>\n",
       "      <td>3000.000000</td>\n",
       "      <td>0.000000</td>\n",
       "      <td>0.000000</td>\n",
       "      <td>...</td>\n",
       "      <td>0.000000</td>\n",
       "      <td>0.000000</td>\n",
       "      <td>0.000000</td>\n",
       "      <td>0.000000</td>\n",
       "      <td>0.000000</td>\n",
       "      <td>1.0</td>\n",
       "      <td>0.000000</td>\n",
       "      <td>0.000000</td>\n",
       "      <td>0.000000e+00</td>\n",
       "      <td>0.000000</td>\n",
       "    </tr>\n",
       "    <tr>\n",
       "      <th>25%</th>\n",
       "      <td>5.790457e+06</td>\n",
       "      <td>7.190107e+06</td>\n",
       "      <td>6000.000000</td>\n",
       "      <td>6000.000000</td>\n",
       "      <td>5950.000000</td>\n",
       "      <td>10.990000</td>\n",
       "      <td>194.662500</td>\n",
       "      <td>30000.000000</td>\n",
       "      <td>12.170000</td>\n",
       "      <td>0.000000</td>\n",
       "      <td>...</td>\n",
       "      <td>0.000000</td>\n",
       "      <td>0.000000</td>\n",
       "      <td>0.000000</td>\n",
       "      <td>231.400000</td>\n",
       "      <td>0.000000</td>\n",
       "      <td>1.0</td>\n",
       "      <td>0.000000</td>\n",
       "      <td>0.000000</td>\n",
       "      <td>1.423350e+04</td>\n",
       "      <td>11500.000000</td>\n",
       "    </tr>\n",
       "    <tr>\n",
       "      <th>50%</th>\n",
       "      <td>1.172809e+07</td>\n",
       "      <td>1.367827e+07</td>\n",
       "      <td>10000.000000</td>\n",
       "      <td>10000.000000</td>\n",
       "      <td>10000.000000</td>\n",
       "      <td>13.980000</td>\n",
       "      <td>315.265000</td>\n",
       "      <td>44500.000000</td>\n",
       "      <td>18.310000</td>\n",
       "      <td>0.000000</td>\n",
       "      <td>...</td>\n",
       "      <td>0.000000</td>\n",
       "      <td>0.000000</td>\n",
       "      <td>0.000000</td>\n",
       "      <td>388.060000</td>\n",
       "      <td>0.000000</td>\n",
       "      <td>1.0</td>\n",
       "      <td>0.000000</td>\n",
       "      <td>0.000000</td>\n",
       "      <td>3.796700e+04</td>\n",
       "      <td>19200.000000</td>\n",
       "    </tr>\n",
       "    <tr>\n",
       "      <th>75%</th>\n",
       "      <td>2.280513e+07</td>\n",
       "      <td>2.497789e+07</td>\n",
       "      <td>15075.000000</td>\n",
       "      <td>15000.000000</td>\n",
       "      <td>15000.000000</td>\n",
       "      <td>16.780000</td>\n",
       "      <td>477.115000</td>\n",
       "      <td>61503.250000</td>\n",
       "      <td>24.600000</td>\n",
       "      <td>0.000000</td>\n",
       "      <td>...</td>\n",
       "      <td>0.000000</td>\n",
       "      <td>0.000000</td>\n",
       "      <td>0.000000</td>\n",
       "      <td>881.225000</td>\n",
       "      <td>0.000000</td>\n",
       "      <td>1.0</td>\n",
       "      <td>0.000000</td>\n",
       "      <td>0.000000</td>\n",
       "      <td>1.420410e+05</td>\n",
       "      <td>32900.000000</td>\n",
       "    </tr>\n",
       "    <tr>\n",
       "      <th>max</th>\n",
       "      <td>3.784184e+07</td>\n",
       "      <td>4.060491e+07</td>\n",
       "      <td>35000.000000</td>\n",
       "      <td>35000.000000</td>\n",
       "      <td>35000.000000</td>\n",
       "      <td>26.060000</td>\n",
       "      <td>1368.750000</td>\n",
       "      <td>900000.000000</td>\n",
       "      <td>39.990000</td>\n",
       "      <td>13.000000</td>\n",
       "      <td>...</td>\n",
       "      <td>184.600000</td>\n",
       "      <td>23035.920000</td>\n",
       "      <td>4146.465600</td>\n",
       "      <td>35680.840000</td>\n",
       "      <td>6.000000</td>\n",
       "      <td>1.0</td>\n",
       "      <td>2.000000</td>\n",
       "      <td>126297.000000</td>\n",
       "      <td>1.500259e+06</td>\n",
       "      <td>649300.000000</td>\n",
       "    </tr>\n",
       "  </tbody>\n",
       "</table>\n",
       "<p>8 rows × 32 columns</p>\n",
       "</div>"
      ],
      "text/plain": [
       "                 id     member_id     loan_amnt   funded_amnt  \\\n",
       "count  2.100800e+04  2.100800e+04  21008.000000  21008.000000   \n",
       "mean   1.453701e+07  1.621312e+07  11542.995526  11533.108816   \n",
       "std    1.090263e+07  1.161648e+07   7506.910922   7497.977584   \n",
       "min    4.415470e+05  4.988400e+05   1000.000000   1000.000000   \n",
       "25%    5.790457e+06  7.190107e+06   6000.000000   6000.000000   \n",
       "50%    1.172809e+07  1.367827e+07  10000.000000  10000.000000   \n",
       "75%    2.280513e+07  2.497789e+07  15075.000000  15000.000000   \n",
       "max    3.784184e+07  4.060491e+07  35000.000000  35000.000000   \n",
       "\n",
       "       funded_amnt_inv      int_rate   installment     annual_inc  \\\n",
       "count     21008.000000  21008.000000  21008.000000   21008.000000   \n",
       "mean      11520.005556     13.966062    359.853819   49428.978403   \n",
       "std        7491.605228      4.295129    223.879042   30929.049883   \n",
       "min         400.000000      5.420000     23.010000    3000.000000   \n",
       "25%        5950.000000     10.990000    194.662500   30000.000000   \n",
       "50%       10000.000000     13.980000    315.265000   44500.000000   \n",
       "75%       15000.000000     16.780000    477.115000   61503.250000   \n",
       "max       35000.000000     26.060000   1368.750000  900000.000000   \n",
       "\n",
       "                dti   delinq_2yrs  ...  total_rec_late_fee    recoveries  \\\n",
       "count  21008.000000  21008.000000  ...        21008.000000  21008.000000   \n",
       "mean      18.451529      0.245621  ...            0.483539     64.982890   \n",
       "std        8.348041      0.741836  ...            4.430532    452.302013   \n",
       "min        0.000000      0.000000  ...            0.000000      0.000000   \n",
       "25%       12.170000      0.000000  ...            0.000000      0.000000   \n",
       "50%       18.310000      0.000000  ...            0.000000      0.000000   \n",
       "75%       24.600000      0.000000  ...            0.000000      0.000000   \n",
       "max       39.990000     13.000000  ...          184.600000  23035.920000   \n",
       "\n",
       "       collection_recovery_fee  last_pymnt_amnt  collections_12_mths_ex_med  \\\n",
       "count             21008.000000     21008.000000                21008.000000   \n",
       "mean                  7.405490      1981.774990                    0.010901   \n",
       "std                  69.043543      4137.360676                    0.117191   \n",
       "min                   0.000000         0.000000                    0.000000   \n",
       "25%                   0.000000       231.400000                    0.000000   \n",
       "50%                   0.000000       388.060000                    0.000000   \n",
       "75%                   0.000000       881.225000                    0.000000   \n",
       "max                4146.465600     35680.840000                    6.000000   \n",
       "\n",
       "       policy_code  acc_now_delinq   tot_coll_amt   tot_cur_bal  \\\n",
       "count      21008.0    21008.000000   18947.000000  1.894700e+04   \n",
       "mean           1.0        0.003713     249.546577  9.261982e+04   \n",
       "std            0.0        0.064617    2038.887405  1.154398e+05   \n",
       "min            1.0        0.000000       0.000000  0.000000e+00   \n",
       "25%            1.0        0.000000       0.000000  1.423350e+04   \n",
       "50%            1.0        0.000000       0.000000  3.796700e+04   \n",
       "75%            1.0        0.000000       0.000000  1.420410e+05   \n",
       "max            1.0        2.000000  126297.000000  1.500259e+06   \n",
       "\n",
       "       total_rev_hi_lim  \n",
       "count      18947.000000  \n",
       "mean       26804.934079  \n",
       "std        26749.654219  \n",
       "min            0.000000  \n",
       "25%        11500.000000  \n",
       "50%        19200.000000  \n",
       "75%        32900.000000  \n",
       "max       649300.000000  \n",
       "\n",
       "[8 rows x 32 columns]"
      ]
     },
     "execution_count": 15,
     "metadata": {},
     "output_type": "execute_result"
    }
   ],
   "source": [
    "#mencari rata2 amt amount dari kolom yang memiliki missing value\n",
    "df[df['emp_length'].isna()].describe()"
   ]
  },
  {
   "cell_type": "code",
   "execution_count": 16,
   "metadata": {},
   "outputs": [],
   "source": [
    "# membuat lower bound dan upper bound untuk kolom emp_length\n",
    "lower_bound = 11500\n",
    "upper_bound = 11600\n",
    "\n",
    "\n",
    "# melakukan filtering data berdasarkan lower bound dan upper bound\n",
    "length = df.groupby('emp_title').filter(lambda x: ((x.loan_amnt.mean() >= lower_bound) & (x.loan_amnt.mean() <= upper_bound)).all())"
   ]
  },
  {
   "cell_type": "code",
   "execution_count": 17,
   "metadata": {},
   "outputs": [
    {
     "data": {
      "text/plain": [
       "10+ years    745\n",
       "2 years      258\n",
       "< 1 year     232\n",
       "5 years      207\n",
       "3 years      196\n",
       "4 years      182\n",
       "6 years      177\n",
       "1 year       168\n",
       "7 years      151\n",
       "8 years      133\n",
       "9 years      112\n",
       "Name: emp_length, dtype: int64"
      ]
     },
     "execution_count": 17,
     "metadata": {},
     "output_type": "execute_result"
    }
   ],
   "source": [
    "# mendapatkan hasil bahwa berdasarkan hasil filtering sebelumnya didapat bahwa adanya data yang berkumpul yaitu ada di 10=years sehingga saya akan mengimpute 10=years ke kolom emp_length\n",
    "\n",
    "length.emp_length.value_counts()"
   ]
  },
  {
   "cell_type": "code",
   "execution_count": 18,
   "metadata": {},
   "outputs": [],
   "source": [
    "# mengimpute data ke kolom emp_length\n",
    "\n",
    "df['emp_length'].fillna('10+ years', inplace=True)"
   ]
  },
  {
   "cell_type": "code",
   "execution_count": 19,
   "metadata": {},
   "outputs": [
    {
     "data": {
      "text/plain": [
       "id                                0\n",
       "member_id                         0\n",
       "loan_amnt                         0\n",
       "funded_amnt                       0\n",
       "funded_amnt_inv                   0\n",
       "term                              0\n",
       "int_rate                          0\n",
       "installment                       0\n",
       "grade                             0\n",
       "sub_grade                         0\n",
       "emp_title                         0\n",
       "emp_length                        0\n",
       "home_ownership                    0\n",
       "annual_inc                        4\n",
       "verification_status               0\n",
       "issue_d                           0\n",
       "loan_status                       0\n",
       "pymnt_plan                        0\n",
       "url                               0\n",
       "purpose                           0\n",
       "title                            20\n",
       "zip_code                          0\n",
       "addr_state                        0\n",
       "dti                               0\n",
       "delinq_2yrs                      29\n",
       "earliest_cr_line                 29\n",
       "inq_last_6mths                   29\n",
       "open_acc                         29\n",
       "pub_rec                          29\n",
       "revol_bal                         0\n",
       "revol_util                      340\n",
       "total_acc                        29\n",
       "initial_list_status               0\n",
       "out_prncp                         0\n",
       "out_prncp_inv                     0\n",
       "total_pymnt                       0\n",
       "total_pymnt_inv                   0\n",
       "total_rec_prncp                   0\n",
       "total_rec_int                     0\n",
       "total_rec_late_fee                0\n",
       "recoveries                        0\n",
       "collection_recovery_fee           0\n",
       "last_pymnt_d                    376\n",
       "last_pymnt_amnt                   0\n",
       "last_credit_pull_d               42\n",
       "collections_12_mths_ex_med      145\n",
       "policy_code                       0\n",
       "application_type                  0\n",
       "acc_now_delinq                   29\n",
       "tot_coll_amt                  70276\n",
       "tot_cur_bal                   70276\n",
       "total_rev_hi_lim              70276\n",
       "dtype: int64"
      ]
     },
     "execution_count": 19,
     "metadata": {},
     "output_type": "execute_result"
    }
   ],
   "source": [
    "# mengecek apakah ada data yang memiliki missing value\n",
    "\n",
    "df.isna().sum()"
   ]
  },
  {
   "cell_type": "markdown",
   "metadata": {},
   "source": [
    "## mengatasi missing value pada kolom tot_coll_amt, tot_cur_bal, dan total_rev_hi_lim"
   ]
  },
  {
   "cell_type": "markdown",
   "metadata": {},
   "source": [
    "saya berniat untuk mengimpute kolomg tersebut dengan nilai data2 dari setiap kolom"
   ]
  },
  {
   "cell_type": "code",
   "execution_count": 20,
   "metadata": {},
   "outputs": [
    {
     "data": {
      "text/plain": [
       "(count    3.960090e+05\n",
       " mean     1.919135e+02\n",
       " std      1.463021e+04\n",
       " min      0.000000e+00\n",
       " 25%      0.000000e+00\n",
       " 50%      0.000000e+00\n",
       " 75%      0.000000e+00\n",
       " max      9.152545e+06\n",
       " Name: tot_coll_amt, dtype: float64,\n",
       " count    3.960090e+05\n",
       " mean     1.388017e+05\n",
       " std      1.521147e+05\n",
       " min      0.000000e+00\n",
       " 25%      2.861800e+04\n",
       " 50%      8.153900e+04\n",
       " 75%      2.089530e+05\n",
       " max      8.000078e+06\n",
       " Name: tot_cur_bal, dtype: float64,\n",
       " count    3.960090e+05\n",
       " mean     3.037909e+04\n",
       " std      3.724713e+04\n",
       " min      0.000000e+00\n",
       " 25%      1.350000e+04\n",
       " 50%      2.280000e+04\n",
       " 75%      3.790000e+04\n",
       " max      9.999999e+06\n",
       " Name: total_rev_hi_lim, dtype: float64)"
      ]
     },
     "execution_count": 20,
     "metadata": {},
     "output_type": "execute_result"
    }
   ],
   "source": [
    "# mencari rata2 dari setiap kolom\n",
    "\n",
    "df['tot_coll_amt'].describe(), df['tot_cur_bal'].describe(), df['total_rev_hi_lim'].describe()"
   ]
  },
  {
   "cell_type": "code",
   "execution_count": 21,
   "metadata": {},
   "outputs": [],
   "source": [
    "# mengimpute kolom tersebut dengan nilai rata2\n",
    "\n",
    "df['tot_coll_amt'].fillna(df['tot_coll_amt'].mean(), inplace=True)\n",
    "df['tot_cur_bal'].fillna(df['tot_cur_bal'].mean(), inplace=True)\n",
    "df['total_rev_hi_lim'].fillna(df['total_rev_hi_lim'].mean(), inplace=True)"
   ]
  },
  {
   "cell_type": "code",
   "execution_count": 22,
   "metadata": {},
   "outputs": [
    {
     "data": {
      "text/plain": [
       "(count    4.662850e+05\n",
       " mean     1.919135e+02\n",
       " std      1.348272e+04\n",
       " min      0.000000e+00\n",
       " 25%      0.000000e+00\n",
       " 50%      0.000000e+00\n",
       " 75%      6.200000e+01\n",
       " max      9.152545e+06\n",
       " Name: tot_coll_amt, dtype: float64,\n",
       " count    4.662850e+05\n",
       " mean     1.388017e+05\n",
       " std      1.401838e+05\n",
       " min      0.000000e+00\n",
       " 25%      3.361100e+04\n",
       " 50%      1.271600e+05\n",
       " 75%      1.849300e+05\n",
       " max      8.000078e+06\n",
       " Name: tot_cur_bal, dtype: float64,\n",
       " count    4.662850e+05\n",
       " mean     3.037909e+04\n",
       " std      3.432571e+04\n",
       " min      0.000000e+00\n",
       " 25%      1.500000e+04\n",
       " 50%      2.710000e+04\n",
       " 75%      3.430000e+04\n",
       " max      9.999999e+06\n",
       " Name: total_rev_hi_lim, dtype: float64)"
      ]
     },
     "execution_count": 22,
     "metadata": {},
     "output_type": "execute_result"
    }
   ],
   "source": [
    "# melihat hasil impute apakah nilai rata2 dari setiap kolom berubah banyak atau tidak\n",
    "\n",
    "df['tot_coll_amt'].describe(), df['tot_cur_bal'].describe(), df['total_rev_hi_lim'].describe()"
   ]
  },
  {
   "cell_type": "code",
   "execution_count": 23,
   "metadata": {},
   "outputs": [
    {
     "data": {
      "text/plain": [
       "id                              0\n",
       "member_id                       0\n",
       "loan_amnt                       0\n",
       "funded_amnt                     0\n",
       "funded_amnt_inv                 0\n",
       "term                            0\n",
       "int_rate                        0\n",
       "installment                     0\n",
       "grade                           0\n",
       "sub_grade                       0\n",
       "emp_title                       0\n",
       "emp_length                      0\n",
       "home_ownership                  0\n",
       "annual_inc                      4\n",
       "verification_status             0\n",
       "issue_d                         0\n",
       "loan_status                     0\n",
       "pymnt_plan                      0\n",
       "url                             0\n",
       "purpose                         0\n",
       "title                          20\n",
       "zip_code                        0\n",
       "addr_state                      0\n",
       "dti                             0\n",
       "delinq_2yrs                    29\n",
       "earliest_cr_line               29\n",
       "inq_last_6mths                 29\n",
       "open_acc                       29\n",
       "pub_rec                        29\n",
       "revol_bal                       0\n",
       "revol_util                    340\n",
       "total_acc                      29\n",
       "initial_list_status             0\n",
       "out_prncp                       0\n",
       "out_prncp_inv                   0\n",
       "total_pymnt                     0\n",
       "total_pymnt_inv                 0\n",
       "total_rec_prncp                 0\n",
       "total_rec_int                   0\n",
       "total_rec_late_fee              0\n",
       "recoveries                      0\n",
       "collection_recovery_fee         0\n",
       "last_pymnt_d                  376\n",
       "last_pymnt_amnt                 0\n",
       "last_credit_pull_d             42\n",
       "collections_12_mths_ex_med    145\n",
       "policy_code                     0\n",
       "application_type                0\n",
       "acc_now_delinq                 29\n",
       "tot_coll_amt                    0\n",
       "tot_cur_bal                     0\n",
       "total_rev_hi_lim                0\n",
       "dtype: int64"
      ]
     },
     "execution_count": 23,
     "metadata": {},
     "output_type": "execute_result"
    }
   ],
   "source": [
    "df.isna().sum()"
   ]
  },
  {
   "cell_type": "code",
   "execution_count": 24,
   "metadata": {},
   "outputs": [
    {
     "data": {
      "text/plain": [
       "array([  0,   4,  20,  29, 340, 376,  42, 145], dtype=int64)"
      ]
     },
     "execution_count": 24,
     "metadata": {},
     "output_type": "execute_result"
    }
   ],
   "source": [
    "df.isna().sum().unique()"
   ]
  },
  {
   "cell_type": "markdown",
   "metadata": {},
   "source": [
    "## sisa kolom yang memiliki missing value tidak akan saya impute melainkan akan saya drop"
   ]
  },
  {
   "cell_type": "code",
   "execution_count": 25,
   "metadata": {},
   "outputs": [],
   "source": [
    "df.dropna(inplace=True)"
   ]
  },
  {
   "cell_type": "code",
   "execution_count": 26,
   "metadata": {},
   "outputs": [
    {
     "data": {
      "text/plain": [
       "id                            0\n",
       "member_id                     0\n",
       "loan_amnt                     0\n",
       "funded_amnt                   0\n",
       "funded_amnt_inv               0\n",
       "term                          0\n",
       "int_rate                      0\n",
       "installment                   0\n",
       "grade                         0\n",
       "sub_grade                     0\n",
       "emp_title                     0\n",
       "emp_length                    0\n",
       "home_ownership                0\n",
       "annual_inc                    0\n",
       "verification_status           0\n",
       "issue_d                       0\n",
       "loan_status                   0\n",
       "pymnt_plan                    0\n",
       "url                           0\n",
       "purpose                       0\n",
       "title                         0\n",
       "zip_code                      0\n",
       "addr_state                    0\n",
       "dti                           0\n",
       "delinq_2yrs                   0\n",
       "earliest_cr_line              0\n",
       "inq_last_6mths                0\n",
       "open_acc                      0\n",
       "pub_rec                       0\n",
       "revol_bal                     0\n",
       "revol_util                    0\n",
       "total_acc                     0\n",
       "initial_list_status           0\n",
       "out_prncp                     0\n",
       "out_prncp_inv                 0\n",
       "total_pymnt                   0\n",
       "total_pymnt_inv               0\n",
       "total_rec_prncp               0\n",
       "total_rec_int                 0\n",
       "total_rec_late_fee            0\n",
       "recoveries                    0\n",
       "collection_recovery_fee       0\n",
       "last_pymnt_d                  0\n",
       "last_pymnt_amnt               0\n",
       "last_credit_pull_d            0\n",
       "collections_12_mths_ex_med    0\n",
       "policy_code                   0\n",
       "application_type              0\n",
       "acc_now_delinq                0\n",
       "tot_coll_amt                  0\n",
       "tot_cur_bal                   0\n",
       "total_rev_hi_lim              0\n",
       "dtype: int64"
      ]
     },
     "execution_count": 26,
     "metadata": {},
     "output_type": "execute_result"
    }
   ],
   "source": [
    "df.isna().sum()"
   ]
  },
  {
   "cell_type": "code",
   "execution_count": 27,
   "metadata": {},
   "outputs": [
    {
     "data": {
      "text/plain": [
       "<AxesSubplot:>"
      ]
     },
     "execution_count": 27,
     "metadata": {},
     "output_type": "execute_result"
    },
    {
     "data": {
      "image/png": "[encoded data removed]",
      "text/plain": [
       "<Figure size 1440x720 with 2 Axes>"
      ]
     },
     "metadata": {
      "needs_background": "light"
     },
     "output_type": "display_data"
    }
   ],
   "source": [
    "plt.figure(figsize=(20,10))\n",
    "sns.heatmap(df.isna().T,\n",
    "            cmap=\"YlGnBu\",\n",
    "            cbar_kws={'label': 'Missing Data'})"
   ]
  },
  {
   "cell_type": "code",
   "execution_count": 28,
   "metadata": {},
   "outputs": [
    {
     "data": {
      "text/plain": [
       "array(['Fully Paid', 'Charged Off', 'Current', 'Default',\n",
       "       'Late (31-120 days)', 'In Grace Period', 'Late (16-30 days)',\n",
       "       'Does not meet the credit policy. Status:Fully Paid',\n",
       "       'Does not meet the credit policy. Status:Charged Off'],\n",
       "      dtype=object)"
      ]
     },
     "execution_count": 28,
     "metadata": {},
     "output_type": "execute_result"
    }
   ],
   "source": [
    "df['loan_status'].unique()"
   ]
  },
  {
   "cell_type": "code",
   "execution_count": 29,
   "metadata": {},
   "outputs": [
    {
     "data": {
      "text/plain": [
       "Current                                                224096\n",
       "Fully Paid                                             184524\n",
       "Charged Off                                             42056\n",
       "Late (31-120 days)                                       6895\n",
       "In Grace Period                                          3144\n",
       "Does not meet the credit policy. Status:Fully Paid       1913\n",
       "Late (16-30 days)                                        1217\n",
       "Default                                                   832\n",
       "Does not meet the credit policy. Status:Charged Off       725\n",
       "Name: loan_status, dtype: int64"
      ]
     },
     "execution_count": 29,
     "metadata": {},
     "output_type": "execute_result"
    }
   ],
   "source": [
    "df['loan_status'].value_counts()"
   ]
  },
  {
   "cell_type": "code",
   "execution_count": 30,
   "metadata": {},
   "outputs": [
    {
     "data": {
      "text/html": [
       "<div>\n",
       "<style scoped>\n",
       "    .dataframe tbody tr th:only-of-type {\n",
       "        vertical-align: middle;\n",
       "    }\n",
       "\n",
       "    .dataframe tbody tr th {\n",
       "        vertical-align: top;\n",
       "    }\n",
       "\n",
       "    .dataframe thead th {\n",
       "        text-align: right;\n",
       "    }\n",
       "</style>\n",
       "<table border=\"1\" class=\"dataframe\">\n",
       "  <thead>\n",
       "    <tr style=\"text-align: right;\">\n",
       "      <th></th>\n",
       "      <th>id</th>\n",
       "      <th>member_id</th>\n",
       "      <th>loan_amnt</th>\n",
       "      <th>funded_amnt</th>\n",
       "      <th>funded_amnt_inv</th>\n",
       "      <th>term</th>\n",
       "      <th>int_rate</th>\n",
       "      <th>installment</th>\n",
       "      <th>grade</th>\n",
       "      <th>sub_grade</th>\n",
       "      <th>...</th>\n",
       "      <th>last_pymnt_d</th>\n",
       "      <th>last_pymnt_amnt</th>\n",
       "      <th>last_credit_pull_d</th>\n",
       "      <th>collections_12_mths_ex_med</th>\n",
       "      <th>policy_code</th>\n",
       "      <th>application_type</th>\n",
       "      <th>acc_now_delinq</th>\n",
       "      <th>tot_coll_amt</th>\n",
       "      <th>tot_cur_bal</th>\n",
       "      <th>total_rev_hi_lim</th>\n",
       "    </tr>\n",
       "  </thead>\n",
       "  <tbody>\n",
       "    <tr>\n",
       "      <th>0</th>\n",
       "      <td>1077501</td>\n",
       "      <td>1296599</td>\n",
       "      <td>5000</td>\n",
       "      <td>5000</td>\n",
       "      <td>4975.0</td>\n",
       "      <td>36 months</td>\n",
       "      <td>10.65</td>\n",
       "      <td>162.87</td>\n",
       "      <td>B</td>\n",
       "      <td>B2</td>\n",
       "      <td>...</td>\n",
       "      <td>Jan-15</td>\n",
       "      <td>171.62</td>\n",
       "      <td>Jan-16</td>\n",
       "      <td>0.0</td>\n",
       "      <td>1</td>\n",
       "      <td>INDIVIDUAL</td>\n",
       "      <td>0.0</td>\n",
       "      <td>191.913517</td>\n",
       "      <td>138801.713385</td>\n",
       "      <td>30379.087771</td>\n",
       "    </tr>\n",
       "    <tr>\n",
       "      <th>1</th>\n",
       "      <td>1077430</td>\n",
       "      <td>1314167</td>\n",
       "      <td>2500</td>\n",
       "      <td>2500</td>\n",
       "      <td>2500.0</td>\n",
       "      <td>60 months</td>\n",
       "      <td>15.27</td>\n",
       "      <td>59.83</td>\n",
       "      <td>C</td>\n",
       "      <td>C4</td>\n",
       "      <td>...</td>\n",
       "      <td>Apr-13</td>\n",
       "      <td>119.66</td>\n",
       "      <td>Sep-13</td>\n",
       "      <td>0.0</td>\n",
       "      <td>1</td>\n",
       "      <td>INDIVIDUAL</td>\n",
       "      <td>0.0</td>\n",
       "      <td>191.913517</td>\n",
       "      <td>138801.713385</td>\n",
       "      <td>30379.087771</td>\n",
       "    </tr>\n",
       "    <tr>\n",
       "      <th>2</th>\n",
       "      <td>1077175</td>\n",
       "      <td>1313524</td>\n",
       "      <td>2400</td>\n",
       "      <td>2400</td>\n",
       "      <td>2400.0</td>\n",
       "      <td>36 months</td>\n",
       "      <td>15.96</td>\n",
       "      <td>84.33</td>\n",
       "      <td>C</td>\n",
       "      <td>C5</td>\n",
       "      <td>...</td>\n",
       "      <td>Jun-14</td>\n",
       "      <td>649.91</td>\n",
       "      <td>Jan-16</td>\n",
       "      <td>0.0</td>\n",
       "      <td>1</td>\n",
       "      <td>INDIVIDUAL</td>\n",
       "      <td>0.0</td>\n",
       "      <td>191.913517</td>\n",
       "      <td>138801.713385</td>\n",
       "      <td>30379.087771</td>\n",
       "    </tr>\n",
       "    <tr>\n",
       "      <th>3</th>\n",
       "      <td>1076863</td>\n",
       "      <td>1277178</td>\n",
       "      <td>10000</td>\n",
       "      <td>10000</td>\n",
       "      <td>10000.0</td>\n",
       "      <td>36 months</td>\n",
       "      <td>13.49</td>\n",
       "      <td>339.31</td>\n",
       "      <td>C</td>\n",
       "      <td>C1</td>\n",
       "      <td>...</td>\n",
       "      <td>Jan-15</td>\n",
       "      <td>357.48</td>\n",
       "      <td>Jan-15</td>\n",
       "      <td>0.0</td>\n",
       "      <td>1</td>\n",
       "      <td>INDIVIDUAL</td>\n",
       "      <td>0.0</td>\n",
       "      <td>191.913517</td>\n",
       "      <td>138801.713385</td>\n",
       "      <td>30379.087771</td>\n",
       "    </tr>\n",
       "    <tr>\n",
       "      <th>4</th>\n",
       "      <td>1075358</td>\n",
       "      <td>1311748</td>\n",
       "      <td>3000</td>\n",
       "      <td>3000</td>\n",
       "      <td>3000.0</td>\n",
       "      <td>60 months</td>\n",
       "      <td>12.69</td>\n",
       "      <td>67.79</td>\n",
       "      <td>B</td>\n",
       "      <td>B5</td>\n",
       "      <td>...</td>\n",
       "      <td>Jan-16</td>\n",
       "      <td>67.79</td>\n",
       "      <td>Jan-16</td>\n",
       "      <td>0.0</td>\n",
       "      <td>1</td>\n",
       "      <td>INDIVIDUAL</td>\n",
       "      <td>0.0</td>\n",
       "      <td>191.913517</td>\n",
       "      <td>138801.713385</td>\n",
       "      <td>30379.087771</td>\n",
       "    </tr>\n",
       "  </tbody>\n",
       "</table>\n",
       "<p>5 rows × 52 columns</p>\n",
       "</div>"
      ],
      "text/plain": [
       "        id  member_id  loan_amnt  funded_amnt  funded_amnt_inv        term  \\\n",
       "0  1077501    1296599       5000         5000           4975.0   36 months   \n",
       "1  1077430    1314167       2500         2500           2500.0   60 months   \n",
       "2  1077175    1313524       2400         2400           2400.0   36 months   \n",
       "3  1076863    1277178      10000        10000          10000.0   36 months   \n",
       "4  1075358    1311748       3000         3000           3000.0   60 months   \n",
       "\n",
       "   int_rate  installment grade sub_grade  ... last_pymnt_d last_pymnt_amnt  \\\n",
       "0     10.65       162.87     B        B2  ...       Jan-15          171.62   \n",
       "1     15.27        59.83     C        C4  ...       Apr-13          119.66   \n",
       "2     15.96        84.33     C        C5  ...       Jun-14          649.91   \n",
       "3     13.49       339.31     C        C1  ...       Jan-15          357.48   \n",
       "4     12.69        67.79     B        B5  ...       Jan-16           67.79   \n",
       "\n",
       "  last_credit_pull_d  collections_12_mths_ex_med policy_code application_type  \\\n",
       "0             Jan-16                         0.0           1       INDIVIDUAL   \n",
       "1             Sep-13                         0.0           1       INDIVIDUAL   \n",
       "2             Jan-16                         0.0           1       INDIVIDUAL   \n",
       "3             Jan-15                         0.0           1       INDIVIDUAL   \n",
       "4             Jan-16                         0.0           1       INDIVIDUAL   \n",
       "\n",
       "   acc_now_delinq tot_coll_amt    tot_cur_bal total_rev_hi_lim  \n",
       "0             0.0   191.913517  138801.713385     30379.087771  \n",
       "1             0.0   191.913517  138801.713385     30379.087771  \n",
       "2             0.0   191.913517  138801.713385     30379.087771  \n",
       "3             0.0   191.913517  138801.713385     30379.087771  \n",
       "4             0.0   191.913517  138801.713385     30379.087771  \n",
       "\n",
       "[5 rows x 52 columns]"
      ]
     },
     "execution_count": 30,
     "metadata": {},
     "output_type": "execute_result"
    }
   ],
   "source": [
    "mapping_loan_status = {\n",
    "    'Current': 1,\n",
    "    'Fully Paid': 1,\n",
    "    'Charged Off': 0,\n",
    "    'Late (31-120 days)': 0,\n",
    "    'In Grace Period': 1,\n",
    "    'Does not meet the credit policy. Status:Fully Paid': 1,\n",
    "    'Late (16-30 days)': 0,\n",
    "    'Default':1,\n",
    "    'Does not meet the credit policy. Status:Charged Off':0\n",
    "}\n",
    "\n",
    "df['loan_status'] = df['loan_status'].map(mapping_loan_status)\n",
    "df.head()"
   ]
  },
  {
   "cell_type": "code",
   "execution_count": 31,
   "metadata": {},
   "outputs": [
    {
     "data": {
      "text/plain": [
       "1    414509\n",
       "0     50893\n",
       "Name: loan_status, dtype: int64"
      ]
     },
     "execution_count": 31,
     "metadata": {},
     "output_type": "execute_result"
    }
   ],
   "source": [
    "df['loan_status'].value_counts()"
   ]
  },
  {
   "cell_type": "code",
   "execution_count": 51,
   "metadata": {},
   "outputs": [
    {
     "data": {
      "image/png": "[encoded data removed]",
      "text/plain": [
       "<Figure size 432x288 with 1 Axes>"
      ]
     },
     "metadata": {},
     "output_type": "display_data"
    }
   ],
   "source": [
    "# Pie chart, where the slices will be ordered and plotted counter-clockwise:\n",
    "labels = [ 'Good :)', 'Bad :(']\n",
    "explode = (0, 0.2)  # only \"explode\" the 2nd slice (i.e. 'Hogs')\n",
    "\n",
    "#define Seaborn color palette to use\n",
    "colors = sns.color_palette('bright')[0:6]\n",
    "\n",
    "fig1, ax1 = plt.subplots()\n",
    "ax1.pie(df['loan_status'].value_counts(), explode=explode, labels=labels, autopct='%1.1f%%',\n",
    "        shadow=True, startangle=100, colors=colors)\n",
    "ax1.axis('equal')  # Equal aspect ratio ensures that pie is drawn as a circle.\n",
    "\n",
    "plt.show()"
   ]
  },
  {
   "cell_type": "markdown",
   "metadata": {},
   "source": [
    "## menghapus kolom-kolom yang tidak digunakan"
   ]
  },
  {
   "cell_type": "code",
   "execution_count": 32,
   "metadata": {},
   "outputs": [],
   "source": [
    "df.drop(columns=['id', 'member_id'], inplace=True)"
   ]
  },
  {
   "cell_type": "code",
   "execution_count": 54,
   "metadata": {},
   "outputs": [],
   "source": [
    "df.drop(columns=['application_type'], inplace=True)"
   ]
  },
  {
   "cell_type": "markdown",
   "metadata": {},
   "source": [
    "## sekarang data sudah bersih dari missing value"
   ]
  },
  {
   "cell_type": "code",
   "execution_count": null,
   "metadata": {},
   "outputs": [],
   "source": [
    "cat = df[df.dtypes[df.dtypes == 'object'].index]\n",
    "num = df[df.dtypes[df.dtypes != 'object'].index]"
   ]
  },
  {
   "cell_type": "code",
   "execution_count": null,
   "metadata": {},
   "outputs": [
    {
     "data": {
      "text/plain": [
       "(Index(['term', 'grade', 'sub_grade', 'emp_title', 'emp_length',\n",
       "        'home_ownership', 'verification_status', 'issue_d', 'loan_status',\n",
       "        'pymnt_plan', 'url', 'purpose', 'title', 'zip_code', 'addr_state',\n",
       "        'earliest_cr_line', 'initial_list_status', 'last_pymnt_d',\n",
       "        'last_credit_pull_d', 'application_type'],\n",
       "       dtype='object'),\n",
       " Index(['id', 'member_id', 'loan_amnt', 'funded_amnt', 'funded_amnt_inv',\n",
       "        'int_rate', 'installment', 'annual_inc', 'dti', 'delinq_2yrs',\n",
       "        'inq_last_6mths', 'open_acc', 'pub_rec', 'revol_bal', 'revol_util',\n",
       "        'total_acc', 'out_prncp', 'out_prncp_inv', 'total_pymnt',\n",
       "        'total_pymnt_inv', 'total_rec_prncp', 'total_rec_int',\n",
       "        'total_rec_late_fee', 'recoveries', 'collection_recovery_fee',\n",
       "        'last_pymnt_amnt', 'collections_12_mths_ex_med', 'policy_code',\n",
       "        'acc_now_delinq', 'tot_coll_amt', 'tot_cur_bal', 'total_rev_hi_lim'],\n",
       "       dtype='object'))"
      ]
     },
     "execution_count": 29,
     "metadata": {},
     "output_type": "execute_result"
    }
   ],
   "source": [
    "cat.columns, num.columns"
   ]
  },
  {
   "cell_type": "code",
   "execution_count": null,
   "metadata": {},
   "outputs": [],
   "source": []
  }
 ],
 "metadata": {
  "kernelspec": {
   "display_name": "Python 3.10.2 64-bit",
   "language": "python",
   "name": "python3"
  },
  "language_info": {
   "codemirror_mode": {
    "name": "ipython",
    "version": 3
   },
   "file_extension": ".py",
   "mimetype": "text/x-python",
   "name": "python",
   "nbconvert_exporter": "python",
   "pygments_lexer": "ipython3",
   "version": "3.10.2"
  },
  "orig_nbformat": 4,
  "vscode": {
   "interpreter": {
    "hash": "865d8b2eb28e274047ba64063dfb6a2aabf0dfec4905d304d7a76618dae6fdd4"
   }
  }
 },
 "nbformat": 4,
 "nbformat_minor": 2
}
